{
 "cells": [
  {
   "cell_type": "markdown",
   "metadata": {},
   "source": [
    "Testing the difference between differend algorithms"
   ]
  },
  {
   "cell_type": "code",
   "execution_count": 1,
   "metadata": {},
   "outputs": [],
   "source": [
    "import pandas as pd\n",
    "import seaborn as sns\n",
    "import matplotlib.pyplot as plt\n",
    "import os"
   ]
  },
  {
   "cell_type": "markdown",
   "metadata": {},
   "source": [
    "Loading data"
   ]
  },
  {
   "cell_type": "code",
   "execution_count": 2,
   "metadata": {},
   "outputs": [],
   "source": [
    "BASE_PATH = 'results/lenet_compres_50/'\n",
    "SAVE_FILES = {\n",
    "    'RND': 'test_RND_save.csv',\n",
    "    'PSO': 'test_PSO_save.csv',\n",
    "    'GA': 'test_GA_save.csv',\n",
    "}"
   ]
  },
  {
   "cell_type": "code",
   "execution_count": 3,
   "metadata": {},
   "outputs": [
    {
     "data": {
      "text/html": [
       "<div>\n",
       "<style scoped>\n",
       "    .dataframe tbody tr th:only-of-type {\n",
       "        vertical-align: middle;\n",
       "    }\n",
       "\n",
       "    .dataframe tbody tr th {\n",
       "        vertical-align: top;\n",
       "    }\n",
       "\n",
       "    .dataframe thead th {\n",
       "        text-align: right;\n",
       "    }\n",
       "</style>\n",
       "<table border=\"1\" class=\"dataframe\">\n",
       "  <thead>\n",
       "    <tr style=\"text-align: right;\">\n",
       "      <th></th>\n",
       "      <th>run</th>\n",
       "      <th>RND</th>\n",
       "      <th>PSO</th>\n",
       "      <th>GA</th>\n",
       "    </tr>\n",
       "  </thead>\n",
       "  <tbody>\n",
       "    <tr>\n",
       "      <th>0</th>\n",
       "      <td>run7</td>\n",
       "      <td>2.868828</td>\n",
       "      <td>2.769676</td>\n",
       "      <td>3.733112</td>\n",
       "    </tr>\n",
       "    <tr>\n",
       "      <th>1</th>\n",
       "      <td>run3</td>\n",
       "      <td>2.912878</td>\n",
       "      <td>3.886143</td>\n",
       "      <td>3.910135</td>\n",
       "    </tr>\n",
       "    <tr>\n",
       "      <th>2</th>\n",
       "      <td>run4</td>\n",
       "      <td>2.644139</td>\n",
       "      <td>3.624207</td>\n",
       "      <td>3.534596</td>\n",
       "    </tr>\n",
       "    <tr>\n",
       "      <th>3</th>\n",
       "      <td>run10</td>\n",
       "      <td>2.988090</td>\n",
       "      <td>3.148356</td>\n",
       "      <td>3.898353</td>\n",
       "    </tr>\n",
       "    <tr>\n",
       "      <th>4</th>\n",
       "      <td>run2</td>\n",
       "      <td>2.638403</td>\n",
       "      <td>3.886143</td>\n",
       "      <td>3.460122</td>\n",
       "    </tr>\n",
       "    <tr>\n",
       "      <th>5</th>\n",
       "      <td>run8</td>\n",
       "      <td>2.663327</td>\n",
       "      <td>4.040835</td>\n",
       "      <td>3.663619</td>\n",
       "    </tr>\n",
       "    <tr>\n",
       "      <th>6</th>\n",
       "      <td>run9</td>\n",
       "      <td>2.434501</td>\n",
       "      <td>3.951331</td>\n",
       "      <td>3.928149</td>\n",
       "    </tr>\n",
       "    <tr>\n",
       "      <th>7</th>\n",
       "      <td>run11</td>\n",
       "      <td>3.173005</td>\n",
       "      <td>2.780445</td>\n",
       "      <td>3.733802</td>\n",
       "    </tr>\n",
       "    <tr>\n",
       "      <th>8</th>\n",
       "      <td>run1</td>\n",
       "      <td>2.879781</td>\n",
       "      <td>3.116770</td>\n",
       "      <td>3.632210</td>\n",
       "    </tr>\n",
       "    <tr>\n",
       "      <th>9</th>\n",
       "      <td>run5</td>\n",
       "      <td>3.175640</td>\n",
       "      <td>4.000432</td>\n",
       "      <td>3.555084</td>\n",
       "    </tr>\n",
       "    <tr>\n",
       "      <th>10</th>\n",
       "      <td>run6</td>\n",
       "      <td>2.690718</td>\n",
       "      <td>2.523218</td>\n",
       "      <td>3.873907</td>\n",
       "    </tr>\n",
       "  </tbody>\n",
       "</table>\n",
       "</div>"
      ],
      "text/plain": [
       "      run       RND       PSO        GA\n",
       "0    run7  2.868828  2.769676  3.733112\n",
       "1    run3  2.912878  3.886143  3.910135\n",
       "2    run4  2.644139  3.624207  3.534596\n",
       "3   run10  2.988090  3.148356  3.898353\n",
       "4    run2  2.638403  3.886143  3.460122\n",
       "5    run8  2.663327  4.040835  3.663619\n",
       "6    run9  2.434501  3.951331  3.928149\n",
       "7   run11  3.173005  2.780445  3.733802\n",
       "8    run1  2.879781  3.116770  3.632210\n",
       "9    run5  3.175640  4.000432  3.555084\n",
       "10   run6  2.690718  2.523218  3.873907"
      ]
     },
     "execution_count": 3,
     "metadata": {},
     "output_type": "execute_result"
    }
   ],
   "source": [
    "data = {\n",
    "    'run': [],\n",
    "    'RND': [],\n",
    "    'PSO': [],\n",
    "    'GA': [],\n",
    "}\n",
    "\n",
    "for dir in os.listdir(BASE_PATH):\n",
    "    data['run'].append(dir)\n",
    "    for key in SAVE_FILES.keys():\n",
    "        save_df = pd.read_csv(os.path.join(BASE_PATH, dir, SAVE_FILES[key]))\n",
    "        data[key].append(save_df['fitness'].max())\n",
    "\n",
    "data = pd.DataFrame(data)\n",
    "data"
   ]
  },
  {
   "attachments": {},
   "cell_type": "markdown",
   "metadata": {},
   "source": [
    "Print graph"
   ]
  },
  {
   "cell_type": "code",
   "execution_count": 4,
   "metadata": {},
   "outputs": [
    {
     "data": {
      "text/plain": [
       "[Text(0.5, 0, 'Agorithms'),\n",
       " Text(0, 0.5, 'Fitness'),\n",
       " Text(0.5, 1.0, 'Algorithm comparsion')]"
      ]
     },
     "execution_count": 4,
     "metadata": {},
     "output_type": "execute_result"
    },
    {
     "data": {
      "image/png": "[encoded data removed]",
      "text/plain": [
       "<Figure size 640x480 with 1 Axes>"
      ]
     },
     "metadata": {},
     "output_type": "display_data"
    }
   ],
   "source": [
    "graph = sns.boxplot(data=data)\n",
    "graph.set(xlabel = 'Agorithms', ylabel='Fitness', title='Algorithm comparsion')"
   ]
  }
 ],
 "metadata": {
  "kernelspec": {
   "display_name": "Python 3.10.8 64-bit",
   "language": "python",
   "name": "python3"
  },
  "language_info": {
   "codemirror_mode": {
    "name": "ipython",
    "version": 3
   },
   "file_extension": ".py",
   "mimetype": "text/x-python",
   "name": "python",
   "nbconvert_exporter": "python",
   "pygments_lexer": "ipython3",
   "version": "3.10.8 (main, Nov 14 2022, 00:00:00) [GCC 12.2.1 20220819 (Red Hat 12.2.1-2)]"
  },
  "orig_nbformat": 4,
  "vscode": {
   "interpreter": {
    "hash": "97cc609b13305c559618ec78a438abc56230b9381f827f22d070313b9a1f3777"
   }
  }
 },
 "nbformat": 4,
 "nbformat_minor": 2
}
