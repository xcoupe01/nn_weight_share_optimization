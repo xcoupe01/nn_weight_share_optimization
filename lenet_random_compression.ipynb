{
 "cells": [
  {
   "cell_type": "markdown",
   "metadata": {},
   "source": [
    "## Random search compression on LeNet-5"
   ]
  },
  {
   "cell_type": "code",
   "execution_count": 1,
   "metadata": {},
   "outputs": [],
   "source": [
    "import torch\n",
    "import torch.nn as nn\n",
    "import pandas as pd\n",
    "import os\n",
    "import math\n",
    "\n",
    "from data.mnist import MnistDataset\n",
    "from models.lenet.lenet import LeNet5\n",
    "from utils.rnd import RandomController\n",
    "from utils.train import *\n",
    "from utils.weight_sharing import *\n",
    "from utils.plot import *"
   ]
  },
  {
   "cell_type": "markdown",
   "metadata": {},
   "source": [
    "Setting some global parameters "
   ]
  },
  {
   "cell_type": "code",
   "execution_count": 2,
   "metadata": {},
   "outputs": [],
   "source": [
    "LEARNING_RATE = 0.0001\n",
    "BATCH_SIZE = 32\n",
    "N_CLASSES = 10\n",
    "DEVICE = None\n",
    "EPOCHS = 100\n",
    "\n",
    "NET_PATH = './models/lenet/saves/lenet.save'\n",
    "\n",
    "ACC_MULTIPLIER = 4\n",
    "CR_MULTIPLIER = 1\n",
    "\n",
    "NUM_INDIVIDUALS = 4\n",
    "\n",
    "SAVE_RND_FILE = './results/test_RND_save.csv'\n",
    "SAVE_EVERY = 1"
   ]
  },
  {
   "cell_type": "markdown",
   "metadata": {},
   "source": [
    "Geting somewhat trained LeNet-5"
   ]
  },
  {
   "cell_type": "code",
   "execution_count": 3,
   "metadata": {},
   "outputs": [],
   "source": [
    "dataset = MnistDataset(BATCH_SIZE, './data', val_split=0.5)\n",
    "model = LeNet5(N_CLASSES)\n",
    "criterion = nn.CrossEntropyLoss()\n",
    "\n",
    "optimizer = torch.optim.Adam(model.parameters(), lr=LEARNING_RATE)\n",
    "train_settings = [criterion, optimizer, dataset, EPOCHS, DEVICE, 1, True]\n",
    "\n",
    "get_trained(model, NET_PATH, train_settings)\n",
    "\n",
    "before_loss = get_accuracy(model, dataset.test_dl, DEVICE)"
   ]
  },
  {
   "cell_type": "markdown",
   "metadata": {},
   "source": [
    "Setting weight share controller"
   ]
  },
  {
   "cell_type": "code",
   "execution_count": 4,
   "metadata": {},
   "outputs": [
    {
     "name": "stdout",
     "output_type": "stream",
     "text": [
      "layer_name #weights #bias w_locked CR\n",
      "feature_extractor.0 150 6 False 1.00\n",
      "feature_extractor.3 2400 16 False 1.00\n",
      "feature_extractor.6 48000 120 False 1.00\n",
      "classifier.0 10080 84 False 1.00\n",
      "classifier.2 840 10 False 1.00\n",
      "Sum num weights, bias:  61470 236\n",
      "Compression rate 1.00\n"
     ]
    }
   ],
   "source": [
    "lam_opt = lambda mod : torch.optim.Adam(mod.parameters(), lr=LEARNING_RATE)\n",
    "lam_train = lambda opt, epochs : train_net(model, criterion, opt, dataset, epochs, device=DEVICE)\n",
    "lam_test = lambda : get_accuracy(model, dataset.test_dl, DEVICE)\n",
    "\n",
    "ws_controller = WeightShare(model, lam_opt, lam_train, lam_test)\n",
    "\n",
    "ws_controller.print_layers_info()"
   ]
  },
  {
   "cell_type": "markdown",
   "metadata": {},
   "source": [
    "Defining fitness function"
   ]
  },
  {
   "cell_type": "code",
   "execution_count": 5,
   "metadata": {},
   "outputs": [],
   "source": [
    "share_order = [0, 1, 2, 3, 4]\n",
    "retrain_amount = [0, 0, 0, 0, 0]\n",
    "\n",
    "def fitness_fc(share):\n",
    "    # reset the net\n",
    "    get_trained(model, NET_PATH, train_settings)\n",
    "    for layer in ws_controller.model_layers:\n",
    "        layer.weight.requires_grad = True\n",
    "    \n",
    "    # share weigts by chromosome\n",
    "    share.data = ws_controller.share(share.representation, share_order, retrain_amount)\n",
    "\n",
    "    if share.data['accuracy'] <= 0.95:\n",
    "        return ACC_MULTIPLIER * share.data['accuracy']\n",
    "\n",
    "    return ACC_MULTIPLIER * share.data['accuracy'] + CR_MULTIPLIER * math.log(share.data['compression'])\n",
    "    \n",
    "lam_fit = lambda indiv : fitness_fc(indiv) "
   ]
  },
  {
   "cell_type": "code",
   "execution_count": 6,
   "metadata": {},
   "outputs": [],
   "source": [
    "data = {\n",
    "    'fitness': [],\n",
    "    'representation': [],\n",
    "    'accuracy': [],\n",
    "    'accuracy_loss': [],\n",
    "    'compression': [],\n",
    "    'share_t': [],\n",
    "    'train_t': [],\n",
    "    'acc_t': []\n",
    "}\n",
    "\n",
    "data_types = {\n",
    "    'fitness': 'float32',\n",
    "    'accuracy': 'float32',\n",
    "    'accuracy_loss': 'float32',\n",
    "    'compression': 'float32',\n",
    "    'share_t': 'float32',\n",
    "    'train_t': 'float32',\n",
    "    'acc_t': 'float32'\n",
    "}\n",
    "\n",
    "rnd_data = pd.read_csv(SAVE_RND_FILE).astype(data_types) if os.path.exists(SAVE_RND_FILE) else pd.DataFrame(data).astype(data_types)\n",
    "\n",
    "def logger_fc(rnd_controler):\n",
    "    global rnd_data\n",
    "\n",
    "    new_data = copy.deepcopy(data)\n",
    "\n",
    "    indiv = rnd_controler.current_indiv\n",
    "\n",
    "    new_data['fitness'].append(indiv.fitness)\n",
    "    new_data['representation'].append(indiv.representation)\n",
    "    new_data['accuracy'].append(indiv.data['accuracy'])\n",
    "    new_data['accuracy_loss'].append(before_loss - indiv.data['accuracy'])\n",
    "    new_data['compression'].append(indiv.data['compression'])\n",
    "    new_data['share_t'].append(indiv.data['times']['share'])\n",
    "    new_data['train_t'].append(indiv.data['times']['train'])\n",
    "    new_data['acc_t'].append(indiv.data['times']['test'])\n",
    "\n",
    "    # saving progress\n",
    "    rnd_data = rnd_data.append(pd.DataFrame(new_data).astype(data_types))\n",
    "    rnd_data.reset_index(drop=True, inplace=True)\n",
    "    rnd_data.to_csv(SAVE_RND_FILE, index=False)\n"
   ]
  },
  {
   "cell_type": "code",
   "execution_count": 7,
   "metadata": {},
   "outputs": [
    {
     "name": "stdout",
     "output_type": "stream",
     "text": [
      "Individual 1/4 (1) evaluated Individual ([17, 20, 14, 20, 19]) fit:5.7073931683578545\n",
      "Individual 2/4 (2) evaluated Individual ([6, 10, 8, 12, 14]) fit:6.031094997212717\n",
      "Individual 3/4 (3) evaluated Individual ([13, 18, 19, 13, 5]) fit:5.873594268173298\n",
      "Individual 4/4 (4) evaluated Individual ([14, 5, 3, 10, 11]) fit:6.041904401156579\n"
     ]
    },
    {
     "data": {
      "text/plain": [
       "[14, 5, 3, 10, 11]"
      ]
     },
     "execution_count": 7,
     "metadata": {},
     "output_type": "execute_result"
    }
   ],
   "source": [
    "repr_ranges = [range(1, 21), range(1, 21), range(1, 21), range(1, 21), range(1, 21)]\n",
    "\n",
    "random = RandomController(repr_ranges, fitness_fc)\n",
    "\n",
    "random.run(NUM_INDIVIDUALS, logger_fc, True)"
   ]
  },
  {
   "cell_type": "markdown",
   "metadata": {},
   "source": [
    "See output"
   ]
  },
  {
   "cell_type": "code",
   "execution_count": 8,
   "metadata": {},
   "outputs": [
    {
     "data": {
      "text/html": [
       "<div>\n",
       "<style scoped>\n",
       "    .dataframe tbody tr th:only-of-type {\n",
       "        vertical-align: middle;\n",
       "    }\n",
       "\n",
       "    .dataframe tbody tr th {\n",
       "        vertical-align: top;\n",
       "    }\n",
       "\n",
       "    .dataframe thead th {\n",
       "        text-align: right;\n",
       "    }\n",
       "</style>\n",
       "<table border=\"1\" class=\"dataframe\">\n",
       "  <thead>\n",
       "    <tr style=\"text-align: right;\">\n",
       "      <th></th>\n",
       "      <th>fitness</th>\n",
       "      <th>representation</th>\n",
       "      <th>accuracy</th>\n",
       "      <th>accuracy_loss</th>\n",
       "      <th>compression</th>\n",
       "      <th>share_t</th>\n",
       "      <th>train_t</th>\n",
       "      <th>acc_t</th>\n",
       "    </tr>\n",
       "  </thead>\n",
       "  <tbody>\n",
       "    <tr>\n",
       "      <th>0</th>\n",
       "      <td>5.707393</td>\n",
       "      <td>[17, 20, 14, 20, 19]</td>\n",
       "      <td>0.9850</td>\n",
       "      <td>-0.0004</td>\n",
       "      <td>5.855569</td>\n",
       "      <td>0.776365</td>\n",
       "      <td>0.0</td>\n",
       "      <td>3.589212</td>\n",
       "    </tr>\n",
       "    <tr>\n",
       "      <th>1</th>\n",
       "      <td>6.031095</td>\n",
       "      <td>[6, 10, 8, 12, 14]</td>\n",
       "      <td>0.9848</td>\n",
       "      <td>-0.0002</td>\n",
       "      <td>8.100250</td>\n",
       "      <td>0.522801</td>\n",
       "      <td>0.0</td>\n",
       "      <td>3.357551</td>\n",
       "    </tr>\n",
       "    <tr>\n",
       "      <th>2</th>\n",
       "      <td>5.873594</td>\n",
       "      <td>[13, 18, 19, 13, 5]</td>\n",
       "      <td>0.9832</td>\n",
       "      <td>0.0014</td>\n",
       "      <td>6.964280</td>\n",
       "      <td>0.819938</td>\n",
       "      <td>0.0</td>\n",
       "      <td>3.375043</td>\n",
       "    </tr>\n",
       "    <tr>\n",
       "      <th>3</th>\n",
       "      <td>6.041904</td>\n",
       "      <td>[14, 5, 3, 10, 11]</td>\n",
       "      <td>0.9566</td>\n",
       "      <td>0.0280</td>\n",
       "      <td>9.166031</td>\n",
       "      <td>0.371365</td>\n",
       "      <td>0.0</td>\n",
       "      <td>3.654719</td>\n",
       "    </tr>\n",
       "  </tbody>\n",
       "</table>\n",
       "</div>"
      ],
      "text/plain": [
       "    fitness        representation  accuracy  accuracy_loss  compression  \\\n",
       "0  5.707393  [17, 20, 14, 20, 19]    0.9850        -0.0004     5.855569   \n",
       "1  6.031095    [6, 10, 8, 12, 14]    0.9848        -0.0002     8.100250   \n",
       "2  5.873594   [13, 18, 19, 13, 5]    0.9832         0.0014     6.964280   \n",
       "3  6.041904    [14, 5, 3, 10, 11]    0.9566         0.0280     9.166031   \n",
       "\n",
       "    share_t  train_t     acc_t  \n",
       "0  0.776365      0.0  3.589212  \n",
       "1  0.522801      0.0  3.357551  \n",
       "2  0.819938      0.0  3.375043  \n",
       "3  0.371365      0.0  3.654719  "
      ]
     },
     "execution_count": 8,
     "metadata": {},
     "output_type": "execute_result"
    }
   ],
   "source": [
    "rnd_data"
   ]
  },
  {
   "cell_type": "markdown",
   "metadata": {},
   "source": [
    "Plotting data"
   ]
  },
  {
   "cell_type": "code",
   "execution_count": 9,
   "metadata": {},
   "outputs": [
    {
     "data": {
      "image/png": "[encoded data removed]",
      "text/plain": [
       "<Figure size 1800x1000 with 1 Axes>"
      ]
     },
     "metadata": {},
     "output_type": "display_data"
    }
   ],
   "source": [
    "plot_alcr(rnd_data)"
   ]
  }
 ],
 "metadata": {
  "kernelspec": {
   "display_name": "Python 3.10.8 64-bit",
   "language": "python",
   "name": "python3"
  },
  "language_info": {
   "codemirror_mode": {
    "name": "ipython",
    "version": 3
   },
   "file_extension": ".py",
   "mimetype": "text/x-python",
   "name": "python",
   "nbconvert_exporter": "python",
   "pygments_lexer": "ipython3",
   "version": "3.10.8"
  },
  "orig_nbformat": 4,
  "vscode": {
   "interpreter": {
    "hash": "97cc609b13305c559618ec78a438abc56230b9381f827f22d070313b9a1f3777"
   }
  }
 },
 "nbformat": 4,
 "nbformat_minor": 2
}
