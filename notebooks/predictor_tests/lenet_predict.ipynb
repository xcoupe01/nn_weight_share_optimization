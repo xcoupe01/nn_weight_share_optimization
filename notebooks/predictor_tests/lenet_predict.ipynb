{
 "cells": [
  {
   "cell_type": "code",
   "execution_count": 1,
   "metadata": {},
   "outputs": [],
   "source": [
    "PATH_PREFIX = '../../'\n",
    "import sys\n",
    "sys.path.append(PATH_PREFIX)"
   ]
  },
  {
   "cell_type": "code",
   "execution_count": 2,
   "metadata": {},
   "outputs": [],
   "source": [
    "import torch\n",
    "import os\n",
    "import pandas as pd\n",
    "from utils.predictor.predictor import *\n",
    "from utils.predictor.predictor_data import *"
   ]
  },
  {
   "cell_type": "code",
   "execution_count": 3,
   "metadata": {},
   "outputs": [],
   "source": [
    "folder_list = [\n",
    "    os.path.join(PATH_PREFIX, 'results/lenet_relu_compress_50'),\n",
    "]\n",
    "\n",
    "file_list = [\n",
    "    {'name': 'lenet_GA_save.csv', 'repres': 'chromosome'},\n",
    "    {'name': 'lenet_PSO_save.csv', 'repres': 'representation'},\n",
    "    {'name': 'lenet_BH_save.csv', 'repres': 'representation'},\n",
    "    {'name': 'lenet_RND_save.csv', 'repres': 'representation'},\n",
    "]\n"
   ]
  },
  {
   "cell_type": "code",
   "execution_count": 4,
   "metadata": {},
   "outputs": [],
   "source": [
    "dataset = PredictorDataset(32, folder_list, file_list)\n",
    "\n",
    "predictor = NetPerfPredict([5, 16, 32, 64, 32, 16])"
   ]
  },
  {
   "cell_type": "code",
   "execution_count": 5,
   "metadata": {},
   "outputs": [
    {
     "name": "stdout",
     "output_type": "stream",
     "text": [
      "Epoch: 1/30 --- Time: 3.49s\tTrain loss: 0.0051\tValid loss: 0.0039\tTrain accuracy: 1.1738806338604307e-05\tValid accuracy: 2.594154979951194e-05\n",
      "Epoch: 2/30 --- Time: 3.40s\tTrain loss: 0.0038\tValid loss: 0.0037\tTrain accuracy: 1.1716266628492191e-05\tValid accuracy: 2.5722761268846472e-05\n",
      "Epoch: 3/30 --- Time: 3.20s\tTrain loss: 0.0037\tValid loss: 0.0036\tTrain accuracy: 1.1594888558251276e-05\tValid accuracy: 2.5685851325606062e-05\n",
      "Epoch: 4/30 --- Time: 3.49s\tTrain loss: 0.0037\tValid loss: 0.0036\tTrain accuracy: 1.1768423990360507e-05\tValid accuracy: 2.590591935993261e-05\n",
      "Epoch: 5/30 --- Time: 3.32s\tTrain loss: 0.0036\tValid loss: 0.0035\tTrain accuracy: 1.1570840704648605e-05\tValid accuracy: 2.5091893414755985e-05\n",
      "Epoch: 6/30 --- Time: 3.45s\tTrain loss: 0.0035\tValid loss: 0.0034\tTrain accuracy: 1.1467857148380679e-05\tValid accuracy: 2.4840996377269017e-05\n",
      "Epoch: 7/30 --- Time: 3.18s\tTrain loss: 0.0034\tValid loss: 0.0034\tTrain accuracy: 1.1711841128715973e-05\tValid accuracy: 2.5371942030500615e-05\n",
      "Epoch: 8/30 --- Time: 3.28s\tTrain loss: 0.0034\tValid loss: 0.0034\tTrain accuracy: 1.1750696708966794e-05\tValid accuracy: 2.5272312224808258e-05\n",
      "Epoch: 9/30 --- Time: 3.18s\tTrain loss: 0.0035\tValid loss: 0.0033\tTrain accuracy: 1.1592270192511843e-05\tValid accuracy: 2.484647054241695e-05\n",
      "Epoch: 10/30 --- Time: 3.36s\tTrain loss: 0.0033\tValid loss: 0.0033\tTrain accuracy: 1.1595693194574224e-05\tValid accuracy: 2.4668958096350847e-05\n",
      "Epoch: 11/30 --- Time: 3.13s\tTrain loss: 0.0034\tValid loss: 0.0032\tTrain accuracy: 1.1641117773002563e-05\tValid accuracy: 2.4892697558708338e-05\n",
      "Epoch: 12/30 --- Time: 3.15s\tTrain loss: 0.0033\tValid loss: 0.0034\tTrain accuracy: 1.1759685112262905e-05\tValid accuracy: 2.537230697484381e-05\n",
      "Epoch: 13/30 --- Time: 3.30s\tTrain loss: 0.0033\tValid loss: 0.0033\tTrain accuracy: 1.1548455985959352e-05\tValid accuracy: 2.454376679741552e-05\n",
      "Epoch: 14/30 --- Time: 3.15s\tTrain loss: 0.0033\tValid loss: 0.0038\tTrain accuracy: 1.1820277964762792e-05\tValid accuracy: 2.548669504183659e-05\n",
      "Epoch: 15/30 --- Time: 3.15s\tTrain loss: 0.0033\tValid loss: 0.0032\tTrain accuracy: 1.168144302369571e-05\tValid accuracy: 2.4997638843516117e-05\n",
      "Epoch: 16/30 --- Time: 3.15s\tTrain loss: 0.0033\tValid loss: 0.0036\tTrain accuracy: 1.139669080299767e-05\tValid accuracy: 2.493258421665168e-05\n",
      "Epoch: 17/30 --- Time: 3.16s\tTrain loss: 0.0032\tValid loss: 0.0032\tTrain accuracy: 1.1540052372996312e-05\tValid accuracy: 2.431577771207371e-05\n",
      "Epoch: 18/30 --- Time: 3.33s\tTrain loss: 0.0032\tValid loss: 0.0033\tTrain accuracy: 1.144782258332321e-05\tValid accuracy: 2.4875290153229895e-05\n",
      "Epoch: 19/30 --- Time: 3.28s\tTrain loss: 0.0033\tValid loss: 0.0032\tTrain accuracy: 1.1543746884856192e-05\tValid accuracy: 2.4949149611988896e-05\n",
      "Epoch: 20/30 --- Time: 3.28s\tTrain loss: 0.0032\tValid loss: 0.0034\tTrain accuracy: 1.1534139615098577e-05\tValid accuracy: 2.4971503552239564e-05\n",
      "Epoch: 21/30 --- Time: 3.40s\tTrain loss: 0.0032\tValid loss: 0.0032\tTrain accuracy: 1.1532443503286678e-05\tValid accuracy: 2.4502297248345062e-05\n",
      "Epoch: 22/30 --- Time: 3.32s\tTrain loss: 0.0032\tValid loss: 0.0031\tTrain accuracy: 1.1471051510613589e-05\tValid accuracy: 2.520970668227105e-05\n",
      "Epoch: 23/30 --- Time: 3.19s\tTrain loss: 0.0031\tValid loss: 0.0031\tTrain accuracy: 1.1663622307756299e-05\tValid accuracy: 2.4942815849020546e-05\n",
      "Epoch: 24/30 --- Time: 3.51s\tTrain loss: 0.0031\tValid loss: 0.0031\tTrain accuracy: 1.1422812903514827e-05\tValid accuracy: 2.471672623303127e-05\n",
      "Epoch: 25/30 --- Time: 3.15s\tTrain loss: 0.0032\tValid loss: 0.0031\tTrain accuracy: 1.1286347902218619e-05\tValid accuracy: 2.5005647832927326e-05\n",
      "Epoch: 26/30 --- Time: 3.06s\tTrain loss: 0.0031\tValid loss: 0.0030\tTrain accuracy: 1.1490180310192767e-05\tValid accuracy: 2.500276565200004e-05\n",
      "Epoch: 27/30 --- Time: 3.28s\tTrain loss: 0.0031\tValid loss: 0.0031\tTrain accuracy: 1.1542709211783973e-05\tValid accuracy: 2.548903420316888e-05\n",
      "Epoch: 28/30 --- Time: 3.34s\tTrain loss: 0.0031\tValid loss: 0.0031\tTrain accuracy: 1.1715619182052004e-05\tValid accuracy: 2.541321151972028e-05\n",
      "Epoch: 29/30 --- Time: 3.27s\tTrain loss: 0.0030\tValid loss: 0.0033\tTrain accuracy: 1.134673519871797e-05\tValid accuracy: 2.5234426165372793e-05\n",
      "Epoch: 30/30 --- Time: 3.48s\tTrain loss: 0.0030\tValid loss: 0.0030\tTrain accuracy: 1.1291043812562386e-05\tValid accuracy: 2.5167177475529388e-05\n",
      "Train completed ---  Train accuracy: 1.1291044911792336e-05\t Valid accuracy: 2.5167177475529388e-05\t Test accuracy: 1.586692484123723e-05\n"
     ]
    }
   ],
   "source": [
    "criterion = torch.nn.L1Loss()\n",
    "optimizer = torch.optim.Adam(predictor.parameters(), lr=0.0001)\n",
    "\n",
    "train_net(predictor, criterion, optimizer, dataset, 30, 'cpu')"
   ]
  },
  {
   "cell_type": "code",
   "execution_count": 6,
   "metadata": {},
   "outputs": [
    {
     "name": "stdout",
     "output_type": "stream",
     "text": [
      "tensor([0.0061], grad_fn=<TanhBackward0>)\n",
      "tensor([0.0005], grad_fn=<TanhBackward0>)\n",
      "tensor([0.0022], grad_fn=<TanhBackward0>)\n",
      "tensor([0.0012], grad_fn=<TanhBackward0>)\n",
      "tensor([0.0010], grad_fn=<TanhBackward0>)\n"
     ]
    }
   ],
   "source": [
    "for i in range(5, 10):\n",
    "    print(predictor(dataset.test_dataset[i][0]))"
   ]
  },
  {
   "cell_type": "code",
   "execution_count": 7,
   "metadata": {},
   "outputs": [
    {
     "name": "stdout",
     "output_type": "stream",
     "text": [
      "(tensor([ 6., 13., 47., 13., 41.]), tensor([0.0014]))\n",
      "(tensor([19., 13., 17., 26.,  5.]), tensor([0.]))\n",
      "(tensor([21.,  5., 48., 11., 46.]), tensor([0.0098]))\n",
      "(tensor([16., 11.,  7., 22.,  6.]), tensor([0.0020]))\n",
      "(tensor([17., 40., 35., 16., 41.]), tensor([-0.0004]))\n"
     ]
    }
   ],
   "source": [
    "for i in range(5, 10):\n",
    "    print(dataset.test_dataset[i])"
   ]
  }
 ],
 "metadata": {
  "kernelspec": {
   "display_name": "Python 3",
   "language": "python",
   "name": "python3"
  },
  "language_info": {
   "codemirror_mode": {
    "name": "ipython",
    "version": 3
   },
   "file_extension": ".py",
   "mimetype": "text/x-python",
   "name": "python",
   "nbconvert_exporter": "python",
   "pygments_lexer": "ipython3",
   "version": "3.10.10"
  },
  "orig_nbformat": 4
 },
 "nbformat": 4,
 "nbformat_minor": 2
}
