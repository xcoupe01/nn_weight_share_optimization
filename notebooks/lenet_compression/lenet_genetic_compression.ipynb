{
 "cells": [
  {
   "cell_type": "markdown",
   "metadata": {},
   "source": [
    "## Genetic compression search on LeNet-5 "
   ]
  },
  {
   "cell_type": "code",
   "execution_count": 6,
   "metadata": {},
   "outputs": [],
   "source": [
    "PATH_PREFIX = '../../'\n",
    "import sys\n",
    "sys.path.append(PATH_PREFIX)"
   ]
  },
  {
   "cell_type": "code",
   "execution_count": 7,
   "metadata": {},
   "outputs": [],
   "source": [
    "import torch\n",
    "import torch.nn as nn\n",
    "import pandas as pd\n",
    "import os\n",
    "import math\n",
    "\n",
    "from data.mnist import MnistDataset\n",
    "from data.utils.mnist_utils import *\n",
    "from models.lenet.lenet import LeNet5\n",
    "from utils.weight_sharing import *\n",
    "from utils.genetic import GeneticController, Individual\n",
    "from utils.plot import *\n",
    "from utils.fitness_controller import FitnessController"
   ]
  },
  {
   "attachments": {},
   "cell_type": "markdown",
   "metadata": {},
   "source": [
    "Setting parameters (for the genetic search settings look in `utils.genetic_config.py`)"
   ]
  },
  {
   "cell_type": "code",
   "execution_count": 8,
   "metadata": {},
   "outputs": [],
   "source": [
    "# net train settings\n",
    "LEARNING_RATE = 0.0001\n",
    "BATCH_SIZE = 32\n",
    "N_CLASSES = 10\n",
    "DEVICE = 'cpu'\n",
    "EPOCHS = 100\n",
    "\n",
    "# net save settings \n",
    "NET_TYPE = 'tanh'\n",
    "NET_PATH = os.path.join(PATH_PREFIX, f'models/lenet/saves/lenet_{NET_TYPE}.save')\n",
    "\n",
    "# dataset settings\n",
    "DATA_PATH = os.path.join(PATH_PREFIX, 'data')\n",
    "\n",
    "# ga iter count\n",
    "NUM_GENERATIONS = 36\n",
    "NUM_PULATION = 12\n",
    "\n",
    "# ga search settings\n",
    "CHROMOSOME_RANGES = [range(1, 51) for _ in range(5)]\n",
    "\n",
    "# ga save settings\n",
    "SAVE_EVOL_FILE = os.path.join(PATH_PREFIX, 'results/test_GA_save.csv')\n",
    "SAVE_EVERY = 1\n",
    "\n",
    "# target position\n",
    "TARGET = [0.99, 12.0]\n",
    "TARGET_LOW_LIMIT = [0.965, 1.0]\n",
    "LOCK_TARGET = False\n",
    "TARGET_UPDATE_OFFSET = [0.001, 0.1]\n",
    "TOP_REPR_SET_INDIV = True\n",
    "\n",
    "#compression optimization settings\n",
    "SHARE_ORDER = [0, 1, 2, 3, 4]\n",
    "RETRAIN_AMOUNT = None #[0, 0, 0, 0, 0]\n",
    "PREC_REDUCT = ['f2' for _ in range(5)]  #None # ['f4', 'f4', 'f4', 'f4', 'f4']\n",
    "CLUST_MOD_FOCUS = None #[5, 5, 5, 5, 5]\n",
    "CLUST_MOD_SPREAD = None #[0, 0, 0, 0, 0]\n",
    "\n",
    "# range optimization settings\n",
    "RANGE_OPTIMIZATION = True\n",
    "RANGE_OPTIMIZATION_TRESHOLD = 0.97\n",
    "RANGE_OPTIMIZATION_FILE = os.path.join(PATH_PREFIX, f'models/lenet/saves/lenet_{NET_TYPE}_layer_perf_{PREC_REDUCT[0]}.csv')"
   ]
  },
  {
   "cell_type": "markdown",
   "metadata": {},
   "source": [
    "Geting somewhat trained LeNet-5"
   ]
  },
  {
   "cell_type": "code",
   "execution_count": 9,
   "metadata": {},
   "outputs": [],
   "source": [
    "dataset = MnistDataset(BATCH_SIZE, DATA_PATH, val_split=0.5)\n",
    "model = LeNet5(N_CLASSES, NET_TYPE)\n",
    "model.to(DEVICE)\n",
    "criterion = nn.CrossEntropyLoss()\n",
    "\n",
    "optimizer = torch.optim.Adam(model.parameters(), lr=LEARNING_RATE)\n",
    "train_settings = [criterion, optimizer, dataset, EPOCHS, DEVICE, 1, True]\n",
    "\n",
    "get_trained(model, NET_PATH, train_settings, DEVICE)\n",
    "\n",
    "before_loss = get_accuracy(model, dataset.test_dl, DEVICE)"
   ]
  },
  {
   "cell_type": "markdown",
   "metadata": {},
   "source": [
    "Setting weight share controller"
   ]
  },
  {
   "cell_type": "code",
   "execution_count": 13,
   "metadata": {},
   "outputs": [
    {
     "name": "stdout",
     "output_type": "stream",
     "text": [
      "layer_name #weights #bias w_locked CR\n",
      "feature_extractor.0 150 6 False 1.00\n",
      "feature_extractor.3 2400 16 False 1.00\n",
      "feature_extractor.6 48000 120 False 1.00\n",
      "classifier.0 10080 84 False 1.00\n",
      "classifier.2 840 10 False 1.00\n",
      "Sum num weights, bias:  61470 236\n",
      "Compression rate 1.00\n"
     ]
    }
   ],
   "source": [
    "lam_opt = lambda mod : torch.optim.Adam(mod.parameters(), lr=LEARNING_RATE)\n",
    "lam_train = lambda opt, epochs : train_net(model, criterion, opt, dataset, epochs, device=DEVICE)\n",
    "lam_test = lambda : get_accuracy(model, dataset.test_dl, DEVICE)\n",
    "\n",
    "ws_controller = WeightShare(model, lam_test, lam_opt, lam_train)\n",
    "ws_controller.set_reset()\n",
    "\n",
    "ws_controller.print_layers_info()"
   ]
  },
  {
   "cell_type": "markdown",
   "metadata": {},
   "source": [
    "Defining fitness function"
   ]
  },
  {
   "cell_type": "code",
   "execution_count": 14,
   "metadata": {},
   "outputs": [],
   "source": [
    "def fitness_vals_fc(individual:Individual):\n",
    "    # reset the net\n",
    "    ws_controller.reset()\n",
    "    \n",
    "    # share weigts by particle\n",
    "    if individual.data is None:\n",
    "        individual.data = ws_controller.share(individual.chromosome, SHARE_ORDER, RETRAIN_AMOUNT, PREC_REDUCT, CLUST_MOD_FOCUS, CLUST_MOD_SPREAD)\n",
    "    \n",
    "    return [individual.data['accuracy'], individual.data['compression']]\n",
    "\n",
    "def fit_from_vals(data, targ_vals):\n",
    "\n",
    "    return 1 / math.sqrt(pow(1 - (data['accuracy']/targ_vals[0]), 2) + pow(1 - (data['compression']/targ_vals[1]), 2))"
   ]
  },
  {
   "cell_type": "markdown",
   "metadata": {},
   "source": [
    "Defining logging function and elit dealing function"
   ]
  },
  {
   "cell_type": "code",
   "execution_count": 15,
   "metadata": {},
   "outputs": [],
   "source": [
    "data = {\n",
    "    'generation': [],\n",
    "    'chromosome': [],\n",
    "    'accuracy': [],\n",
    "    'accuracy_loss': [],\n",
    "    'compression': [],\n",
    "    'share_t': [],\n",
    "    'train_t': [],\n",
    "    'acc_t': []\n",
    "}\n",
    "\n",
    "data_types = {\n",
    "    'generation' : 'uint8',\n",
    "    'accuracy': 'float32',\n",
    "    'accuracy_loss': 'float32',\n",
    "    'compression': 'float32',\n",
    "    'share_t': 'float32',\n",
    "    'train_t': 'float32',\n",
    "    'acc_t': 'float32'\n",
    "}\n",
    "\n",
    "evol_data = pd.read_csv(SAVE_EVOL_FILE).astype(data_types) if os.path.exists(SAVE_EVOL_FILE) else pd.DataFrame(data).astype(data_types)\n",
    "\n",
    "def logger_fc(gen_cont:GeneticController):\n",
    "    global evol_data\n",
    "\n",
    "    new_data = copy.deepcopy(data)\n",
    "\n",
    "    for indiv in gen_cont.population:\n",
    "\n",
    "        new_data['generation'].append(gen_cont.generation)\n",
    "        new_data['chromosome'].append(indiv.chromosome)\n",
    "        new_data['accuracy'].append(indiv.data['accuracy'])\n",
    "        new_data['accuracy_loss'].append(before_loss - indiv.data['accuracy'])\n",
    "        new_data['compression'].append(indiv.data['compression'])\n",
    "        new_data['share_t'].append(indiv.data['times']['share'])\n",
    "        new_data['train_t'].append(indiv.data['times']['train'])\n",
    "        new_data['acc_t'].append(indiv.data['times']['test'])\n",
    "\n",
    "    # saving progress\n",
    "    evol_data = evol_data.append(pd.DataFrame(new_data).astype(data_types))\n",
    "    if gen_cont.generation % SAVE_EVERY == SAVE_EVERY - 1:\n",
    "        evol_data.reset_index(drop=True, inplace=True)\n",
    "        os.makedirs(os.path.dirname(SAVE_EVOL_FILE), exist_ok=True)\n",
    "        evol_data.to_csv(SAVE_EVOL_FILE, index=False)\n",
    "    \n",
    "def deal_elit(population):\n",
    "    for individual in population:\n",
    "        if individual.data is not None:\n",
    "            individual.data['times'] = {\n",
    "                'share': 0,\n",
    "                'train': 0,\n",
    "                'test': 0\n",
    "            }\n"
   ]
  },
  {
   "cell_type": "markdown",
   "metadata": {},
   "source": [
    "Setting ranges with optimization"
   ]
  },
  {
   "cell_type": "code",
   "execution_count": 16,
   "metadata": {},
   "outputs": [
    {
     "name": "stdout",
     "output_type": "stream",
     "text": [
      "layer 0 done - [(9, [0.985]), (10, [0.9856]), (11, [0.985])]\n",
      "layer 1 done - [(2, [0.921]), (3, [0.9678]), (4, [0.9818]), (5, [0.9742])]\n",
      "layer 4 done - [(6, [0.9846]), (7, [0.986]), (8, [0.986]), (9, [0.9862])]\n",
      "[[1, 0.5706], [2, 0.976], [3, 0.9824], [4, 0.985], [5, 0.9848], [6, 0.9844], [7, 0.9854], [8, 0.9852], [9, 0.985], [10, 0.9856], [11, 0.985], [12, 0.9856], [13, 0.9852], [14, 0.9852], [15, 0.9852], [16, 0.9846], [17, 0.9844], [18, 0.9848], [19, 0.9848], [20, 0.9846], [21, 0.9846], [22, 0.9846], [23, 0.9846], [24, 0.9844], [25, 0.9846], [26, 0.9846], [27, 0.985], [28, 0.9852], [29, 0.9848], [30, 0.9848], [31, 0.9846], [32, 0.9848], [33, 0.9846], [34, 0.9846], [35, 0.9846], [36, 0.9846], [37, 0.9846], [38, 0.9846], [39, 0.9846], [40, 0.9846], [41, 0.9846], [42, 0.9846], [43, 0.9846], [44, 0.9846], [45, 0.9846], [46, 0.9846], [47, 0.9846], [48, 0.9846], [49, 0.9846], [50, 0.9846]]\n",
      "[[1, 0.1622], [2, 0.921], [3, 0.9678], [4, 0.9818], [5, 0.9742], [6, 0.9848], [7, 0.9852], [8, 0.9856], [9, 0.9846], [10, 0.9836], [11, 0.9842], [12, 0.984], [13, 0.9844], [14, 0.9836], [15, 0.9838], [16, 0.985], [17, 0.9844], [18, 0.9846], [19, 0.9852], [20, 0.9848], [21, 0.9848], [22, 0.9854], [23, 0.985], [24, 0.9858], [25, 0.9854], [26, 0.9846], [27, 0.9852], [28, 0.9846], [29, 0.9852], [30, 0.9848], [31, 0.9848], [32, 0.9848], [33, 0.9856], [34, 0.985], [35, 0.985], [36, 0.9844], [37, 0.9854], [38, 0.9846], [39, 0.9846], [40, 0.985], [41, 0.985], [42, 0.9848], [43, 0.9848], [44, 0.9846], [45, 0.9846], [46, 0.9844], [47, 0.9848], [48, 0.9848], [49, 0.9846], [50, 0.985]]\n",
      "[[1, 0.1188], [2, 0.9584], [3, 0.9658], [4, 0.9806], [5, 0.9802], [6, 0.9834], [7, 0.9844], [8, 0.9846], [9, 0.984], [10, 0.9852], [11, 0.9844], [12, 0.9848], [13, 0.9852], [14, 0.9854], [15, 0.9848], [16, 0.9856], [17, 0.9846], [18, 0.986], [19, 0.9862], [20, 0.9854], [21, 0.9852], [22, 0.9856], [23, 0.985], [24, 0.9842], [25, 0.9854], [26, 0.9844], [27, 0.9846], [28, 0.985], [29, 0.9844], [30, 0.9852], [31, 0.9852], [32, 0.985], [33, 0.9856], [34, 0.985], [35, 0.985], [36, 0.9848], [37, 0.9856], [38, 0.9856], [39, 0.9852], [40, 0.985], [41, 0.985], [42, 0.9856], [43, 0.9852], [44, 0.985], [45, 0.9852], [46, 0.9848], [47, 0.9852], [48, 0.9848], [49, 0.9854], [50, 0.9852]]\n",
      "[[1, 0.1016], [2, 0.968], [3, 0.978], [4, 0.9826], [5, 0.981], [6, 0.9854], [7, 0.9854], [8, 0.985], [9, 0.985], [10, 0.9844], [11, 0.9838], [12, 0.9854], [13, 0.9852], [14, 0.9864], [15, 0.9852], [16, 0.984], [17, 0.985], [18, 0.9848], [19, 0.9844], [20, 0.9844], [21, 0.9854], [22, 0.9854], [23, 0.9852], [24, 0.9856], [25, 0.9856], [26, 0.985], [27, 0.9854], [28, 0.9854], [29, 0.985], [30, 0.9848], [31, 0.9848], [32, 0.9846], [33, 0.9846], [34, 0.985], [35, 0.9852], [36, 0.9854], [37, 0.985], [38, 0.9854], [39, 0.985], [40, 0.9846], [41, 0.9846], [42, 0.9848], [43, 0.985], [44, 0.985], [45, 0.9852], [46, 0.9854], [47, 0.9852], [48, 0.985], [49, 0.9848], [50, 0.985]]\n",
      "[[1, 0.1002], [2, 0.961], [3, 0.9676], [4, 0.9844], [5, 0.986], [6, 0.9846], [7, 0.986], [8, 0.986], [9, 0.9862], [10, 0.984], [11, 0.9842], [12, 0.9852], [13, 0.986], [14, 0.9856], [15, 0.9856], [16, 0.9844], [17, 0.9844], [18, 0.9852], [19, 0.9856], [20, 0.9858], [21, 0.9852], [22, 0.9854], [23, 0.9856], [24, 0.9852], [25, 0.986], [26, 0.985], [27, 0.9852], [28, 0.9854], [29, 0.9856], [30, 0.9846], [31, 0.9848], [32, 0.9852], [33, 0.9856], [34, 0.9856], [35, 0.9852], [36, 0.9844], [37, 0.9846], [38, 0.9846], [39, 0.9852], [40, 0.985], [41, 0.985], [42, 0.9852], [43, 0.9852], [44, 0.9848], [45, 0.985], [46, 0.9848], [47, 0.9848], [48, 0.9852], [49, 0.9854], [50, 0.9848]]\n",
      "49\n",
      "47\n",
      "47\n",
      "48\n",
      "47\n"
     ]
    }
   ],
   "source": [
    "lam_test_inp = lambda _ : get_accuracy(model, dataset.test_dl, DEVICE)\n",
    "\n",
    "if RANGE_OPTIMIZATION:\n",
    "    CHROMOSOME_RANGES = ws_controller.get_optimized_layer_ranges(CHROMOSOME_RANGES, lam_test_inp, RANGE_OPTIMIZATION_TRESHOLD, \n",
    "        savefile=RANGE_OPTIMIZATION_FILE)\n",
    "\n",
    "for c_range in CHROMOSOME_RANGES:\n",
    "    print(len(c_range))"
   ]
  },
  {
   "cell_type": "markdown",
   "metadata": {},
   "source": [
    "Run evolution"
   ]
  },
  {
   "cell_type": "code",
   "execution_count": null,
   "metadata": {},
   "outputs": [],
   "source": [
    "fit_controll = FitnessController(TARGET, fitness_vals_fc, fit_from_vals, target_update_offset=TARGET_UPDATE_OFFSET, \n",
    "    lock=LOCK_TARGET, target_limit=TARGET_LOW_LIMIT)\n",
    "genetic = GeneticController(CHROMOSOME_RANGES, NUM_PULATION, fit_controll)\n",
    "\n",
    "if evol_data.size != 0:\n",
    "    genetic.load_from_pd(evol_data, verbose=True)\n",
    "elif TOP_REPR_SET_INDIV:\n",
    "    genetic.population[0].chromosome = [rng[-1] for rng in CHROMOSOME_RANGES]\n",
    "\n",
    "genetic.run(NUM_GENERATIONS, logger_fc, deal_elit=deal_elit, verbose=True)"
   ]
  },
  {
   "cell_type": "markdown",
   "metadata": {},
   "source": [
    "See output"
   ]
  },
  {
   "cell_type": "code",
   "execution_count": null,
   "metadata": {},
   "outputs": [],
   "source": [
    "evol_data.tail()"
   ]
  },
  {
   "cell_type": "markdown",
   "metadata": {},
   "source": [
    "Plotting data"
   ]
  },
  {
   "cell_type": "code",
   "execution_count": null,
   "metadata": {},
   "outputs": [],
   "source": [
    "plot_alcr(evol_data, target=fit_controll.targ)\n",
    "plt.title('Genetic Algorithm on LeNet-5')"
   ]
  }
 ],
 "metadata": {
  "kernelspec": {
   "display_name": "Python 3.10.8 64-bit",
   "language": "python",
   "name": "python3"
  },
  "language_info": {
   "codemirror_mode": {
    "name": "ipython",
    "version": 3
   },
   "file_extension": ".py",
   "mimetype": "text/x-python",
   "name": "python",
   "nbconvert_exporter": "python",
   "pygments_lexer": "ipython3",
   "version": "3.10.10"
  },
  "orig_nbformat": 4,
  "vscode": {
   "interpreter": {
    "hash": "97cc609b13305c559618ec78a438abc56230b9381f827f22d070313b9a1f3777"
   }
  }
 },
 "nbformat": 4,
 "nbformat_minor": 2
}
