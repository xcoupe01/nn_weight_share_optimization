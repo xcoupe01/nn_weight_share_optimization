{
 "cells": [
  {
   "attachments": {},
   "cell_type": "markdown",
   "metadata": {},
   "source": [
    "# Single run close look"
   ]
  },
  {
   "attachments": {},
   "cell_type": "markdown",
   "metadata": {},
   "source": [
    "Set root path"
   ]
  },
  {
   "cell_type": "code",
   "execution_count": 1,
   "metadata": {},
   "outputs": [],
   "source": [
    "PATH_PREFIX = '../../../'\n",
    "import sys\n",
    "sys.path.append(PATH_PREFIX)"
   ]
  },
  {
   "attachments": {},
   "cell_type": "markdown",
   "metadata": {},
   "source": [
    "Imports"
   ]
  },
  {
   "cell_type": "code",
   "execution_count": 2,
   "metadata": {},
   "outputs": [],
   "source": [
    "import pandas as pd\n",
    "import seaborn as sns\n",
    "import matplotlib.pyplot as plt\n",
    "import os\n",
    "import math\n",
    "import yaml\n",
    "import csv\n",
    "from utils.plot import *\n",
    "from utils.fitness_controller import FitnessController\n",
    "from compress_optim import CompressConfig, load_comp_config, fit_from_vals"
   ]
  },
  {
   "attachments": {},
   "cell_type": "markdown",
   "metadata": {},
   "source": [
    "Settings"
   ]
  },
  {
   "cell_type": "code",
   "execution_count": 3,
   "metadata": {},
   "outputs": [],
   "source": [
    "NET_TYPE = 'relu'\n",
    "FOLDERS = [\n",
    "    f'lenet_{NET_TYPE}_compress_50_dynamic',\n",
    "    f'lenet_{NET_TYPE}_compress_50_locked',\n",
    "    f'lenet_{NET_TYPE}_compress_50_extrem_dynamic',\n",
    "]\n",
    "\n",
    "SEARCH_FILES = {\n",
    "    'RND_save.csv': 'RND',\n",
    "    'BH_save.csv': 'BH',\n",
    "    'GA_save.csv': 'GA',\n",
    "    'PSO_save.csv': 'PSO'\n",
    "}\n",
    "\n",
    "data = {\n",
    "    'acc': [],\n",
    "    'run': [],\n",
    "    'cr': [],\n",
    "    'opt': [],\n",
    "    'folder': [],\n",
    "}"
   ]
  },
  {
   "cell_type": "markdown",
   "metadata": {},
   "source": []
  },
  {
   "cell_type": "code",
   "execution_count": 4,
   "metadata": {},
   "outputs": [
    {
     "data": {
      "text/html": [
       "<div>\n",
       "<style scoped>\n",
       "    .dataframe tbody tr th:only-of-type {\n",
       "        vertical-align: middle;\n",
       "    }\n",
       "\n",
       "    .dataframe tbody tr th {\n",
       "        vertical-align: top;\n",
       "    }\n",
       "\n",
       "    .dataframe thead th {\n",
       "        text-align: right;\n",
       "    }\n",
       "</style>\n",
       "<table border=\"1\" class=\"dataframe\">\n",
       "  <thead>\n",
       "    <tr style=\"text-align: right;\">\n",
       "      <th></th>\n",
       "      <th>acc</th>\n",
       "      <th>run</th>\n",
       "      <th>cr</th>\n",
       "      <th>opt</th>\n",
       "      <th>folder</th>\n",
       "    </tr>\n",
       "  </thead>\n",
       "  <tbody>\n",
       "    <tr>\n",
       "      <th>21</th>\n",
       "      <td>0.9874</td>\n",
       "      <td>run8</td>\n",
       "      <td>6.180161</td>\n",
       "      <td>BH</td>\n",
       "      <td>lenet_relu_compress_50_dynamic</td>\n",
       "    </tr>\n",
       "    <tr>\n",
       "      <th>15</th>\n",
       "      <td>0.9872</td>\n",
       "      <td>run6</td>\n",
       "      <td>5.734098</td>\n",
       "      <td>BH</td>\n",
       "      <td>lenet_relu_compress_50_dynamic</td>\n",
       "    </tr>\n",
       "    <tr>\n",
       "      <th>100</th>\n",
       "      <td>0.9872</td>\n",
       "      <td>run8</td>\n",
       "      <td>5.525160</td>\n",
       "      <td>PSO</td>\n",
       "      <td>lenet_relu_compress_50_extrem_dynamic</td>\n",
       "    </tr>\n",
       "    <tr>\n",
       "      <th>59</th>\n",
       "      <td>0.9872</td>\n",
       "      <td>run7</td>\n",
       "      <td>5.336558</td>\n",
       "      <td>PSO</td>\n",
       "      <td>lenet_relu_compress_50_locked</td>\n",
       "    </tr>\n",
       "    <tr>\n",
       "      <th>67</th>\n",
       "      <td>0.9870</td>\n",
       "      <td>run9</td>\n",
       "      <td>5.649527</td>\n",
       "      <td>PSO</td>\n",
       "      <td>lenet_relu_compress_50_locked</td>\n",
       "    </tr>\n",
       "    <tr>\n",
       "      <th>...</th>\n",
       "      <td>...</td>\n",
       "      <td>...</td>\n",
       "      <td>...</td>\n",
       "      <td>...</td>\n",
       "      <td>...</td>\n",
       "    </tr>\n",
       "    <tr>\n",
       "      <th>88</th>\n",
       "      <td>0.9858</td>\n",
       "      <td>run4</td>\n",
       "      <td>5.942513</td>\n",
       "      <td>PSO</td>\n",
       "      <td>lenet_relu_compress_50_extrem_dynamic</td>\n",
       "    </tr>\n",
       "    <tr>\n",
       "      <th>32</th>\n",
       "      <td>0.9856</td>\n",
       "      <td>run11</td>\n",
       "      <td>5.636476</td>\n",
       "      <td>PSO</td>\n",
       "      <td>lenet_relu_compress_50_dynamic</td>\n",
       "    </tr>\n",
       "    <tr>\n",
       "      <th>69</th>\n",
       "      <td>0.9856</td>\n",
       "      <td>run10</td>\n",
       "      <td>5.423571</td>\n",
       "      <td>BH</td>\n",
       "      <td>lenet_relu_compress_50_locked</td>\n",
       "    </tr>\n",
       "    <tr>\n",
       "      <th>108</th>\n",
       "      <td>0.9856</td>\n",
       "      <td>run11</td>\n",
       "      <td>4.688146</td>\n",
       "      <td>GA</td>\n",
       "      <td>lenet_relu_compress_50_extrem_dynamic</td>\n",
       "    </tr>\n",
       "    <tr>\n",
       "      <th>78</th>\n",
       "      <td>0.9856</td>\n",
       "      <td>run1</td>\n",
       "      <td>4.971568</td>\n",
       "      <td>GA</td>\n",
       "      <td>lenet_relu_compress_50_extrem_dynamic</td>\n",
       "    </tr>\n",
       "  </tbody>\n",
       "</table>\n",
       "<p>110 rows × 5 columns</p>\n",
       "</div>"
      ],
      "text/plain": [
       "        acc    run        cr  opt                                 folder\n",
       "21   0.9874   run8  6.180161   BH         lenet_relu_compress_50_dynamic\n",
       "15   0.9872   run6  5.734098   BH         lenet_relu_compress_50_dynamic\n",
       "100  0.9872   run8  5.525160  PSO  lenet_relu_compress_50_extrem_dynamic\n",
       "59   0.9872   run7  5.336558  PSO          lenet_relu_compress_50_locked\n",
       "67   0.9870   run9  5.649527  PSO          lenet_relu_compress_50_locked\n",
       "..      ...    ...       ...  ...                                    ...\n",
       "88   0.9858   run4  5.942513  PSO  lenet_relu_compress_50_extrem_dynamic\n",
       "32   0.9856  run11  5.636476  PSO         lenet_relu_compress_50_dynamic\n",
       "69   0.9856  run10  5.423571   BH          lenet_relu_compress_50_locked\n",
       "108  0.9856  run11  4.688146   GA  lenet_relu_compress_50_extrem_dynamic\n",
       "78   0.9856   run1  4.971568   GA  lenet_relu_compress_50_extrem_dynamic\n",
       "\n",
       "[110 rows x 5 columns]"
      ]
     },
     "execution_count": 4,
     "metadata": {},
     "output_type": "execute_result"
    }
   ],
   "source": [
    "for folder in FOLDERS:\n",
    "    for run in [f'run{x}' for x in range(1, 12)]:\n",
    "        for file in os.listdir(os.path.join(PATH_PREFIX, 'results', folder, run)):\n",
    "            df = pd.read_csv(os.path.join(PATH_PREFIX, 'results', folder, run, file))\n",
    "            best_row = df[df['accuracy'] == df['accuracy'].max()]\n",
    "            data['acc'].append(list(best_row['accuracy'])[0])\n",
    "            data['run'].append(run)\n",
    "            data['cr'].append(list(best_row['compression'])[0])\n",
    "            data['opt'].append(SEARCH_FILES[file])\n",
    "            data['folder'].append(folder)\n",
    "\n",
    "\n",
    "data = pd.DataFrame(data)\n",
    "data.sort_values('acc', ascending=False)\n"
   ]
  }
 ],
 "metadata": {
  "kernelspec": {
   "display_name": "Python 3",
   "language": "python",
   "name": "python3"
  },
  "language_info": {
   "codemirror_mode": {
    "name": "ipython",
    "version": 3
   },
   "file_extension": ".py",
   "mimetype": "text/x-python",
   "name": "python",
   "nbconvert_exporter": "python",
   "pygments_lexer": "ipython3",
   "version": "3.10.11"
  },
  "orig_nbformat": 4
 },
 "nbformat": 4,
 "nbformat_minor": 2
}
