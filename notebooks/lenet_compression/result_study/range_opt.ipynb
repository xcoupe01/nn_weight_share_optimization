{
 "cells": [
  {
   "cell_type": "code",
   "execution_count": null,
   "metadata": {},
   "outputs": [],
   "source": [
    "PATH_PREFIX = '../../../'\n",
    "import sys\n",
    "sys.path.append(PATH_PREFIX)"
   ]
  },
  {
   "cell_type": "code",
   "execution_count": null,
   "metadata": {},
   "outputs": [],
   "source": [
    "import pandas as pd\n",
    "import seaborn as sns\n",
    "import matplotlib.pyplot as plt\n",
    "import os\n",
    "import math\n",
    "import yaml\n",
    "import csv\n",
    "from utils.plot import *\n",
    "from utils.fitness_controller import FitnessController\n",
    "from compress_optim import CompressConfig, load_comp_config, fit_from_vals"
   ]
  },
  {
   "cell_type": "code",
   "execution_count": null,
   "metadata": {},
   "outputs": [],
   "source": [
    "NET_TYPE = 'tanh'\n",
    "PREC = 'f4'\n",
    "SAVE_PLOTS = False\n",
    "SAVE_PLOTS_LOC = os.path.join(PATH_PREFIX, 'results/graphs/')\n",
    "SAVE_PLOT_ID = f'{NET_TYPE}_{PREC}_locked'\n",
    "\n",
    "RANGE_FILE = os.path.join(PATH_PREFIX, f'models/lenet/saves/lenet_{NET_TYPE}_layer_perf_{PREC}.csv')\n",
    "\n",
    "file_content:list[list] = []\n",
    "\n",
    "# load file contents\n",
    "if os.path.isfile(RANGE_FILE):\n",
    "    with open(RANGE_FILE) as f:\n",
    "        reader = csv.reader(f)\n",
    "        for row in reader:\n",
    "            file_content.append([])\n",
    "            for item in row:\n",
    "                file_content[-1].append(eval(item))\n",
    "\n",
    "len(file_content[0])"
   ]
  },
  {
   "cell_type": "code",
   "execution_count": null,
   "metadata": {},
   "outputs": [],
   "source": [
    "plt.figure(figsize=(10,7))\n",
    "plt.rc('font', size=15)\n",
    "for i, layer in enumerate(file_content):\n",
    "    plt.plot(np.array([x[1] for x in layer]) * 100, label=f'Vrstva {i}')\n",
    "plt.axhline(y=97, linewidth=1, color='r', alpha=0.5, label='Limit')\n",
    "plt.legend()\n",
    "plt.xlabel('Počet shluků')\n",
    "plt.ylabel('Přesnost [%]')\n",
    "plt.title(f'Optimalizace pro síť Le-Net-5 {\"ReLu\" if NET_TYPE == \"relu\" else \"Tanh\"} {\"float32\" if PREC == \"f4\" else ( \"float16\" if PREC == \"f2\" else \"float8\")}')\n",
    "plt.tight_layout()\n",
    "\n",
    "if SAVE_PLOTS:\n",
    "    os.makedirs(os.path.join(SAVE_PLOTS_LOC, 'range_opt'), exist_ok=True)\n",
    "    plt.savefig(os.path.join(SAVE_PLOTS_LOC, 'range_opt' ,f'layer_perf_{SAVE_PLOT_ID}.pdf'))"
   ]
  },
  {
   "cell_type": "code",
   "execution_count": null,
   "metadata": {},
   "outputs": [],
   "source": [
    "for layer in file_content:\n",
    "    print(len([x for x in layer if x[1] > 0.97]))"
   ]
  }
 ],
 "metadata": {
  "kernelspec": {
   "display_name": "Python 3",
   "language": "python",
   "name": "python3"
  },
  "language_info": {
   "codemirror_mode": {
    "name": "ipython",
    "version": 3
   },
   "file_extension": ".py",
   "mimetype": "text/x-python",
   "name": "python",
   "nbconvert_exporter": "python",
   "pygments_lexer": "ipython3",
   "version": "3.10.11"
  },
  "orig_nbformat": 4
 },
 "nbformat": 4,
 "nbformat_minor": 2
}
