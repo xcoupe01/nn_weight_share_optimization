{
 "cells": [
  {
   "attachments": {},
   "cell_type": "markdown",
   "metadata": {},
   "source": [
    "# Differend compression algorithms for Weight-Sharing study"
   ]
  },
  {
   "cell_type": "code",
   "execution_count": null,
   "metadata": {},
   "outputs": [],
   "source": [
    "PATH_PREFIX = '../../../'\n",
    "import sys\n",
    "sys.path.append(PATH_PREFIX)"
   ]
  },
  {
   "cell_type": "code",
   "execution_count": null,
   "metadata": {},
   "outputs": [],
   "source": [
    "import pandas as pd\n",
    "import seaborn as sns\n",
    "import matplotlib.pyplot as plt\n",
    "import os\n",
    "import math\n",
    "import yaml\n",
    "import csv\n",
    "from utils.plot import *\n",
    "from utils.fitness_controller import FitnessController\n",
    "from compress_optim import CompressConfig, load_comp_config, fit_from_vals"
   ]
  },
  {
   "attachments": {},
   "cell_type": "markdown",
   "metadata": {},
   "source": [
    "Settings"
   ]
  },
  {
   "cell_type": "code",
   "execution_count": null,
   "metadata": {},
   "outputs": [],
   "source": [
    "NET_TYPE = 'tanh'\n",
    "\n",
    "\n",
    "ACC_TRESHOLD = 0.01\n",
    "FOLDERS_EXP = [\n",
    "    {'path': os.path.join(PATH_PREFIX, f'results/lenet_{NET_TYPE}_compress_50_extrem_dynamic/'), 'type': 'K-Means'},\n",
    "    {'path': os.path.join(PATH_PREFIX, f'results/lenet_{NET_TYPE}_compress_50_dynamic_mbk/'), 'type': 'Mini-Batch K-Means'},\n",
    "    {'path': os.path.join(PATH_PREFIX, f'results/lenet_{NET_TYPE}_compress_50_dynamic_gmm/'), 'type': 'GMM'}\n",
    "    ]\n",
    "\n",
    "FILE_FILT_SHOW = [\n",
    "    'GA_save.csv', \n",
    "    'PSO_save.csv',\n",
    "    'BH_save.csv',\n",
    "]\n",
    "\n",
    "SAVE_FILES = {\n",
    "    'RND_save.csv': 'RND',\n",
    "    'PSO_save.csv': 'PSO',\n",
    "    'GA_save.csv': 'GA',\n",
    "    'BH_save.csv': 'BH',\n",
    "}"
   ]
  },
  {
   "attachments": {},
   "cell_type": "markdown",
   "metadata": {},
   "source": [
    "Loading data"
   ]
  },
  {
   "cell_type": "code",
   "execution_count": null,
   "metadata": {},
   "outputs": [],
   "source": [
    "data_complete = {\n",
    "    'accuracy': [],\n",
    "    'accuracy_loss': [],\n",
    "    'compression': [],\n",
    "    'type': [],\n",
    "    'tar_type': [],\n",
    "    'repr': [],\n",
    "    'share_t': [],\n",
    "    'acc_t': []\n",
    "}\n",
    "\n",
    "for experiment in FOLDERS_EXP:\n",
    "\n",
    "    exp_dirs = [name for name in os.listdir(experiment['path']) if os.path.isdir(os.path.join(experiment['path'], name))]\n",
    "\n",
    "    # load config\n",
    "    with open(os.path.join(experiment['path'], 'experiment_setting.yaml'), 'r') as config:\n",
    "        load_comp_config(yaml.safe_load(config))\n",
    "    \n",
    "    print(experiment['path'])\n",
    "\n",
    "    for dir in exp_dirs:\n",
    "\n",
    "        for file in [x for x in os.listdir(os.path.join(experiment['path'], dir)) if x in FILE_FILT_SHOW]:\n",
    "            \n",
    "            # loading the data\n",
    "            save_df = pd.read_csv(os.path.join(experiment['path'], dir, file))           \n",
    "\n",
    "            data_complete['accuracy'] += list(save_df['accuracy'])\n",
    "            data_complete['accuracy_loss'] += list(save_df['accuracy_loss'])\n",
    "            data_complete['compression'] += list(save_df['compression'])\n",
    "            data_complete['type'] += [SAVE_FILES[file] for _ in range(len(save_df.index))] \n",
    "            data_complete['tar_type'] += [experiment['type'] for _ in range(len(save_df.index))]\n",
    "            data_complete['repr'] += list(save_df['representation'] if 'representation' in save_df.columns else save_df['chromosome'])\n",
    "            data_complete['share_t'] += list(save_df['share_t'])\n",
    "            data_complete['acc_t'] += list(save_df['acc_t'])\n",
    "            \n",
    "data_complete = pd.DataFrame(data_complete)"
   ]
  },
  {
   "cell_type": "code",
   "execution_count": null,
   "metadata": {},
   "outputs": [],
   "source": [
    "data_complete['accuracy_loss'] *= 100"
   ]
  },
  {
   "cell_type": "code",
   "execution_count": null,
   "metadata": {},
   "outputs": [],
   "source": [
    "data_complete.to_csv(f'data_lenet_{NET_TYPE}_clustering.csv')"
   ]
  },
  {
   "attachments": {},
   "cell_type": "markdown",
   "metadata": {},
   "source": [
    "Plot pareto lines"
   ]
  },
  {
   "cell_type": "code",
   "execution_count": null,
   "metadata": {},
   "outputs": [],
   "source": [
    "pareto_data = {\n",
    "    'accuracy': [],\n",
    "    'accuracy_loss': [],\n",
    "    'compression': [],\n",
    "    'type': [],\n",
    "    'tar_type': [],\n",
    "    'repr': []\n",
    "}\n",
    "\n",
    "pareto_data = pd.DataFrame(pareto_data)\n",
    "\n",
    "for prec_type in ['K-Means', 'Mini-Batch K-Means', 'GMM']:\n",
    "    pareto_data = pareto_data.append(pareto_from_df(data_complete[data_complete['tar_type'] == prec_type]), ignore_index=True)\n",
    "\n",
    "pareto_data = pareto_data.rename(columns={\"type\": \"Optimalizace\", \"tar_type\": \"Shlukování\"})\n",
    "\n",
    "sns.set(rc={'figure.figsize': (18, 10)}, font_scale=2)\n",
    "plt.rc('font', size=25)\n",
    "#sns.lmplot(data=pareto_data, x='compression', y='accuracy_loss', hue='tar_type', order=2, size=7, aspect=1.6)\n",
    "sns.lineplot(data=pareto_data, x='compression', y='accuracy_loss', hue='Shlukování', alpha=0.5, legend=False)\n",
    "sns.scatterplot(data=pareto_data, x='compression', y='accuracy_loss', style='Optimalizace', hue='Shlukování')\n",
    "plt.ylabel('Ztráta Přesnosti [%]')\n",
    "plt.xlabel('Kompresní poměr')\n",
    "plt.ylim(top=1)\n",
    "plt.xlim(right=14 if NET_TYPE == 'relu' else 22)\n",
    "plt.title(f'Komprese sítě Le-Net-5 { \"ReLu\" if NET_TYPE == \"relu\" else \"Tanh\"}')\n",
    "\n",
    "os.makedirs(os.path.join(PATH_PREFIX, 'results/graphs/times'), exist_ok=True)\n",
    "plt.savefig(os.path.join(PATH_PREFIX, 'results/graphs/times', f'lineplot_clust_algs_lenet_{NET_TYPE}.pdf'))"
   ]
  },
  {
   "cell_type": "code",
   "execution_count": null,
   "metadata": {},
   "outputs": [],
   "source": [
    "data_complete"
   ]
  },
  {
   "cell_type": "code",
   "execution_count": null,
   "metadata": {},
   "outputs": [],
   "source": [
    "time_data = {\n",
    "    'type': [],\n",
    "    'Čas': [],\n",
    "    'time': [],\n",
    "    'percent': []\n",
    "}\n",
    "\n",
    "tmp_df = data_complete.groupby('tar_type').mean()\n",
    "tmp_df = tmp_df.reset_index()\n",
    "for alg in ['K-Means', 'Mini-Batch K-Means', 'GMM']:\n",
    "    row = tmp_df[tmp_df['tar_type'] == alg]\n",
    "    time_data['type'] += [alg, alg]\n",
    "    time_data['Čas'] += ['Shlukování', 'Přesnost']\n",
    "    time_data['time'] += [row['share_t'].values[0], row['acc_t'].values[0]]\n",
    "    time_sum = sum([row['share_t'].values[0], row['acc_t'].values[0]])\n",
    "    time_data['percent'] += [row['share_t'].values[0]/time_sum, row['acc_t'].values[0]/time_sum]\n",
    "\n",
    "time_data = pd.DataFrame(time_data)\n",
    "time_data"
   ]
  },
  {
   "attachments": {},
   "cell_type": "markdown",
   "metadata": {},
   "source": [
    "Plot time ratios"
   ]
  },
  {
   "cell_type": "code",
   "execution_count": null,
   "metadata": {},
   "outputs": [],
   "source": [
    "sns.set(rc={'figure.figsize': (10, 10)}, font_scale=2)\n",
    "ax = sns.histplot(data=time_data, x='type', weights='time' ,hue='Čas', multiple='stack', shrink=.8, label='percent')\n",
    "plt.ylabel('Shlukovácí algoritmus')\n",
    "plt.xlabel('Průměrný čas na jednotlivce [s]')\n",
    "plt.title(f'Časy zpracování pro Le-Net-5 {\"ReLu\" if NET_TYPE == \"relu\" else \"Tanh\"}')\n",
    "plt.ylim(top=2.1)\n",
    "\n",
    "def truncate(n, decimals=0):\n",
    "    multiplier = 10 ** decimals\n",
    "    return int(n * multiplier) / multiplier\n",
    "\n",
    "for c in ax.containers:\n",
    "\n",
    "    # Optional: if the segment is small or 0, customize the labels\n",
    "    labels = []\n",
    "    for v in c:\n",
    "        df_closest = time_data.iloc[(time_data['time']-v.get_height()).abs().argsort()[:1]]\n",
    "        labels.append(f'{df_closest[\"percent\"].values[0] * 100:0.2f}%')\n",
    "    \n",
    "    # remove the labels parameter if it's not needed for customized labels\n",
    "    ax.bar_label(c, labels=labels, label_type='center')\n",
    "\n",
    "os.makedirs(os.path.join(PATH_PREFIX, 'results/graphs/times'), exist_ok=True)\n",
    "plt.savefig(os.path.join(PATH_PREFIX, 'results/graphs/times', f'histplot_time_lenet_{NET_TYPE}.pdf'))"
   ]
  },
  {
   "attachments": {},
   "cell_type": "markdown",
   "metadata": {},
   "source": [
    "Plot share time variances"
   ]
  },
  {
   "cell_type": "code",
   "execution_count": null,
   "metadata": {},
   "outputs": [],
   "source": [
    "sns.boxplot(data=data_complete, x='tar_type', y='share_t')"
   ]
  }
 ],
 "metadata": {
  "kernelspec": {
   "display_name": "Python 3",
   "language": "python",
   "name": "python3"
  },
  "language_info": {
   "codemirror_mode": {
    "name": "ipython",
    "version": 3
   },
   "file_extension": ".py",
   "mimetype": "text/x-python",
   "name": "python",
   "nbconvert_exporter": "python",
   "pygments_lexer": "ipython3",
   "version": "3.10.11"
  },
  "orig_nbformat": 4
 },
 "nbformat": 4,
 "nbformat_minor": 2
}
