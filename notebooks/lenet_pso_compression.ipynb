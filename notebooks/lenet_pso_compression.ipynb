{
 "cells": [
  {
   "cell_type": "markdown",
   "metadata": {},
   "source": [
    "## PSO compression search on LeNet-5 "
   ]
  },
  {
   "cell_type": "code",
   "execution_count": 1,
   "metadata": {},
   "outputs": [],
   "source": [
    "import sys\n",
    "sys.path.append('../')"
   ]
  },
  {
   "cell_type": "code",
   "execution_count": 2,
   "metadata": {},
   "outputs": [],
   "source": [
    "import torch\n",
    "import torch.nn as nn\n",
    "import pandas as pd\n",
    "import os\n",
    "import math\n",
    "\n",
    "from data.mnist import MnistDataset\n",
    "from models.lenet.lenet import LeNet5\n",
    "from utils.train import *\n",
    "from utils.weight_sharing import *\n",
    "from utils.pso import PSOController, Particle\n",
    "from utils.plot import *\n",
    "from utils.fitness_controller import FitnessController"
   ]
  },
  {
   "attachments": {},
   "cell_type": "markdown",
   "metadata": {},
   "source": [
    "Setting parameters"
   ]
  },
  {
   "cell_type": "code",
   "execution_count": 3,
   "metadata": {},
   "outputs": [],
   "source": [
    "# net train settings\n",
    "LEARNING_RATE = 0.0001\n",
    "BATCH_SIZE = 32\n",
    "N_CLASSES = 10\n",
    "DEVICE = 'cpu'\n",
    "EPOCHS = 100\n",
    "\n",
    "# net save settings\n",
    "NET_PATH = '../models/lenet/saves/lenet_relu.save'\n",
    "NET_TYPE = 'relu'\n",
    "\n",
    "# pso iter count\n",
    "NUM_ITERATIONS = 5 #20\n",
    "NUM_PARTICLES = 20\n",
    "\n",
    "# pso search settings\n",
    "PARTICLE_REPR_RANGES = [range(1, 51) for _ in range(5)]\n",
    "PARTICLE_MAX_VELOCITY = [4 for _ in range(5)]\n",
    "INERTIA = 0.8\n",
    "\n",
    "# pso save settings\n",
    "SAVE_PSO_FILE = '../results/test_PSO_save.csv'\n",
    "SAVE_EVERY = 1\n",
    "\n",
    "# range optimization settings\n",
    "RANGE_OPTIMIZATION = True\n",
    "RANGE_OPTIMIZATION_TRESHOLD = 0.97\n",
    "RANGE_OPTIMIZATION_FILE = '../results/lenet-relu-layer-perf.csv'\n",
    "\n",
    "# target position\n",
    "TARGET = [1.0, 1.0]\n",
    "LOCK_TARGET = False\n",
    "\n",
    "# WS settings\n",
    "SHARE_ORDER = [0, 1, 2, 3, 4]\n",
    "RETRAIN_AMOUNT = None #[0, 0, 0, 0, 0]\n",
    "PREC_REDUCT = None #['f4', 'f4', 'f4', 'f4', 'f4']\n",
    "CLUST_MOD_FOCUS = None #[0, 0, 0, 0, 0]\n",
    "CLUST_MOD_SPREAD = None #[0, 0, 0, 0, 0]"
   ]
  },
  {
   "cell_type": "markdown",
   "metadata": {},
   "source": [
    "Geting somewhat trained LeNet-5"
   ]
  },
  {
   "cell_type": "code",
   "execution_count": 4,
   "metadata": {},
   "outputs": [],
   "source": [
    "dataset = MnistDataset(BATCH_SIZE, '../data', val_split=0.5)\n",
    "model = LeNet5(N_CLASSES, NET_TYPE)\n",
    "model.to(DEVICE)\n",
    "criterion = nn.CrossEntropyLoss()\n",
    "\n",
    "optimizer = torch.optim.Adam(model.parameters(), lr=LEARNING_RATE)\n",
    "train_settings = [criterion, optimizer, dataset, EPOCHS, DEVICE, 1, True]\n",
    "\n",
    "get_trained(model, NET_PATH, train_settings, DEVICE)\n",
    "\n",
    "before_loss = get_accuracy(model, dataset.test_dl, DEVICE)"
   ]
  },
  {
   "cell_type": "code",
   "execution_count": 5,
   "metadata": {},
   "outputs": [
    {
     "name": "stdout",
     "output_type": "stream",
     "text": [
      "layer_name #weights #bias w_locked CR\n",
      "feature_extractor.0 150 6 False 1.00\n",
      "feature_extractor.3 2400 16 False 1.00\n",
      "feature_extractor.6 48000 120 False 1.00\n",
      "classifier.0 10080 84 False 1.00\n",
      "classifier.2 840 10 False 1.00\n",
      "Sum num weights, bias:  61470 236\n",
      "Compression rate 1.00\n"
     ]
    }
   ],
   "source": [
    "lam_opt = lambda mod : torch.optim.Adam(mod.parameters(), lr=LEARNING_RATE)\n",
    "lam_train = lambda opt, epochs : train_net(model, criterion, opt, dataset, epochs, device=DEVICE)\n",
    "lam_test = lambda : get_accuracy(model, dataset.test_dl, DEVICE)\n",
    "\n",
    "ws_controller = WeightShare(model, lam_opt, lam_train, lam_test)\n",
    "ws_controller.set_reset()\n",
    "\n",
    "ws_controller.print_layers_info()"
   ]
  },
  {
   "cell_type": "markdown",
   "metadata": {},
   "source": [
    "Defining fitness function"
   ]
  },
  {
   "cell_type": "code",
   "execution_count": 6,
   "metadata": {},
   "outputs": [],
   "source": [
    "def fitness_vals_fc(individual:Particle):\n",
    "    # reset the net\n",
    "    ws_controller.reset()\n",
    "    \n",
    "    # share weigts by particle\n",
    "    if individual.data is None:\n",
    "        individual.data = ws_controller.share(individual.representation, SHARE_ORDER, RETRAIN_AMOUNT, PREC_REDUCT, CLUST_MOD_FOCUS, CLUST_MOD_SPREAD)\n",
    "    \n",
    "    return [individual.data['accuracy'], individual.data['compression']]\n",
    "\n",
    "def fit_from_vals(fit_vals, targ_vals, individual:Particle = None):\n",
    "\n",
    "    result = None\n",
    "\n",
    "    # compute fitness\n",
    "    if fit_vals[0] <= 0.95:\n",
    "        result = fit_vals[0]\n",
    "\n",
    "    else:\n",
    "        result = 1 / math.sqrt(pow(1 - ((fit_vals[0] - 0.9) * (1/0.1)), 2) + pow(1 - (fit_vals[1]/targ_vals[1]), 2))\n",
    "\n",
    "    if individual is not None:\n",
    "        individual.fitness = result\n",
    "        \n",
    "        if individual.my_best is not None:\n",
    "            #bevare of recursion\n",
    "            individual.my_best.fitness = fit_from_vals([individual.my_best.data['accuracy'], individual.my_best.data['compression']], targ_vals)\n",
    "\n",
    "        if individual.my_best is None or individual.fitness > individual.my_best.fitness:\n",
    "            individual.my_best = copy.deepcopy(individual)\n",
    "            individual.my_best.my_best = None\n",
    "\n",
    "    \n",
    "    return result"
   ]
  },
  {
   "cell_type": "markdown",
   "metadata": {},
   "source": [
    "Define logging function"
   ]
  },
  {
   "cell_type": "code",
   "execution_count": 7,
   "metadata": {},
   "outputs": [],
   "source": [
    "data = {\n",
    "    'time': [],\n",
    "    'position': [],\n",
    "    'representation': [],\n",
    "    'velocity': [],\n",
    "    'accuracy': [],\n",
    "    'accuracy_loss': [],\n",
    "    'compression': [],\n",
    "    'share_t': [],\n",
    "    'train_t': [],\n",
    "    'acc_t': []\n",
    "}\n",
    "\n",
    "data_types = {\n",
    "    'time' : 'uint8',\n",
    "    'accuracy': 'float32',\n",
    "    'accuracy_loss': 'float32',\n",
    "    'compression': 'float32',\n",
    "    'share_t': 'float32',\n",
    "    'train_t': 'float32',\n",
    "    'acc_t': 'float32'\n",
    "}\n",
    "\n",
    "pso_data = pd.read_csv(SAVE_PSO_FILE).astype(data_types) if os.path.exists(SAVE_PSO_FILE) else pd.DataFrame(data).astype(data_types)\n",
    "\n",
    "def logger_fc(pso_cont:PSOController):\n",
    "    global pso_data\n",
    "\n",
    "    new_data = copy.deepcopy(data)\n",
    "\n",
    "    for particle in pso_cont.swarm:\n",
    "\n",
    "        new_data['time'].append(pso_cont.time)\n",
    "        new_data['position'].append(particle.position)\n",
    "        new_data['representation'].append(particle.representation)\n",
    "        new_data['velocity'].append(particle.velocity)\n",
    "        new_data['accuracy'].append(particle.data['accuracy'])\n",
    "        new_data['accuracy_loss'].append(before_loss - particle.data['accuracy'])\n",
    "        new_data['compression'].append(particle.data['compression'])\n",
    "        new_data['share_t'].append(particle.data['times']['share'])\n",
    "        new_data['train_t'].append(particle.data['times']['train'])\n",
    "        new_data['acc_t'].append(particle.data['times']['test'])\n",
    "\n",
    "    # saving progress\n",
    "    pso_data = pso_data.append(pd.DataFrame(new_data).astype(data_types))\n",
    "    if pso_cont.time % SAVE_EVERY == SAVE_EVERY - 1:\n",
    "        pso_data.reset_index(drop=True, inplace=True)\n",
    "        os.makedirs(os.path.dirname(SAVE_PSO_FILE), exist_ok=True)\n",
    "        pso_data.to_csv(SAVE_PSO_FILE, index=False)"
   ]
  },
  {
   "cell_type": "markdown",
   "metadata": {},
   "source": [
    "Optimizing ranges"
   ]
  },
  {
   "cell_type": "code",
   "execution_count": 8,
   "metadata": {},
   "outputs": [
    {
     "name": "stdout",
     "output_type": "stream",
     "text": [
      "49\n",
      "47\n",
      "47\n",
      "48\n",
      "47\n"
     ]
    }
   ],
   "source": [
    "lam_test_inp = lambda _ : get_accuracy(model, dataset.test_dl, DEVICE)\n",
    "\n",
    "if RANGE_OPTIMIZATION:\n",
    "    PARTICLE_REPR_RANGES = ws_controller.get_optimized_layer_ranges(PARTICLE_REPR_RANGES, lam_test_inp, RANGE_OPTIMIZATION_TRESHOLD, \n",
    "        savefile=RANGE_OPTIMIZATION_FILE)\n",
    "\n",
    "for repr_range in PARTICLE_REPR_RANGES:\n",
    "    print(len(repr_range))"
   ]
  },
  {
   "cell_type": "markdown",
   "metadata": {},
   "source": [
    "Running the search"
   ]
  },
  {
   "cell_type": "code",
   "execution_count": 9,
   "metadata": {},
   "outputs": [
    {
     "name": "stdout",
     "output_type": "stream",
     "text": [
      "Fitness target update to [ 1.         12.22670174]\n",
      "Time 0/5 (4) best fitness 3\n",
      "Time 1/5 (5) best fitness 3.2482022128773327\n",
      "Time 2/5 (6) best fitness 3.338664605613689\n",
      "Time 3/5 (7) best fitness 3.338664605613689\n",
      "Time 4/5 (8) best fitness 3.338664605613689\n",
      "Time 5/5 (9) best fitness 3.338664605613689\n"
     ]
    },
    {
     "data": {
      "text/plain": [
       "[2, 19, 6, 24, 42]"
      ]
     },
     "execution_count": 9,
     "metadata": {},
     "output_type": "execute_result"
    }
   ],
   "source": [
    "fit_controll = FitnessController(TARGET, fitness_vals_fc, fit_from_vals,target_max_offset=1, lock=LOCK_TARGET)\n",
    "pso = PSOController(NUM_PARTICLES, PARTICLE_REPR_RANGES, PARTICLE_MAX_VELOCITY, INERTIA, fit_controll)\n",
    "\n",
    "if pso_data.size != 0:\n",
    "    pso.load_from_pd(pso_data, verbose=True)\n",
    "\n",
    "pso.run(NUM_ITERATIONS, logger_fc, verbose=True)"
   ]
  },
  {
   "cell_type": "code",
   "execution_count": 10,
   "metadata": {},
   "outputs": [
    {
     "data": {
      "text/html": [
       "<div>\n",
       "<style scoped>\n",
       "    .dataframe tbody tr th:only-of-type {\n",
       "        vertical-align: middle;\n",
       "    }\n",
       "\n",
       "    .dataframe tbody tr th {\n",
       "        vertical-align: top;\n",
       "    }\n",
       "\n",
       "    .dataframe thead th {\n",
       "        text-align: right;\n",
       "    }\n",
       "</style>\n",
       "<table border=\"1\" class=\"dataframe\">\n",
       "  <thead>\n",
       "    <tr style=\"text-align: right;\">\n",
       "      <th></th>\n",
       "      <th>time</th>\n",
       "      <th>position</th>\n",
       "      <th>representation</th>\n",
       "      <th>velocity</th>\n",
       "      <th>accuracy</th>\n",
       "      <th>accuracy_loss</th>\n",
       "      <th>compression</th>\n",
       "      <th>share_t</th>\n",
       "      <th>train_t</th>\n",
       "      <th>acc_t</th>\n",
       "      <th>fitness</th>\n",
       "    </tr>\n",
       "  </thead>\n",
       "  <tbody>\n",
       "    <tr>\n",
       "      <th>0</th>\n",
       "      <td>0</td>\n",
       "      <td>[8.929187883995425, 9.569965853636491, 1.73484...</td>\n",
       "      <td>[26, 24, 21, 36, 13]</td>\n",
       "      <td>[-4, -1.0994333911615353, -4, -4, 4]</td>\n",
       "      <td>0.9862</td>\n",
       "      <td>-0.0016</td>\n",
       "      <td>5.475885</td>\n",
       "      <td>1.495821</td>\n",
       "      <td>0.0</td>\n",
       "      <td>4.025360</td>\n",
       "      <td>1.0</td>\n",
       "    </tr>\n",
       "    <tr>\n",
       "      <th>1</th>\n",
       "      <td>0</td>\n",
       "      <td>[15.883698746438208, 17.308664088588046, 2.633...</td>\n",
       "      <td>[28, 5, 17, 39, 49]</td>\n",
       "      <td>[1.4553140014329158, 4, -4, 1.086525204562854, 4]</td>\n",
       "      <td>0.9780</td>\n",
       "      <td>0.0066</td>\n",
       "      <td>5.716939</td>\n",
       "      <td>1.218210</td>\n",
       "      <td>0.0</td>\n",
       "      <td>4.101524</td>\n",
       "      <td>1.0</td>\n",
       "    </tr>\n",
       "    <tr>\n",
       "      <th>2</th>\n",
       "      <td>0</td>\n",
       "      <td>[0, 12.26123537936811, 0, 21.971657600991463, ...</td>\n",
       "      <td>[8, 28, 16, 25, 39]</td>\n",
       "      <td>[-3.2, -3.2, -3.041480919753103, -2.6142288732...</td>\n",
       "      <td>0.9838</td>\n",
       "      <td>0.0008</td>\n",
       "      <td>6.169777</td>\n",
       "      <td>1.074853</td>\n",
       "      <td>0.0</td>\n",
       "      <td>4.022613</td>\n",
       "      <td>1.0</td>\n",
       "    </tr>\n",
       "    <tr>\n",
       "      <th>3</th>\n",
       "      <td>0</td>\n",
       "      <td>[28.405643010820654, 24.52201387721951, 20.504...</td>\n",
       "      <td>[38, 28, 40, 12, 30]</td>\n",
       "      <td>[4, 4, -4, -1.993161573694048, -4]</td>\n",
       "      <td>0.9846</td>\n",
       "      <td>0.0000</td>\n",
       "      <td>5.244367</td>\n",
       "      <td>1.636168</td>\n",
       "      <td>0.0</td>\n",
       "      <td>3.938540</td>\n",
       "      <td>1.0</td>\n",
       "    </tr>\n",
       "    <tr>\n",
       "      <th>4</th>\n",
       "      <td>0</td>\n",
       "      <td>[7.041171074353617, 9.654897820467486, 17.1671...</td>\n",
       "      <td>[21, 7, 29, 11, 20]</td>\n",
       "      <td>[-4, 4, -4, -4, 4]</td>\n",
       "      <td>0.9838</td>\n",
       "      <td>0.0008</td>\n",
       "      <td>6.638814</td>\n",
       "      <td>1.351341</td>\n",
       "      <td>0.0</td>\n",
       "      <td>4.149736</td>\n",
       "      <td>2.0</td>\n",
       "    </tr>\n",
       "    <tr>\n",
       "      <th>...</th>\n",
       "      <td>...</td>\n",
       "      <td>...</td>\n",
       "      <td>...</td>\n",
       "      <td>...</td>\n",
       "      <td>...</td>\n",
       "      <td>...</td>\n",
       "      <td>...</td>\n",
       "      <td>...</td>\n",
       "      <td>...</td>\n",
       "      <td>...</td>\n",
       "      <td>...</td>\n",
       "    </tr>\n",
       "    <tr>\n",
       "      <th>195</th>\n",
       "      <td>9</td>\n",
       "      <td>[0, 18.575002929160505, 0.20360420304680105, 2...</td>\n",
       "      <td>[2, 22, 4, 23, 45]</td>\n",
       "      <td>[-2.0480000000000005, 3.7878297412467608, -4, ...</td>\n",
       "      <td>0.9674</td>\n",
       "      <td>0.0172</td>\n",
       "      <td>10.893797</td>\n",
       "      <td>0.566605</td>\n",
       "      <td>0.0</td>\n",
       "      <td>3.362878</td>\n",
       "      <td>NaN</td>\n",
       "    </tr>\n",
       "    <tr>\n",
       "      <th>196</th>\n",
       "      <td>9</td>\n",
       "      <td>[18.883107723680446, 14.653947632249636, 0, 18...</td>\n",
       "      <td>[20, 18, 4, 21, 43]</td>\n",
       "      <td>[0.696433008015882, -4, -2.4624221477777413, -...</td>\n",
       "      <td>0.9792</td>\n",
       "      <td>0.0054</td>\n",
       "      <td>7.118544</td>\n",
       "      <td>0.612543</td>\n",
       "      <td>0.0</td>\n",
       "      <td>3.842866</td>\n",
       "      <td>NaN</td>\n",
       "    </tr>\n",
       "    <tr>\n",
       "      <th>197</th>\n",
       "      <td>9</td>\n",
       "      <td>[0, 13.047708303446788, 0.20361945733380127, 2...</td>\n",
       "      <td>[2, 17, 4, 24, 42]</td>\n",
       "      <td>[-0.8053866021504087, -1.2538191032356019, -2....</td>\n",
       "      <td>0.9646</td>\n",
       "      <td>0.0200</td>\n",
       "      <td>10.924130</td>\n",
       "      <td>0.561121</td>\n",
       "      <td>0.0</td>\n",
       "      <td>3.406337</td>\n",
       "      <td>NaN</td>\n",
       "    </tr>\n",
       "    <tr>\n",
       "      <th>198</th>\n",
       "      <td>9</td>\n",
       "      <td>[0, 14.022910709112317, 1.466153660313961, 22....</td>\n",
       "      <td>[2, 18, 5, 25, 42]</td>\n",
       "      <td>[-1.0485760000000004, -0.5010864851292397, -1....</td>\n",
       "      <td>0.9728</td>\n",
       "      <td>0.0118</td>\n",
       "      <td>9.854941</td>\n",
       "      <td>0.642932</td>\n",
       "      <td>0.0</td>\n",
       "      <td>3.585722</td>\n",
       "      <td>NaN</td>\n",
       "    </tr>\n",
       "    <tr>\n",
       "      <th>199</th>\n",
       "      <td>9</td>\n",
       "      <td>[10.702353201383119, 16.004108782964092, 0, 22...</td>\n",
       "      <td>[12, 20, 4, 25, 44]</td>\n",
       "      <td>[-4, 1.1802184792015986, -2.247677746959584, 1...</td>\n",
       "      <td>0.9794</td>\n",
       "      <td>0.0052</td>\n",
       "      <td>7.389242</td>\n",
       "      <td>0.592443</td>\n",
       "      <td>0.0</td>\n",
       "      <td>3.455791</td>\n",
       "      <td>NaN</td>\n",
       "    </tr>\n",
       "  </tbody>\n",
       "</table>\n",
       "<p>200 rows × 11 columns</p>\n",
       "</div>"
      ],
      "text/plain": [
       "     time                                           position  \\\n",
       "0       0  [8.929187883995425, 9.569965853636491, 1.73484...   \n",
       "1       0  [15.883698746438208, 17.308664088588046, 2.633...   \n",
       "2       0  [0, 12.26123537936811, 0, 21.971657600991463, ...   \n",
       "3       0  [28.405643010820654, 24.52201387721951, 20.504...   \n",
       "4       0  [7.041171074353617, 9.654897820467486, 17.1671...   \n",
       "..    ...                                                ...   \n",
       "195     9  [0, 18.575002929160505, 0.20360420304680105, 2...   \n",
       "196     9  [18.883107723680446, 14.653947632249636, 0, 18...   \n",
       "197     9  [0, 13.047708303446788, 0.20361945733380127, 2...   \n",
       "198     9  [0, 14.022910709112317, 1.466153660313961, 22....   \n",
       "199     9  [10.702353201383119, 16.004108782964092, 0, 22...   \n",
       "\n",
       "           representation                                           velocity  \\\n",
       "0    [26, 24, 21, 36, 13]               [-4, -1.0994333911615353, -4, -4, 4]   \n",
       "1     [28, 5, 17, 39, 49]  [1.4553140014329158, 4, -4, 1.086525204562854, 4]   \n",
       "2     [8, 28, 16, 25, 39]  [-3.2, -3.2, -3.041480919753103, -2.6142288732...   \n",
       "3    [38, 28, 40, 12, 30]                 [4, 4, -4, -1.993161573694048, -4]   \n",
       "4     [21, 7, 29, 11, 20]                                 [-4, 4, -4, -4, 4]   \n",
       "..                    ...                                                ...   \n",
       "195    [2, 22, 4, 23, 45]  [-2.0480000000000005, 3.7878297412467608, -4, ...   \n",
       "196   [20, 18, 4, 21, 43]  [0.696433008015882, -4, -2.4624221477777413, -...   \n",
       "197    [2, 17, 4, 24, 42]  [-0.8053866021504087, -1.2538191032356019, -2....   \n",
       "198    [2, 18, 5, 25, 42]  [-1.0485760000000004, -0.5010864851292397, -1....   \n",
       "199   [12, 20, 4, 25, 44]  [-4, 1.1802184792015986, -2.247677746959584, 1...   \n",
       "\n",
       "     accuracy  accuracy_loss  compression   share_t  train_t     acc_t  \\\n",
       "0      0.9862        -0.0016     5.475885  1.495821      0.0  4.025360   \n",
       "1      0.9780         0.0066     5.716939  1.218210      0.0  4.101524   \n",
       "2      0.9838         0.0008     6.169777  1.074853      0.0  4.022613   \n",
       "3      0.9846         0.0000     5.244367  1.636168      0.0  3.938540   \n",
       "4      0.9838         0.0008     6.638814  1.351341      0.0  4.149736   \n",
       "..        ...            ...          ...       ...      ...       ...   \n",
       "195    0.9674         0.0172    10.893797  0.566605      0.0  3.362878   \n",
       "196    0.9792         0.0054     7.118544  0.612543      0.0  3.842866   \n",
       "197    0.9646         0.0200    10.924130  0.561121      0.0  3.406337   \n",
       "198    0.9728         0.0118     9.854941  0.642932      0.0  3.585722   \n",
       "199    0.9794         0.0052     7.389242  0.592443      0.0  3.455791   \n",
       "\n",
       "     fitness  \n",
       "0        1.0  \n",
       "1        1.0  \n",
       "2        1.0  \n",
       "3        1.0  \n",
       "4        2.0  \n",
       "..       ...  \n",
       "195      NaN  \n",
       "196      NaN  \n",
       "197      NaN  \n",
       "198      NaN  \n",
       "199      NaN  \n",
       "\n",
       "[200 rows x 11 columns]"
      ]
     },
     "execution_count": 10,
     "metadata": {},
     "output_type": "execute_result"
    }
   ],
   "source": [
    "pso_data"
   ]
  },
  {
   "cell_type": "code",
   "execution_count": 11,
   "metadata": {},
   "outputs": [
    {
     "data": {
      "text/plain": [
       "Text(0.5, 1.0, 'PSO algorithm on LeNet-5')"
      ]
     },
     "execution_count": 11,
     "metadata": {},
     "output_type": "execute_result"
    },
    {
     "data": {
      "image/png": "[encoded data removed]",
      "text/plain": [
       "<Figure size 1800x1000 with 1 Axes>"
      ]
     },
     "metadata": {},
     "output_type": "display_data"
    }
   ],
   "source": [
    "plot_alcr(pso_data)\n",
    "plt.title('PSO algorithm on LeNet-5')"
   ]
  }
 ],
 "metadata": {
  "kernelspec": {
   "display_name": "Python 3.10.8 64-bit",
   "language": "python",
   "name": "python3"
  },
  "language_info": {
   "codemirror_mode": {
    "name": "ipython",
    "version": 3
   },
   "file_extension": ".py",
   "mimetype": "text/x-python",
   "name": "python",
   "nbconvert_exporter": "python",
   "pygments_lexer": "ipython3",
   "version": "3.10.9"
  },
  "orig_nbformat": 4,
  "vscode": {
   "interpreter": {
    "hash": "97cc609b13305c559618ec78a438abc56230b9381f827f22d070313b9a1f3777"
   }
  }
 },
 "nbformat": 4,
 "nbformat_minor": 2
}
