{
 "cells": [
  {
   "cell_type": "code",
   "execution_count": 1,
   "metadata": {},
   "outputs": [],
   "source": [
    "PATH_PREFIX = '../../'\n",
    "import sys\n",
    "sys.path.append(PATH_PREFIX)"
   ]
  },
  {
   "cell_type": "code",
   "execution_count": 2,
   "metadata": {},
   "outputs": [],
   "source": [
    "import torch\n",
    "import os\n",
    "from utils.weight_sharing import *\n",
    "from data.imagenette import *\n",
    "from data.utils.download import *\n",
    "from data.utils.imagenet_utils import *\n",
    "\n",
    "BATCH_SIZE = 32"
   ]
  },
  {
   "cell_type": "code",
   "execution_count": 3,
   "metadata": {},
   "outputs": [
    {
     "name": "stderr",
     "output_type": "stream",
     "text": [
      "Using cache found in /home/coupekv/.cache/torch/hub/pytorch_vision_v0.10.0\n"
     ]
    }
   ],
   "source": [
    "net = torch.hub.load('pytorch/vision:v0.10.0', 'mobilenet_v2', pretrained=True)\n",
    "\n",
    "dat = ImagenetteDataset(BATCH_SIZE, os.path.join(PATH_PREFIX, 'data/imagenette/'), val_split=0.9)\n"
   ]
  },
  {
   "cell_type": "code",
   "execution_count": 4,
   "metadata": {},
   "outputs": [
    {
     "data": {
      "text/plain": [
       "96.1832046508789"
      ]
     },
     "execution_count": 4,
     "metadata": {},
     "output_type": "execute_result"
    }
   ],
   "source": [
    "get_accuracy(net, dat.test_dl, 'cpu', topk=5)"
   ]
  },
  {
   "cell_type": "code",
   "execution_count": 5,
   "metadata": {},
   "outputs": [
    {
     "name": "stdout",
     "output_type": "stream",
     "text": [
      "layer_name #weights #bias w_locked CR\n",
      "features.0.0 864 0 False 1.00\n",
      "features.1.conv.0.0 288 0 False 1.00\n",
      "features.1.conv.1 512 0 False 1.00\n",
      "features.2.conv.0.0 1536 0 False 1.00\n",
      "features.2.conv.1.0 864 0 False 1.00\n",
      "features.2.conv.2 2304 0 False 1.00\n",
      "features.3.conv.0.0 3456 0 False 1.00\n",
      "features.3.conv.1.0 1296 0 False 1.00\n",
      "features.3.conv.2 3456 0 False 1.00\n",
      "features.4.conv.0.0 3456 0 False 1.00\n",
      "features.4.conv.1.0 1296 0 False 1.00\n",
      "features.4.conv.2 4608 0 False 1.00\n",
      "features.5.conv.0.0 6144 0 False 1.00\n",
      "features.5.conv.1.0 1728 0 False 1.00\n",
      "features.5.conv.2 6144 0 False 1.00\n",
      "features.6.conv.0.0 6144 0 False 1.00\n",
      "features.6.conv.1.0 1728 0 False 1.00\n",
      "features.6.conv.2 6144 0 False 1.00\n",
      "features.7.conv.0.0 6144 0 False 1.00\n",
      "features.7.conv.1.0 1728 0 False 1.00\n",
      "features.7.conv.2 12288 0 False 1.00\n",
      "features.8.conv.0.0 24576 0 False 1.00\n",
      "features.8.conv.1.0 3456 0 False 1.00\n",
      "features.8.conv.2 24576 0 False 1.00\n",
      "features.9.conv.0.0 24576 0 False 1.00\n",
      "features.9.conv.1.0 3456 0 False 1.00\n",
      "features.9.conv.2 24576 0 False 1.00\n",
      "features.10.conv.0.0 24576 0 False 1.00\n",
      "features.10.conv.1.0 3456 0 False 1.00\n",
      "features.10.conv.2 24576 0 False 1.00\n",
      "features.11.conv.0.0 24576 0 False 1.00\n",
      "features.11.conv.1.0 3456 0 False 1.00\n",
      "features.11.conv.2 36864 0 False 1.00\n",
      "features.12.conv.0.0 55296 0 False 1.00\n",
      "features.12.conv.1.0 5184 0 False 1.00\n",
      "features.12.conv.2 55296 0 False 1.00\n",
      "features.13.conv.0.0 55296 0 False 1.00\n",
      "features.13.conv.1.0 5184 0 False 1.00\n",
      "features.13.conv.2 55296 0 False 1.00\n",
      "features.14.conv.0.0 55296 0 False 1.00\n",
      "features.14.conv.1.0 5184 0 False 1.00\n",
      "features.14.conv.2 92160 0 False 1.00\n",
      "features.15.conv.0.0 153600 0 False 1.00\n",
      "features.15.conv.1.0 8640 0 False 1.00\n",
      "features.15.conv.2 153600 0 False 1.00\n",
      "features.16.conv.0.0 153600 0 False 1.00\n",
      "features.16.conv.1.0 8640 0 False 1.00\n",
      "features.16.conv.2 153600 0 False 1.00\n",
      "features.17.conv.0.0 153600 0 False 1.00\n",
      "features.17.conv.1.0 8640 0 False 1.00\n",
      "features.17.conv.2 307200 0 False 1.00\n",
      "features.18.0 409600 0 False 1.00\n",
      "classifier.1 1280000 1000 False 1.00\n",
      "Sum num weights, bias:  3469760 1000\n",
      "Compression rate 1.00\n"
     ]
    }
   ],
   "source": [
    "ws_controller = WeightShare(net)\n",
    "ws_controller.print_layers_info()"
   ]
  },
  {
   "cell_type": "code",
   "execution_count": 6,
   "metadata": {},
   "outputs": [
    {
     "data": {
      "text/plain": [
       "53"
      ]
     },
     "execution_count": 6,
     "metadata": {},
     "output_type": "execute_result"
    }
   ],
   "source": [
    "len(ws_controller.model_layers)"
   ]
  },
  {
   "cell_type": "code",
   "execution_count": null,
   "metadata": {},
   "outputs": [],
   "source": [
    "ws_controller.model_layers[2].plot_weight()"
   ]
  },
  {
   "cell_type": "code",
   "execution_count": null,
   "metadata": {},
   "outputs": [],
   "source": [
    "classes = json.load(open('../data/imagenette/imagenet_class_index.json'))\n",
    "classes_arr = []\n",
    "\n",
    "for i in range(len(classes.keys())):\n",
    "    classes_arr.append(classes[f'{i}'])\n",
    "\n",
    "output = net(dat.test_dl.__getitem__(1)[0].unsqueeze(0))\n",
    "\n",
    "probabilities = torch.nn.functional.softmax(output[0], dim=0)\n",
    "\n",
    "top5_prob, top5_catid = torch.topk(probabilities, 5)\n",
    "for i in range(top5_prob.size(0)):\n",
    "    print(classes_arr[top5_catid[i]], top5_prob[i].item(), top5_catid[i])"
   ]
  }
 ],
 "metadata": {
  "kernelspec": {
   "display_name": "Python 3",
   "language": "python",
   "name": "python3"
  },
  "language_info": {
   "codemirror_mode": {
    "name": "ipython",
    "version": 3
   },
   "file_extension": ".py",
   "mimetype": "text/x-python",
   "name": "python",
   "nbconvert_exporter": "python",
   "pygments_lexer": "ipython3",
   "version": "3.10.10"
  },
  "orig_nbformat": 4,
  "vscode": {
   "interpreter": {
    "hash": "97cc609b13305c559618ec78a438abc56230b9381f827f22d070313b9a1f3777"
   }
  }
 },
 "nbformat": 4,
 "nbformat_minor": 2
}
