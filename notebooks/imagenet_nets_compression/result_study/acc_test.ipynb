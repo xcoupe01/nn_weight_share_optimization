{
 "cells": [
  {
   "cell_type": "code",
   "execution_count": 2,
   "metadata": {},
   "outputs": [],
   "source": [
    "PATH_PREFIX = '../../../'\n",
    "import sys\n",
    "sys.path.append(PATH_PREFIX)"
   ]
  },
  {
   "cell_type": "code",
   "execution_count": 3,
   "metadata": {},
   "outputs": [],
   "source": [
    "import torch\n",
    "import argparse\n",
    "import os\n",
    "import numpy as np\n",
    "\n",
    "from data.imagenette import ImagenetteDataset\n",
    "from data.utils.imagenet_utils import *\n",
    "from utils.weight_sharing import *"
   ]
  },
  {
   "cell_type": "code",
   "execution_count": 9,
   "metadata": {},
   "outputs": [],
   "source": [
    "# net params\n",
    "BATCH_SIZE = 32\n",
    "NET_REPO = 'pytorch/vision:v0.10.0'\n",
    "DEVICE = 'cpu'\n",
    "NET_TYPE = 'mobilenet_v2'\n",
    "PREC = 'f2'\n",
    "TOPK = 5\n",
    "\n",
    "# dataset settings\n",
    "DATASET_TYPE = 'imagewang' #'imagenette'\n",
    "DATA_PATH = os.path.join(PATH_PREFIX, f'data/{DATASET_TYPE}')"
   ]
  },
  {
   "cell_type": "code",
   "execution_count": 10,
   "metadata": {},
   "outputs": [
    {
     "name": "stderr",
     "output_type": "stream",
     "text": [
      "Using cache found in /home/coupekv/.cache/torch/hub/pytorch_vision_v0.10.0\n"
     ]
    },
    {
     "data": {
      "text/plain": [
       "0.9287531971931458"
      ]
     },
     "execution_count": 10,
     "metadata": {},
     "output_type": "execute_result"
    }
   ],
   "source": [
    "dataset = ImagenetteDataset(BATCH_SIZE, DATA_PATH, val_split=0.3, dataset_type=DATASET_TYPE if DATASET_TYPE == 'imagewang' else 'imagenette2') \n",
    "model = torch.hub.load(NET_REPO, NET_TYPE, pretrained=True)\n",
    "\n",
    "model.load_state_dict(torch.load(os.path.join(PATH_PREFIX, f'models/mobilenet_v2/saves/mobilenet_finetuned_{PREC}.save')))\n",
    "\n",
    "get_accuracy(model, dataset.test_dl, DEVICE, topk=TOPK)"
   ]
  },
  {
   "cell_type": "code",
   "execution_count": 11,
   "metadata": {},
   "outputs": [
    {
     "data": {
      "text/plain": [
       "0.9286926984786987"
      ]
     },
     "execution_count": 11,
     "metadata": {},
     "output_type": "execute_result"
    }
   ],
   "source": [
    "get_accuracy(model, dataset.valid_dl, DEVICE, topk=TOPK)"
   ]
  },
  {
   "cell_type": "code",
   "execution_count": 12,
   "metadata": {},
   "outputs": [
    {
     "data": {
      "text/plain": [
       "0.9561660885810852"
      ]
     },
     "execution_count": 12,
     "metadata": {},
     "output_type": "execute_result"
    }
   ],
   "source": [
    "get_accuracy(model, dataset.train_dl, DEVICE, topk=TOPK)"
   ]
  }
 ],
 "metadata": {
  "kernelspec": {
   "display_name": "Python 3",
   "language": "python",
   "name": "python3"
  },
  "language_info": {
   "codemirror_mode": {
    "name": "ipython",
    "version": 3
   },
   "file_extension": ".py",
   "mimetype": "text/x-python",
   "name": "python",
   "nbconvert_exporter": "python",
   "pygments_lexer": "ipython3",
   "version": "3.10.11"
  },
  "orig_nbformat": 4
 },
 "nbformat": 4,
 "nbformat_minor": 2
}
