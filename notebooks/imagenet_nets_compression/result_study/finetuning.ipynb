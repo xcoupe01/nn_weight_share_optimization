{
 "cells": [
  {
   "cell_type": "code",
   "execution_count": 7,
   "metadata": {},
   "outputs": [],
   "source": [
    "PATH_PREFIX = '../../../'\n",
    "import sys\n",
    "sys.path.append(PATH_PREFIX)"
   ]
  },
  {
   "cell_type": "code",
   "execution_count": 8,
   "metadata": {},
   "outputs": [],
   "source": [
    "import torch\n",
    "import argparse\n",
    "import os\n",
    "import numpy as np\n",
    "\n",
    "from data.imagenette import ImagenetteDataset\n",
    "from data.utils.imagenet_utils import *\n",
    "from utils.weight_sharing import *"
   ]
  },
  {
   "cell_type": "code",
   "execution_count": 9,
   "metadata": {},
   "outputs": [],
   "source": [
    "# net params\n",
    "BATCH_SIZE = 32\n",
    "NET_REPO = 'pytorch/vision:v0.10.0'\n",
    "DEVICE = 'cpu'\n",
    "LAYER_CLUSTERS = [98, 95, 77, 67, 115, 106, 55, 98, 110, 55, 52, 44, 113, 61, 50, 19, 40, 107, 87, 10, 60, 22, 95, 31, 12, 51, 37, 102, 45, 31, 65, 115, 62, 13, 43, 112, 101, 62, 72, 59, 76, 89, 29, 38, 41, 112, 23, 115, 44, 13, 106, 79, 86]\n",
    "NET_TYPE = 'mobilenet_v2'\n",
    "CLUST_ALG = 'minibatch-kmeans'\n",
    "PREC = 'f4'\n",
    "\n",
    "# dataset settings\n",
    "DATA_PATH = os.path.join(PATH_PREFIX, 'data/imagenette')"
   ]
  },
  {
   "cell_type": "code",
   "execution_count": 10,
   "metadata": {},
   "outputs": [
    {
     "name": "stderr",
     "output_type": "stream",
     "text": [
      "Using cache found in /home/coupekv/.cache/torch/hub/pytorch_vision_v0.10.0\n"
     ]
    }
   ],
   "source": [
    "dataset = ImagenetteDataset(BATCH_SIZE, DATA_PATH, val_split=0.3)\n",
    "model = torch.hub.load(NET_REPO, NET_TYPE, pretrained=True)\n",
    "\n",
    "lam_opt = None\n",
    "lam_train = None\n",
    "lam_test = lambda : get_accuracy(model, dataset.test_dl, DEVICE, topk=1)"
   ]
  },
  {
   "cell_type": "code",
   "execution_count": 11,
   "metadata": {},
   "outputs": [],
   "source": [
    "ws_controller = WeightShare(model, lam_test, lam_opt, lam_train)"
   ]
  },
  {
   "cell_type": "code",
   "execution_count": 15,
   "metadata": {},
   "outputs": [],
   "source": [
    "ws_controller.set_reset()\n",
    "ws_controller.share(LAYER_CLUSTERS, prec_reduct=[PREC for _ in ws_controller.model_layers], clust_alg=CLUST_ALG)\n",
    "torch.save(model.state_dict(), os.path.join(PATH_PREFIX, f'models/mobilenet_v2/saves/mobilenet_shared_{PREC}.save'))\n",
    "ws_controller.reset()"
   ]
  },
  {
   "cell_type": "code",
   "execution_count": 16,
   "metadata": {},
   "outputs": [
    {
     "name": "stdout",
     "output_type": "stream",
     "text": [
      "Processing layer 0\n",
      "Processing layer 1\n",
      "Processing layer 2\n",
      "Processing layer 3\n",
      "Processing layer 4\n",
      "Processing layer 5\n",
      "Processing layer 6\n",
      "Processing layer 7\n",
      "Processing layer 8\n",
      "Processing layer 9\n",
      "Processing layer 10\n",
      "Processing layer 11\n",
      "Processing layer 12\n",
      "Processing layer 13\n",
      "Processing layer 14\n",
      "Processing layer 15\n",
      "Processing layer 16\n",
      "Processing layer 17\n",
      "Processing layer 18\n",
      "Processing layer 19\n",
      "Processing layer 20\n",
      "Processing layer 21\n",
      "Processing layer 22\n",
      "Processing layer 23\n",
      "Processing layer 24\n",
      "Processing layer 25\n",
      "Processing layer 26\n",
      "Processing layer 27\n",
      "Processing layer 28\n",
      "Processing layer 29\n",
      "Processing layer 30\n",
      "Processing layer 31\n",
      "Processing layer 32\n",
      "Processing layer 33\n",
      "Processing layer 34\n",
      "Processing layer 35\n",
      "Processing layer 36\n",
      "Processing layer 37\n",
      "Processing layer 38\n",
      "Processing layer 39\n",
      "Processing layer 40\n",
      "Processing layer 41\n",
      "Processing layer 42\n",
      "Processing layer 43\n",
      "Processing layer 44\n",
      "Processing layer 45\n",
      "Processing layer 46\n",
      "Processing layer 47\n",
      "Processing layer 48\n",
      "Processing layer 49\n",
      "Processing layer 50\n",
      "Processing layer 51\n",
      "Processing layer 52\n"
     ]
    },
    {
     "data": {
      "text/plain": [
       "[1.4000000000000001,\n",
       " 0.0,\n",
       " 0.8,\n",
       " 6.2,\n",
       " 1.6,\n",
       " 0.0,\n",
       " 1.0,\n",
       " 0.0,\n",
       " 6.2,\n",
       " 8.0,\n",
       " 2.0,\n",
       " 6.6000000000000005,\n",
       " 1.2000000000000002,\n",
       " 0.0,\n",
       " 9.8,\n",
       " 0.0,\n",
       " 0.0,\n",
       " 9.8,\n",
       " 7.800000000000001,\n",
       " 0.0,\n",
       " 5.6000000000000005,\n",
       " 0.4,\n",
       " 6.0,\n",
       " 2.2,\n",
       " 0.8,\n",
       " 0.0,\n",
       " 0.0,\n",
       " 0.0,\n",
       " 0.0,\n",
       " 0.0,\n",
       " 3.0,\n",
       " 1.0,\n",
       " 7.4,\n",
       " 0.0,\n",
       " 4.800000000000001,\n",
       " 2.0,\n",
       " 0.0,\n",
       " 0.0,\n",
       " 0.0,\n",
       " 0.0,\n",
       " 0.0,\n",
       " 0.0,\n",
       " 8.8,\n",
       " 0.0,\n",
       " 0.0,\n",
       " 2.0,\n",
       " 0.0,\n",
       " 1.2000000000000002,\n",
       " 0.0,\n",
       " 0.0,\n",
       " 0.0,\n",
       " 0.0,\n",
       " 0.0]"
      ]
     },
     "execution_count": 16,
     "metadata": {},
     "output_type": "execute_result"
    }
   ],
   "source": [
    "ws_controller.finetuned_mod(\n",
    "    layer_clusters = LAYER_CLUSTERS,\n",
    "    mods_focus = np.arange(0, 10, 0.2),\n",
    "    mods_spread = [2 for _ in ws_controller.model_layers],\n",
    "    prec_reduct = [PREC for _ in ws_controller.model_layers],\n",
    "    savefile = os.path.join(PATH_PREFIX, f'results/finetuning/mobilenet_v2_{PREC}.csv'),\n",
    "    clust_alg = CLUST_ALG,\n",
    "    verbose= True,\n",
    "    shared_model_savefile = os.path.join(PATH_PREFIX, f'models/mobilenet_v2/saves/mobilenet_shared_{PREC}.save')\n",
    ")"
   ]
  },
  {
   "cell_type": "code",
   "execution_count": 17,
   "metadata": {},
   "outputs": [],
   "source": [
    "torch.save(model.state_dict(), os.path.join(PATH_PREFIX, f'models/mobilenet_v2/saves/mobilenet_finetuned_{PREC}.save'))"
   ]
  },
  {
   "cell_type": "code",
   "execution_count": 12,
   "metadata": {},
   "outputs": [
    {
     "data": {
      "text/plain": [
       "0.8391557335853577"
      ]
     },
     "execution_count": 12,
     "metadata": {},
     "output_type": "execute_result"
    }
   ],
   "source": [
    "model.load_state_dict(torch.load(os.path.join(PATH_PREFIX, f'models/mobilenet_v2/saves/mobilenet_finetuned_{PREC}.save')))\n",
    "ws_controller.test()\n",
    "# 0.8205968141555786"
   ]
  }
 ],
 "metadata": {
  "kernelspec": {
   "display_name": "Python 3",
   "language": "python",
   "name": "python3"
  },
  "language_info": {
   "codemirror_mode": {
    "name": "ipython",
    "version": 3
   },
   "file_extension": ".py",
   "mimetype": "text/x-python",
   "name": "python",
   "nbconvert_exporter": "python",
   "pygments_lexer": "ipython3",
   "version": "3.10.11"
  },
  "orig_nbformat": 4
 },
 "nbformat": 4,
 "nbformat_minor": 2
}
