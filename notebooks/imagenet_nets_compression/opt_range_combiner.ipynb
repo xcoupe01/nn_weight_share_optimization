{
 "cells": [
  {
   "cell_type": "code",
   "execution_count": 9,
   "metadata": {},
   "outputs": [],
   "source": [
    "PATH_PREFIX = '../../'\n",
    "import sys\n",
    "sys.path.append(PATH_PREFIX)"
   ]
  },
  {
   "cell_type": "code",
   "execution_count": 10,
   "metadata": {},
   "outputs": [],
   "source": [
    "import csv\n",
    "import os"
   ]
  },
  {
   "cell_type": "code",
   "execution_count": 11,
   "metadata": {},
   "outputs": [
    {
     "name": "stdout",
     "output_type": "stream",
     "text": [
      "../../models/mobilenet_v2/saves/mobilenet_v2_layer_perf_f4_full-1.csv True\n",
      "../../models/mobilenet_v2/saves/mobilenet_v2_layer_perf_f4_full-2.csv True\n",
      "../../models/mobilenet_v2/saves/mobilenet_v2_layer_perf_f4_full-3.csv True\n",
      "../../models/mobilenet_v2/saves/mobilenet_v2_layer_perf_f4_full-4.csv True\n",
      "../../models/mobilenet_v2/saves/mobilenet_v2_layer_perf_f4_full-5.csv True\n",
      "../../models/mobilenet_v2/saves/mobilenet_v2_layer_perf_f4_full-6.csv True\n",
      "../../models/mobilenet_v2/saves/mobilenet_v2_layer_perf_f4_full-7.csv True\n",
      "../../models/mobilenet_v2/saves/mobilenet_v2_layer_perf_f4_full-8.csv True\n",
      "../../models/mobilenet_v2/saves/mobilenet_v2_layer_perf_f4_full-9.csv True\n",
      "../../models/mobilenet_v2/saves/mobilenet_v2_layer_perf_f4_full-10.csv True\n",
      "../../models/mobilenet_v2/saves/mobilenet_v2_layer_perf_f4_full-11.csv True\n",
      "../../models/mobilenet_v2/saves/mobilenet_v2_layer_perf_f4_full-12.csv True\n",
      "53\n"
     ]
    }
   ],
   "source": [
    "file_content = []\n",
    "\n",
    "for num in range(1, 13):\n",
    "    savefile = os.path.join(PATH_PREFIX, f'models/mobilenet_v2/saves/mobilenet_v2_layer_perf_f4_full-{num}.csv')\n",
    "    if os.path.isfile(savefile):\n",
    "        with open(savefile) as f:\n",
    "            reader = csv.reader(f)\n",
    "            for i, row in enumerate(reader):\n",
    "                if len(file_content) <= i:\n",
    "                    file_content.append([])\n",
    "                for item in row:\n",
    "                    perf = eval(item)\n",
    "                    # save file content to edit the file\n",
    "                    file_content[i].append(perf)\n",
    "\n",
    "print(len(file_content))"
   ]
  },
  {
   "cell_type": "code",
   "execution_count": 14,
   "metadata": {},
   "outputs": [
    {
     "name": "stdout",
     "output_type": "stream",
     "text": [
      "Yes, List is sorted.\n",
      "Yes, List is sorted.\n",
      "Yes, List is sorted.\n",
      "Yes, List is sorted.\n",
      "Yes, List is sorted.\n",
      "Yes, List is sorted.\n",
      "Yes, List is sorted.\n",
      "Yes, List is sorted.\n",
      "Yes, List is sorted.\n",
      "Yes, List is sorted.\n",
      "Yes, List is sorted.\n",
      "Yes, List is sorted.\n",
      "Yes, List is sorted.\n",
      "Yes, List is sorted.\n",
      "Yes, List is sorted.\n",
      "Yes, List is sorted.\n",
      "Yes, List is sorted.\n",
      "Yes, List is sorted.\n",
      "Yes, List is sorted.\n",
      "Yes, List is sorted.\n",
      "Yes, List is sorted.\n",
      "Yes, List is sorted.\n",
      "Yes, List is sorted.\n",
      "Yes, List is sorted.\n",
      "Yes, List is sorted.\n",
      "Yes, List is sorted.\n",
      "Yes, List is sorted.\n",
      "Yes, List is sorted.\n",
      "Yes, List is sorted.\n",
      "Yes, List is sorted.\n",
      "Yes, List is sorted.\n",
      "Yes, List is sorted.\n",
      "Yes, List is sorted.\n",
      "Yes, List is sorted.\n",
      "Yes, List is sorted.\n",
      "Yes, List is sorted.\n",
      "Yes, List is sorted.\n",
      "Yes, List is sorted.\n",
      "Yes, List is sorted.\n",
      "Yes, List is sorted.\n",
      "Yes, List is sorted.\n",
      "Yes, List is sorted.\n",
      "Yes, List is sorted.\n",
      "Yes, List is sorted.\n",
      "Yes, List is sorted.\n",
      "Yes, List is sorted.\n",
      "Yes, List is sorted.\n",
      "Yes, List is sorted.\n",
      "Yes, List is sorted.\n",
      "Yes, List is sorted.\n",
      "Yes, List is sorted.\n",
      "Yes, List is sorted.\n",
      "Yes, List is sorted.\n"
     ]
    }
   ],
   "source": [
    "for test_list in file_content:\n",
    "    flag = 0\n",
    "    i = 1\n",
    "    while i < len(test_list):\n",
    "        if(test_list[i][0] < test_list[i - 1][0]):\n",
    "            flag = 1\n",
    "        i += 1\n",
    "        \n",
    "    # printing result\n",
    "    if (not flag) :\n",
    "        print (\"Yes, List is sorted.\")\n",
    "    else :\n",
    "        print (\"No, List is not sorted.\")"
   ]
  },
  {
   "cell_type": "code",
   "execution_count": 15,
   "metadata": {},
   "outputs": [],
   "source": [
    "with open(os.path.join(PATH_PREFIX, f'models/mobilenet_v2/saves/mobilenet_v2_layer_perf_f4_full.csv'), 'w') as f:\n",
    "    for row in file_content:\n",
    "        write = csv.writer(f)\n",
    "        write.writerow(row)"
   ]
  }
 ],
 "metadata": {
  "kernelspec": {
   "display_name": "Python 3",
   "language": "python",
   "name": "python3"
  },
  "language_info": {
   "codemirror_mode": {
    "name": "ipython",
    "version": 3
   },
   "file_extension": ".py",
   "mimetype": "text/x-python",
   "name": "python",
   "nbconvert_exporter": "python",
   "pygments_lexer": "ipython3",
   "version": "3.10.10"
  },
  "orig_nbformat": 4
 },
 "nbformat": 4,
 "nbformat_minor": 2
}
