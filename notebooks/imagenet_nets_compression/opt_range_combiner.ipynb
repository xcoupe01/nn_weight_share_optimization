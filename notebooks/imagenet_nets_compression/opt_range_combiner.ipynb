{
 "cells": [
  {
   "cell_type": "code",
   "execution_count": 7,
   "metadata": {},
   "outputs": [],
   "source": [
    "PATH_PREFIX = '../../'\n",
    "import sys\n",
    "sys.path.append(PATH_PREFIX)"
   ]
  },
  {
   "cell_type": "code",
   "execution_count": 8,
   "metadata": {},
   "outputs": [],
   "source": [
    "import csv\n",
    "import os"
   ]
  },
  {
   "cell_type": "code",
   "execution_count": 9,
   "metadata": {},
   "outputs": [
    {
     "name": "stdout",
     "output_type": "stream",
     "text": [
      "53\n"
     ]
    }
   ],
   "source": [
    "file_content = []\n",
    "PREC='f2'\n",
    "\n",
    "for num in range(1, 13):\n",
    "    savefile = os.path.join(PATH_PREFIX, f'models/mobilenet_v2/saves/partials_{PREC}/mobilenet_v2_layer_perf_{PREC}_full-{num}.csv')\n",
    "    if os.path.isfile(savefile):\n",
    "        with open(savefile) as f:\n",
    "            reader = csv.reader(f)\n",
    "            for i, row in enumerate(reader):\n",
    "                if len(file_content) <= i:\n",
    "                    file_content.append([])\n",
    "                for item in row:\n",
    "                    perf = eval(item)\n",
    "                    # save file content to edit the file\n",
    "                    file_content[i].append(perf)\n",
    "\n",
    "print(len(file_content))"
   ]
  },
  {
   "cell_type": "code",
   "execution_count": 10,
   "metadata": {},
   "outputs": [
    {
     "name": "stdout",
     "output_type": "stream",
     "text": [
      "Yes, List is sorted.\n",
      "Yes, List is sorted.\n",
      "Yes, List is sorted.\n",
      "Yes, List is sorted.\n",
      "Yes, List is sorted.\n",
      "Yes, List is sorted.\n",
      "Yes, List is sorted.\n",
      "Yes, List is sorted.\n",
      "Yes, List is sorted.\n",
      "Yes, List is sorted.\n",
      "Yes, List is sorted.\n",
      "Yes, List is sorted.\n",
      "Yes, List is sorted.\n",
      "Yes, List is sorted.\n",
      "Yes, List is sorted.\n",
      "Yes, List is sorted.\n",
      "Yes, List is sorted.\n",
      "Yes, List is sorted.\n",
      "Yes, List is sorted.\n",
      "Yes, List is sorted.\n",
      "Yes, List is sorted.\n",
      "Yes, List is sorted.\n",
      "Yes, List is sorted.\n",
      "Yes, List is sorted.\n",
      "Yes, List is sorted.\n",
      "Yes, List is sorted.\n",
      "Yes, List is sorted.\n",
      "Yes, List is sorted.\n",
      "Yes, List is sorted.\n",
      "Yes, List is sorted.\n",
      "Yes, List is sorted.\n",
      "Yes, List is sorted.\n",
      "Yes, List is sorted.\n",
      "Yes, List is sorted.\n",
      "Yes, List is sorted.\n",
      "Yes, List is sorted.\n",
      "Yes, List is sorted.\n",
      "Yes, List is sorted.\n",
      "Yes, List is sorted.\n",
      "Yes, List is sorted.\n",
      "Yes, List is sorted.\n",
      "Yes, List is sorted.\n",
      "Yes, List is sorted.\n",
      "Yes, List is sorted.\n",
      "Yes, List is sorted.\n",
      "Yes, List is sorted.\n",
      "Yes, List is sorted.\n",
      "Yes, List is sorted.\n",
      "Yes, List is sorted.\n",
      "Yes, List is sorted.\n",
      "Yes, List is sorted.\n",
      "Yes, List is sorted.\n",
      "Yes, List is sorted.\n"
     ]
    }
   ],
   "source": [
    "for test_list in file_content:\n",
    "    flag = 0\n",
    "    i = 1\n",
    "    while i < len(test_list):\n",
    "        if(test_list[i][0] < test_list[i - 1][0]):\n",
    "            flag = 1\n",
    "        i += 1\n",
    "        \n",
    "    # printing result\n",
    "    if (not flag) :\n",
    "        print (\"Yes, List is sorted.\")\n",
    "    else :\n",
    "        print (\"No, List is not sorted.\")"
   ]
  },
  {
   "cell_type": "code",
   "execution_count": 11,
   "metadata": {},
   "outputs": [
    {
     "name": "stdout",
     "output_type": "stream",
     "text": [
      "0.8326055407524109\n",
      "0.8271470069885254\n",
      "0.8322416543960571\n",
      "0.8333333134651184\n",
      "0.8307860493659973\n",
      "0.8340611457824707\n",
      "0.8322416543960571\n",
      "0.8315138220787048\n",
      "0.8344250321388245\n",
      "0.8315138220787048\n",
      "0.8329694271087646\n",
      "0.830058217048645\n",
      "0.8333333134651184\n",
      "0.8304221034049988\n",
      "0.8326055407524109\n",
      "0.8336972594261169\n",
      "0.8333333134651184\n",
      "0.8315138220787048\n",
      "0.8340611457824707\n",
      "0.8333333134651184\n",
      "0.8326055407524109\n",
      "0.8326055407524109\n",
      "0.8333333134651184\n",
      "0.8322416543960571\n",
      "0.8336972594261169\n",
      "0.8307860493659973\n",
      "0.8322416543960571\n",
      "0.8358806371688843\n",
      "0.8347889184951782\n",
      "0.8340611457824707\n",
      "0.8318777084350586\n",
      "0.8347889184951782\n",
      "0.8333333134651184\n",
      "0.8315138220787048\n",
      "0.8366084694862366\n",
      "0.8377001285552979\n",
      "0.8344250321388245\n",
      "0.8322416543960571\n",
      "0.8340611457824707\n",
      "0.8333333134651184\n",
      "0.8322416543960571\n",
      "0.8358806371688843\n",
      "0.8355167508125305\n",
      "0.8347889184951782\n",
      "0.8373362421989441\n",
      "0.8340611457824707\n",
      "0.8377001285552979\n",
      "0.8369723558425903\n",
      "0.8336972594261169\n",
      "0.8318777084350586\n",
      "0.8358806371688843\n",
      "0.836244523525238\n",
      "0.836244523525238\n"
     ]
    }
   ],
   "source": [
    "for test_list in file_content:\n",
    "    print(max([x[1] for x in test_list]))"
   ]
  },
  {
   "cell_type": "code",
   "execution_count": 12,
   "metadata": {},
   "outputs": [],
   "source": [
    "with open(os.path.join(PATH_PREFIX, f'models/mobilenet_v2/saves/mobilenet_v2_layer_perf_{PREC}_full.csv'), 'w') as f:\n",
    "    for row in file_content:\n",
    "        write = csv.writer(f)\n",
    "        write.writerow(row)"
   ]
  }
 ],
 "metadata": {
  "kernelspec": {
   "display_name": "Python 3",
   "language": "python",
   "name": "python3"
  },
  "language_info": {
   "codemirror_mode": {
    "name": "ipython",
    "version": 3
   },
   "file_extension": ".py",
   "mimetype": "text/x-python",
   "name": "python",
   "nbconvert_exporter": "python",
   "pygments_lexer": "ipython3",
   "version": "3.10.11"
  },
  "orig_nbformat": 4
 },
 "nbformat": 4,
 "nbformat_minor": 2
}
