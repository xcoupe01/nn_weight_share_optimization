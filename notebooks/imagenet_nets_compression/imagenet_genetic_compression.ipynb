{
 "cells": [
  {
   "cell_type": "markdown",
   "metadata": {},
   "source": [
    "## Genetic compression search on LeNet-5 "
   ]
  },
  {
   "cell_type": "code",
   "execution_count": 1,
   "metadata": {},
   "outputs": [],
   "source": [
    "PATH_PREFIX = '../../'\n",
    "import sys\n",
    "sys.path.append(PATH_PREFIX)"
   ]
  },
  {
   "cell_type": "code",
   "execution_count": 2,
   "metadata": {},
   "outputs": [],
   "source": [
    "import torch\n",
    "import torch.nn as nn\n",
    "import pandas as pd\n",
    "import os\n",
    "import math\n",
    "\n",
    "from data.imagenette import ImagenetteDataset\n",
    "from data.utils.imagenet_utils import *\n",
    "from utils.weight_sharing import *\n",
    "from utils.genetic import GeneticController, Individual\n",
    "from utils.plot import *\n",
    "from utils.fitness_controller import FitnessController"
   ]
  },
  {
   "attachments": {},
   "cell_type": "markdown",
   "metadata": {},
   "source": [
    "Setting parameters (for the genetic search settings look in `utils.genetic_config.py`)"
   ]
  },
  {
   "cell_type": "code",
   "execution_count": 3,
   "metadata": {},
   "outputs": [],
   "source": [
    "# net train settings\n",
    "BATCH_SIZE = 32\n",
    "DEVICE = 'cpu'\n",
    "\n",
    "# net save settings\n",
    "NET_REPO = 'pytorch/vision:v0.10.0'\n",
    "NET_TYPE = 'mobilenet_v2'\n",
    "\n",
    "# dataset settings\n",
    "DATA_PATH = os.path.join(PATH_PREFIX, 'data/imagenette/')\n",
    "TOP_ACC = 1\n",
    "\n",
    "# ga iter count\n",
    "NUM_GENERATIONS = 36\n",
    "NUM_PULATION = 12\n",
    "\n",
    "# ga search settings\n",
    "CHROMOSOME_RANGES = range(1, 121)\n",
    "\n",
    "# ga save settings\n",
    "SAVE_EVOL_FILE = os.path.join(PATH_PREFIX, 'results/test_GA_save.csv')\n",
    "SAVE_EVERY = 1\n",
    "\n",
    "# range optimization settings\n",
    "RANGE_OPTIMIZATION = True\n",
    "RANGE_OPTIMIZATION_TRESHOLD = 0.97\n",
    "RANGE_OPTIMIZATION_FILE = os.path.join(PATH_PREFIX, f'models/{NET_TYPE}/saves/{NET_TYPE}_layer_perf.csv')\n",
    "\n",
    "# target position\n",
    "TARGET = [1.0, 12.0]\n",
    "TARGET_LOW_LIMIT = [0.95, 1.0]\n",
    "LOCK_TARGET = False\n",
    "\n",
    "# range optimization settings\n",
    "SHARE_ORDER = None\n",
    "RETRAIN_AMOUNT = None #[0, 0, 0, 0, 0]\n",
    "PREC_REDUCT = None # ['f4', 'f4', 'f4', 'f4', 'f4']\n",
    "CLUST_MOD_FOCUS = None #[5, 5, 5, 5, 5]\n",
    "CLUST_MOD_SPREAD = None #[0, 0, 0, 0, 0]"
   ]
  },
  {
   "cell_type": "markdown",
   "metadata": {},
   "source": [
    "Geting somewhat trained LeNet-5"
   ]
  },
  {
   "cell_type": "code",
   "execution_count": 4,
   "metadata": {},
   "outputs": [
    {
     "name": "stderr",
     "output_type": "stream",
     "text": [
      "Using cache found in /home/coupekv/.cache/torch/hub/pytorch_vision_v0.10.0\n"
     ]
    }
   ],
   "source": [
    "dataset = ImagenetteDataset(BATCH_SIZE, DATA_PATH, val_split=0.5)\n",
    "model = torch.hub.load(NET_REPO, NET_TYPE, pretrained=True)\n",
    "model.to(DEVICE)\n",
    "\n",
    "before_loss = get_accuracy(model, dataset.test_dl, device=DEVICE, topk=TOP_ACC)"
   ]
  },
  {
   "cell_type": "markdown",
   "metadata": {},
   "source": [
    "Setting weight share controller"
   ]
  },
  {
   "cell_type": "code",
   "execution_count": null,
   "metadata": {},
   "outputs": [],
   "source": [
    "lam_test = lambda : get_accuracy(model, dataset.test_dl, device=DEVICE, topk=TOP_ACC)\n",
    "\n",
    "ws_controller = WeightShare(model, lam_test)\n",
    "ws_controller.set_reset()\n",
    "\n",
    "ws_controller.print_layers_info()"
   ]
  },
  {
   "cell_type": "markdown",
   "metadata": {},
   "source": [
    "Defining fitness function"
   ]
  },
  {
   "cell_type": "code",
   "execution_count": null,
   "metadata": {},
   "outputs": [],
   "source": [
    "def fitness_vals_fc(individual:Individual):\n",
    "    # reset the net\n",
    "    ws_controller.reset()\n",
    "    \n",
    "    # share weigts by particle\n",
    "    if individual.data is None:\n",
    "        individual.data = ws_controller.share(individual.chromosome, SHARE_ORDER, RETRAIN_AMOUNT, PREC_REDUCT, CLUST_MOD_FOCUS, CLUST_MOD_SPREAD)\n",
    "    \n",
    "    return [individual.data['accuracy'], individual.data['compression']]\n",
    "\n",
    "def fit_from_vals(data, targ_vals):\n",
    "\n",
    "    return 1 / math.sqrt(pow(1 - (data['accuracy'] - 0.9)/0.1, 2) + pow(1 - (data['compression']/targ_vals[1]), 2))"
   ]
  },
  {
   "cell_type": "markdown",
   "metadata": {},
   "source": [
    "Defining logging function and elit dealing function"
   ]
  },
  {
   "cell_type": "code",
   "execution_count": null,
   "metadata": {},
   "outputs": [],
   "source": [
    "data = {\n",
    "    'generation': [],\n",
    "    'chromosome': [],\n",
    "    'accuracy': [],\n",
    "    'accuracy_loss': [],\n",
    "    'compression': [],\n",
    "    'share_t': [],\n",
    "    'train_t': [],\n",
    "    'acc_t': []\n",
    "}\n",
    "\n",
    "data_types = {\n",
    "    'generation' : 'uint8',\n",
    "    'accuracy': 'float32',\n",
    "    'accuracy_loss': 'float32',\n",
    "    'compression': 'float32',\n",
    "    'share_t': 'float32',\n",
    "    'train_t': 'float32',\n",
    "    'acc_t': 'float32'\n",
    "}\n",
    "\n",
    "evol_data = pd.read_csv(SAVE_EVOL_FILE).astype(data_types) if os.path.exists(SAVE_EVOL_FILE) else pd.DataFrame(data).astype(data_types)\n",
    "\n",
    "def logger_fc(gen_cont:GeneticController):\n",
    "    global evol_data\n",
    "\n",
    "    new_data = copy.deepcopy(data)\n",
    "\n",
    "    for indiv in gen_cont.population:\n",
    "\n",
    "        new_data['generation'].append(gen_cont.generation)\n",
    "        new_data['chromosome'].append(indiv.chromosome)\n",
    "        new_data['accuracy'].append(indiv.data['accuracy'])\n",
    "        new_data['accuracy_loss'].append(before_loss - indiv.data['accuracy'])\n",
    "        new_data['compression'].append(indiv.data['compression'])\n",
    "        new_data['share_t'].append(indiv.data['times']['share'])\n",
    "        new_data['train_t'].append(indiv.data['times']['train'])\n",
    "        new_data['acc_t'].append(indiv.data['times']['test'])\n",
    "\n",
    "    # saving progress\n",
    "    evol_data = evol_data.append(pd.DataFrame(new_data).astype(data_types))\n",
    "    if gen_cont.generation % SAVE_EVERY == SAVE_EVERY - 1:\n",
    "        evol_data.reset_index(drop=True, inplace=True)\n",
    "        os.makedirs(os.path.dirname(SAVE_EVOL_FILE), exist_ok=True)\n",
    "        evol_data.to_csv(SAVE_EVOL_FILE, index=False)\n",
    "    \n",
    "def deal_elit(population):\n",
    "    for individual in population:\n",
    "        if individual.data is not None:\n",
    "            individual.data['times'] = {\n",
    "                'share': 0,\n",
    "                'train': 0,\n",
    "                'test': 0\n",
    "            }\n"
   ]
  },
  {
   "cell_type": "markdown",
   "metadata": {},
   "source": [
    "Setting ranges with optimization"
   ]
  },
  {
   "cell_type": "code",
   "execution_count": null,
   "metadata": {},
   "outputs": [],
   "source": [
    "lam_test_inp = lambda _ : get_accuracy(model, dataset.test_dl, DEVICE)\n",
    "\n",
    "if np.array(CHROMOSOME_RANGES).ndim() == 1:\n",
    "    CHROMOSOME_RANGES = [CHROMOSOME_RANGES for _ in range(len(ws_controller.model_layers))]\n",
    "\n",
    "if RANGE_OPTIMIZATION:\n",
    "    CHROMOSOME_RANGES = ws_controller.get_optimized_layer_ranges(CHROMOSOME_RANGES, lam_test_inp, RANGE_OPTIMIZATION_TRESHOLD, \n",
    "        savefile=RANGE_OPTIMIZATION_FILE)\n",
    "\n",
    "for c_range in CHROMOSOME_RANGES:\n",
    "    print(len(c_range))"
   ]
  },
  {
   "cell_type": "markdown",
   "metadata": {},
   "source": [
    "Run evolution"
   ]
  },
  {
   "cell_type": "code",
   "execution_count": null,
   "metadata": {},
   "outputs": [],
   "source": [
    "fit_controll = FitnessController(TARGET, fitness_vals_fc, fit_from_vals, target_max_offset=1, lock=LOCK_TARGET, target_limit=TARGET_LOW_LIMIT)\n",
    "genetic = GeneticController(CHROMOSOME_RANGES, NUM_PULATION, fit_controll)\n",
    "\n",
    "if evol_data.size != 0:\n",
    "    genetic.load_from_pd(evol_data, verbose=True)\n",
    "\n",
    "genetic.run(NUM_GENERATIONS, logger_fc, deal_elit=deal_elit, verbose=True)"
   ]
  },
  {
   "cell_type": "markdown",
   "metadata": {},
   "source": [
    "See output"
   ]
  },
  {
   "cell_type": "code",
   "execution_count": null,
   "metadata": {},
   "outputs": [],
   "source": [
    "evol_data.tail()"
   ]
  },
  {
   "cell_type": "markdown",
   "metadata": {},
   "source": [
    "Plotting data"
   ]
  },
  {
   "cell_type": "code",
   "execution_count": null,
   "metadata": {},
   "outputs": [],
   "source": [
    "plot_alcr(evol_data)\n",
    "plt.title('Genetic Algorithm on LeNet-5')"
   ]
  }
 ],
 "metadata": {
  "kernelspec": {
   "display_name": "Python 3.10.8 64-bit",
   "language": "python",
   "name": "python3"
  },
  "language_info": {
   "codemirror_mode": {
    "name": "ipython",
    "version": 3
   },
   "file_extension": ".py",
   "mimetype": "text/x-python",
   "name": "python",
   "nbconvert_exporter": "python",
   "pygments_lexer": "ipython3",
   "version": "3.10.10"
  },
  "orig_nbformat": 4,
  "vscode": {
   "interpreter": {
    "hash": "97cc609b13305c559618ec78a438abc56230b9381f827f22d070313b9a1f3777"
   }
  }
 },
 "nbformat": 4,
 "nbformat_minor": 2
}
