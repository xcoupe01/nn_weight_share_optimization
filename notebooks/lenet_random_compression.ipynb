{
 "cells": [
  {
   "cell_type": "markdown",
   "metadata": {},
   "source": [
    "## Random search compression on LeNet-5"
   ]
  },
  {
   "cell_type": "code",
   "execution_count": 13,
   "metadata": {},
   "outputs": [],
   "source": [
    "import sys\n",
    "sys.path.append('../')"
   ]
  },
  {
   "cell_type": "code",
   "execution_count": 14,
   "metadata": {},
   "outputs": [],
   "source": [
    "import torch\n",
    "import torch.nn as nn\n",
    "import pandas as pd\n",
    "import os\n",
    "import math\n",
    "\n",
    "from data.mnist import MnistDataset\n",
    "from models.lenet.lenet import LeNet5\n",
    "from utils.rnd import RandomController, Individual\n",
    "from utils.train import *\n",
    "from utils.weight_sharing import *\n",
    "from utils.plot import *\n",
    "from utils.fitness_controller import FitnessController"
   ]
  },
  {
   "attachments": {},
   "cell_type": "markdown",
   "metadata": {},
   "source": [
    "Setting parameters "
   ]
  },
  {
   "cell_type": "code",
   "execution_count": 15,
   "metadata": {},
   "outputs": [],
   "source": [
    "# net train settings\n",
    "LEARNING_RATE = 0.0001\n",
    "BATCH_SIZE = 32\n",
    "N_CLASSES = 10\n",
    "DEVICE = 'cpu'\n",
    "EPOCHS = 100\n",
    "\n",
    "# net save settings\n",
    "NET_PATH = '../models/lenet/saves/lenet_relu.save'\n",
    "NET_TYPE = 'relu'\n",
    "\n",
    "# random search iter count\n",
    "NUM_INDIVIDUALS = 10\n",
    "\n",
    "# random search search settings\n",
    "REPR_RANGES = [range(1, 51) for _ in range(5)]\n",
    "\n",
    "# random search save settings\n",
    "SAVE_RND_FILE = '../results/test_RND_save.csv'\n",
    "SAVE_EVERY = 1\n",
    "\n",
    "# range optimization settings\n",
    "RANGE_OPTIMIZATION = True\n",
    "RANGE_OPTIMIZATION_TRESHOLD = 0.97\n",
    "RANGE_OPTIMIZATION_FILE = '../results/lenet-relu-layer-perf.csv'\n",
    "\n",
    "# target position\n",
    "TARGET = [1.0, 1.0]\n",
    "LOCK_TARGET = False\n",
    "\n",
    "# WS settings\n",
    "SHARE_ORDER = [0, 1, 2, 3, 4]\n",
    "RETRAIN_AMOUNT = None #[0, 0, 0, 0, 0]\n",
    "PREC_REDUCT = None #['f4', 'f4', 'f4', 'f4', 'f4']\n",
    "CLUST_MOD_FOCUS = None #[0, 0, 0, 0, 0]\n",
    "CLUST_MOD_SPREAD = None #[0, 0, 0, 0, 0]"
   ]
  },
  {
   "cell_type": "markdown",
   "metadata": {},
   "source": [
    "Geting somewhat trained LeNet-5"
   ]
  },
  {
   "cell_type": "code",
   "execution_count": 16,
   "metadata": {},
   "outputs": [],
   "source": [
    "dataset = MnistDataset(BATCH_SIZE, '../data', val_split=0.5)\n",
    "model = LeNet5(N_CLASSES, NET_TYPE)\n",
    "model.to(DEVICE)\n",
    "criterion = nn.CrossEntropyLoss()\n",
    "\n",
    "optimizer = torch.optim.Adam(model.parameters(), lr=LEARNING_RATE)\n",
    "train_settings = [criterion, optimizer, dataset, EPOCHS, DEVICE, 1, True]\n",
    "\n",
    "get_trained(model, NET_PATH, train_settings, DEVICE)\n",
    "\n",
    "before_loss = get_accuracy(model, dataset.test_dl, DEVICE)"
   ]
  },
  {
   "cell_type": "markdown",
   "metadata": {},
   "source": [
    "Setting weight share controller"
   ]
  },
  {
   "cell_type": "code",
   "execution_count": 17,
   "metadata": {},
   "outputs": [
    {
     "name": "stdout",
     "output_type": "stream",
     "text": [
      "layer_name #weights #bias w_locked CR\n",
      "feature_extractor.0 150 6 False 1.00\n",
      "feature_extractor.3 2400 16 False 1.00\n",
      "feature_extractor.6 48000 120 False 1.00\n",
      "classifier.0 10080 84 False 1.00\n",
      "classifier.2 840 10 False 1.00\n",
      "Sum num weights, bias:  61470 236\n",
      "Compression rate 1.00\n"
     ]
    }
   ],
   "source": [
    "lam_opt = lambda mod : torch.optim.Adam(mod.parameters(), lr=LEARNING_RATE)\n",
    "lam_train = lambda opt, epochs : train_net(model, criterion, opt, dataset, epochs, device=DEVICE)\n",
    "lam_test = lambda : get_accuracy(model, dataset.test_dl, DEVICE)\n",
    "\n",
    "ws_controller = WeightShare(model, lam_opt, lam_train, lam_test)\n",
    "ws_controller.set_reset()\n",
    "\n",
    "ws_controller.print_layers_info()"
   ]
  },
  {
   "cell_type": "markdown",
   "metadata": {},
   "source": [
    "Defining fitness function"
   ]
  },
  {
   "cell_type": "code",
   "execution_count": 18,
   "metadata": {},
   "outputs": [],
   "source": [
    "def fitness_vals_fc(individual):\n",
    "    # reset the net\n",
    "    ws_controller.reset()\n",
    "    \n",
    "    # share weigts by particle\n",
    "    individual.data = ws_controller.share(individual.representation, SHARE_ORDER, RETRAIN_AMOUNT, PREC_REDUCT, CLUST_MOD_FOCUS, CLUST_MOD_SPREAD)\n",
    "    \n",
    "    return [individual.data['accuracy'], individual.data['compression']]\n",
    "\n",
    "def fit_from_vals(fit_vals, targ_vals, individual:Individual = None):\n",
    "\n",
    "    result = None\n",
    "\n",
    "    # compute fitness\n",
    "    if fit_vals[0] <= 0.95:\n",
    "        result = fit_vals[0]\n",
    "\n",
    "    else:\n",
    "        result = 1 / math.sqrt(pow(1 - ((fit_vals[0] - 0.9) * (1/0.1)), 2) + pow(1 - (fit_vals[1]/targ_vals[1]), 2))\n",
    "\n",
    "    if individual is not None:\n",
    "        individual.fitness = result\n",
    "    \n",
    "    return result"
   ]
  },
  {
   "cell_type": "code",
   "execution_count": 19,
   "metadata": {},
   "outputs": [],
   "source": [
    "data = {\n",
    "    'representation': [],\n",
    "    'accuracy': [],\n",
    "    'accuracy_loss': [],\n",
    "    'compression': [],\n",
    "    'share_t': [],\n",
    "    'train_t': [],\n",
    "    'acc_t': []\n",
    "}\n",
    "\n",
    "data_types = {\n",
    "    'accuracy': 'float32',\n",
    "    'accuracy_loss': 'float32',\n",
    "    'compression': 'float32',\n",
    "    'share_t': 'float32',\n",
    "    'train_t': 'float32',\n",
    "    'acc_t': 'float32'\n",
    "}\n",
    "\n",
    "rnd_data = pd.read_csv(SAVE_RND_FILE).astype(data_types) if os.path.exists(SAVE_RND_FILE) else pd.DataFrame(data).astype(data_types)\n",
    "\n",
    "def logger_fc(rnd_controler:RandomController):\n",
    "    global rnd_data\n",
    "\n",
    "    new_data = copy.deepcopy(data)\n",
    "\n",
    "    indiv = rnd_controler.current_indiv\n",
    "\n",
    "    new_data['representation'].append(indiv.representation)\n",
    "    new_data['accuracy'].append(indiv.data['accuracy'])\n",
    "    new_data['accuracy_loss'].append(before_loss - indiv.data['accuracy'])\n",
    "    new_data['compression'].append(indiv.data['compression'])\n",
    "    new_data['share_t'].append(indiv.data['times']['share'])\n",
    "    new_data['train_t'].append(indiv.data['times']['train'])\n",
    "    new_data['acc_t'].append(indiv.data['times']['test'])\n",
    "\n",
    "    # saving progress\n",
    "    rnd_data = rnd_data.append(pd.DataFrame(new_data).astype(data_types))\n",
    "    rnd_data.reset_index(drop=True, inplace=True)\n",
    "    os.makedirs(os.path.dirname(SAVE_RND_FILE), exist_ok=True)\n",
    "    rnd_data.to_csv(SAVE_RND_FILE, index=False)"
   ]
  },
  {
   "cell_type": "markdown",
   "metadata": {},
   "source": [
    "Setting ranges with optimization"
   ]
  },
  {
   "cell_type": "code",
   "execution_count": 20,
   "metadata": {},
   "outputs": [
    {
     "name": "stdout",
     "output_type": "stream",
     "text": [
      "49\n",
      "47\n",
      "47\n",
      "48\n",
      "47\n"
     ]
    }
   ],
   "source": [
    "lam_test_inp = lambda _ : get_accuracy(model, dataset.test_dl, DEVICE)\n",
    "\n",
    "if RANGE_OPTIMIZATION:\n",
    "    REPR_RANGES = ws_controller.get_optimized_layer_ranges(REPR_RANGES, lam_test_inp, RANGE_OPTIMIZATION_TRESHOLD, \n",
    "        savefile=RANGE_OPTIMIZATION_FILE)\n",
    "\n",
    "for repr_range in REPR_RANGES:\n",
    "    print(len(repr_range))"
   ]
  },
  {
   "cell_type": "markdown",
   "metadata": {},
   "source": [
    "Running the search"
   ]
  },
  {
   "cell_type": "code",
   "execution_count": 21,
   "metadata": {},
   "outputs": [
    {
     "name": "stdout",
     "output_type": "stream",
     "text": [
      "Fitness target update from load to [1.         9.34392643]\n",
      "Individual 1/10 (10) evaluated Individual ([8, 31, 29, 47, 22]) fit:2.4825229146751084\n",
      "Individual 2/10 (11) evaluated Individual ([28, 37, 29, 50, 26]) fit:1.9814777523240004\n",
      "Individual 3/10 (12) evaluated Individual ([25, 28, 40, 39, 31]) fit:1.978967838028763\n",
      "Individual 4/10 (13) evaluated Individual ([33, 44, 24, 36, 26]) fit:1.9475548194751633\n",
      "Individual 5/10 (14) evaluated Individual ([31, 23, 43, 19, 20]) fit:2.0990146757099963\n",
      "Individual 6/10 (15) evaluated Individual ([31, 38, 30, 27, 47]) fit:1.9664584861776924\n",
      "Individual 7/10 (16) evaluated Individual ([26, 12, 38, 37, 32]) fit:2.141887919593268\n",
      "Individual 8/10 (17) evaluated Individual ([11, 36, 48, 46, 29]) fit:2.070483213298684\n",
      "Individual 9/10 (18) evaluated Individual ([11, 22, 7, 25, 29]) fit:2.964177903913412\n",
      "Individual 10/10 (19) evaluated Individual ([45, 42, 11, 23, 5]) fit:2.6319302716224513\n"
     ]
    },
    {
     "data": {
      "text/plain": [
       "[8, 14, 49, 42, 6]"
      ]
     },
     "execution_count": 21,
     "metadata": {},
     "output_type": "execute_result"
    }
   ],
   "source": [
    "fit_controll = FitnessController(TARGET, fitness_vals_fc, fit_from_vals, target_max_offset=1, lock=LOCK_TARGET)\n",
    "random = RandomController(REPR_RANGES, fit_controll)\n",
    "\n",
    "if rnd_data.size != 0:\n",
    "    random.load_from_pd(rnd_data, True)\n",
    "\n",
    "random.run(NUM_INDIVIDUALS, logger_fc, verbose = True)"
   ]
  },
  {
   "cell_type": "markdown",
   "metadata": {},
   "source": [
    "See output"
   ]
  },
  {
   "cell_type": "code",
   "execution_count": 22,
   "metadata": {},
   "outputs": [
    {
     "data": {
      "text/html": [
       "<div>\n",
       "<style scoped>\n",
       "    .dataframe tbody tr th:only-of-type {\n",
       "        vertical-align: middle;\n",
       "    }\n",
       "\n",
       "    .dataframe tbody tr th {\n",
       "        vertical-align: top;\n",
       "    }\n",
       "\n",
       "    .dataframe thead th {\n",
       "        text-align: right;\n",
       "    }\n",
       "</style>\n",
       "<table border=\"1\" class=\"dataframe\">\n",
       "  <thead>\n",
       "    <tr style=\"text-align: right;\">\n",
       "      <th></th>\n",
       "      <th>representation</th>\n",
       "      <th>accuracy</th>\n",
       "      <th>accuracy_loss</th>\n",
       "      <th>compression</th>\n",
       "      <th>share_t</th>\n",
       "      <th>train_t</th>\n",
       "      <th>acc_t</th>\n",
       "      <th>fitness</th>\n",
       "    </tr>\n",
       "  </thead>\n",
       "  <tbody>\n",
       "    <tr>\n",
       "      <th>0</th>\n",
       "      <td>[30, 27, 15, 26, 39]</td>\n",
       "      <td>0.9846</td>\n",
       "      <td>0.0000</td>\n",
       "      <td>5.373584</td>\n",
       "      <td>1.744936</td>\n",
       "      <td>0.0</td>\n",
       "      <td>5.385901</td>\n",
       "      <td>2.0</td>\n",
       "    </tr>\n",
       "    <tr>\n",
       "      <th>1</th>\n",
       "      <td>[23, 34, 31, 46, 26]</td>\n",
       "      <td>0.9850</td>\n",
       "      <td>-0.0004</td>\n",
       "      <td>4.930540</td>\n",
       "      <td>1.531148</td>\n",
       "      <td>0.0</td>\n",
       "      <td>4.093654</td>\n",
       "      <td>2.0</td>\n",
       "    </tr>\n",
       "    <tr>\n",
       "      <th>2</th>\n",
       "      <td>[8, 14, 49, 42, 6]</td>\n",
       "      <td>0.9820</td>\n",
       "      <td>0.0026</td>\n",
       "      <td>6.903546</td>\n",
       "      <td>1.847934</td>\n",
       "      <td>0.0</td>\n",
       "      <td>4.001732</td>\n",
       "      <td>3.0</td>\n",
       "    </tr>\n",
       "    <tr>\n",
       "      <th>3</th>\n",
       "      <td>[37, 31, 8, 9, 20]</td>\n",
       "      <td>0.9840</td>\n",
       "      <td>0.0006</td>\n",
       "      <td>6.389330</td>\n",
       "      <td>0.909648</td>\n",
       "      <td>0.0</td>\n",
       "      <td>3.887888</td>\n",
       "      <td>2.0</td>\n",
       "    </tr>\n",
       "    <tr>\n",
       "      <th>4</th>\n",
       "      <td>[22, 9, 42, 19, 22]</td>\n",
       "      <td>0.9838</td>\n",
       "      <td>0.0008</td>\n",
       "      <td>5.556952</td>\n",
       "      <td>1.627828</td>\n",
       "      <td>0.0</td>\n",
       "      <td>4.047384</td>\n",
       "      <td>2.0</td>\n",
       "    </tr>\n",
       "    <tr>\n",
       "      <th>5</th>\n",
       "      <td>[22, 46, 16, 22, 36]</td>\n",
       "      <td>0.9844</td>\n",
       "      <td>0.0002</td>\n",
       "      <td>5.258833</td>\n",
       "      <td>1.013869</td>\n",
       "      <td>0.0</td>\n",
       "      <td>4.045885</td>\n",
       "      <td>2.0</td>\n",
       "    </tr>\n",
       "    <tr>\n",
       "      <th>6</th>\n",
       "      <td>[6, 18, 37, 3, 11]</td>\n",
       "      <td>0.9698</td>\n",
       "      <td>0.0148</td>\n",
       "      <td>8.343926</td>\n",
       "      <td>2.066408</td>\n",
       "      <td>0.0</td>\n",
       "      <td>4.025748</td>\n",
       "      <td>3.0</td>\n",
       "    </tr>\n",
       "    <tr>\n",
       "      <th>7</th>\n",
       "      <td>[6, 5, 10, 19, 18]</td>\n",
       "      <td>0.9762</td>\n",
       "      <td>0.0084</td>\n",
       "      <td>7.501463</td>\n",
       "      <td>0.763677</td>\n",
       "      <td>0.0</td>\n",
       "      <td>3.775530</td>\n",
       "      <td>3.0</td>\n",
       "    </tr>\n",
       "    <tr>\n",
       "      <th>8</th>\n",
       "      <td>[48, 30, 44, 7, 12]</td>\n",
       "      <td>0.9842</td>\n",
       "      <td>0.0004</td>\n",
       "      <td>6.118467</td>\n",
       "      <td>1.793643</td>\n",
       "      <td>0.0</td>\n",
       "      <td>4.150927</td>\n",
       "      <td>2.0</td>\n",
       "    </tr>\n",
       "    <tr>\n",
       "      <th>9</th>\n",
       "      <td>[11, 20, 21, 23, 37]</td>\n",
       "      <td>0.9854</td>\n",
       "      <td>-0.0008</td>\n",
       "      <td>5.538128</td>\n",
       "      <td>1.310089</td>\n",
       "      <td>0.0</td>\n",
       "      <td>3.839640</td>\n",
       "      <td>2.0</td>\n",
       "    </tr>\n",
       "    <tr>\n",
       "      <th>10</th>\n",
       "      <td>[8, 31, 29, 47, 22]</td>\n",
       "      <td>0.9846</td>\n",
       "      <td>0.0000</td>\n",
       "      <td>5.865968</td>\n",
       "      <td>1.493018</td>\n",
       "      <td>0.0</td>\n",
       "      <td>3.707162</td>\n",
       "      <td>NaN</td>\n",
       "    </tr>\n",
       "    <tr>\n",
       "      <th>11</th>\n",
       "      <td>[28, 37, 29, 50, 26]</td>\n",
       "      <td>0.9844</td>\n",
       "      <td>0.0002</td>\n",
       "      <td>4.859234</td>\n",
       "      <td>1.585170</td>\n",
       "      <td>0.0</td>\n",
       "      <td>3.696096</td>\n",
       "      <td>NaN</td>\n",
       "    </tr>\n",
       "    <tr>\n",
       "      <th>12</th>\n",
       "      <td>[25, 28, 40, 39, 31]</td>\n",
       "      <td>0.9842</td>\n",
       "      <td>0.0004</td>\n",
       "      <td>4.859054</td>\n",
       "      <td>1.804679</td>\n",
       "      <td>0.0</td>\n",
       "      <td>3.845105</td>\n",
       "      <td>NaN</td>\n",
       "    </tr>\n",
       "    <tr>\n",
       "      <th>13</th>\n",
       "      <td>[33, 44, 24, 36, 26]</td>\n",
       "      <td>0.9848</td>\n",
       "      <td>-0.0002</td>\n",
       "      <td>4.761193</td>\n",
       "      <td>1.558422</td>\n",
       "      <td>0.0</td>\n",
       "      <td>3.716430</td>\n",
       "      <td>NaN</td>\n",
       "    </tr>\n",
       "    <tr>\n",
       "      <th>14</th>\n",
       "      <td>[31, 23, 43, 19, 20]</td>\n",
       "      <td>0.9852</td>\n",
       "      <td>-0.0006</td>\n",
       "      <td>5.112600</td>\n",
       "      <td>1.635226</td>\n",
       "      <td>0.0</td>\n",
       "      <td>3.782552</td>\n",
       "      <td>NaN</td>\n",
       "    </tr>\n",
       "    <tr>\n",
       "      <th>15</th>\n",
       "      <td>[31, 38, 30, 27, 47]</td>\n",
       "      <td>0.9854</td>\n",
       "      <td>-0.0008</td>\n",
       "      <td>4.792320</td>\n",
       "      <td>1.593923</td>\n",
       "      <td>0.0</td>\n",
       "      <td>3.691973</td>\n",
       "      <td>NaN</td>\n",
       "    </tr>\n",
       "    <tr>\n",
       "      <th>16</th>\n",
       "      <td>[26, 12, 38, 37, 32]</td>\n",
       "      <td>0.9856</td>\n",
       "      <td>-0.0010</td>\n",
       "      <td>5.194140</td>\n",
       "      <td>1.745324</td>\n",
       "      <td>0.0</td>\n",
       "      <td>3.894656</td>\n",
       "      <td>NaN</td>\n",
       "    </tr>\n",
       "    <tr>\n",
       "      <th>17</th>\n",
       "      <td>[11, 36, 48, 46, 29]</td>\n",
       "      <td>0.9850</td>\n",
       "      <td>-0.0004</td>\n",
       "      <td>5.054171</td>\n",
       "      <td>2.071471</td>\n",
       "      <td>0.0</td>\n",
       "      <td>3.886978</td>\n",
       "      <td>NaN</td>\n",
       "    </tr>\n",
       "    <tr>\n",
       "      <th>18</th>\n",
       "      <td>[11, 22, 7, 25, 29]</td>\n",
       "      <td>0.9840</td>\n",
       "      <td>0.0006</td>\n",
       "      <td>6.568719</td>\n",
       "      <td>0.753567</td>\n",
       "      <td>0.0</td>\n",
       "      <td>3.981741</td>\n",
       "      <td>NaN</td>\n",
       "    </tr>\n",
       "    <tr>\n",
       "      <th>19</th>\n",
       "      <td>[45, 42, 11, 23, 5]</td>\n",
       "      <td>0.9828</td>\n",
       "      <td>0.0018</td>\n",
       "      <td>6.178314</td>\n",
       "      <td>1.056122</td>\n",
       "      <td>0.0</td>\n",
       "      <td>3.793555</td>\n",
       "      <td>NaN</td>\n",
       "    </tr>\n",
       "  </tbody>\n",
       "</table>\n",
       "</div>"
      ],
      "text/plain": [
       "          representation  accuracy  accuracy_loss  compression   share_t  \\\n",
       "0   [30, 27, 15, 26, 39]    0.9846         0.0000     5.373584  1.744936   \n",
       "1   [23, 34, 31, 46, 26]    0.9850        -0.0004     4.930540  1.531148   \n",
       "2     [8, 14, 49, 42, 6]    0.9820         0.0026     6.903546  1.847934   \n",
       "3     [37, 31, 8, 9, 20]    0.9840         0.0006     6.389330  0.909648   \n",
       "4    [22, 9, 42, 19, 22]    0.9838         0.0008     5.556952  1.627828   \n",
       "5   [22, 46, 16, 22, 36]    0.9844         0.0002     5.258833  1.013869   \n",
       "6     [6, 18, 37, 3, 11]    0.9698         0.0148     8.343926  2.066408   \n",
       "7     [6, 5, 10, 19, 18]    0.9762         0.0084     7.501463  0.763677   \n",
       "8    [48, 30, 44, 7, 12]    0.9842         0.0004     6.118467  1.793643   \n",
       "9   [11, 20, 21, 23, 37]    0.9854        -0.0008     5.538128  1.310089   \n",
       "10   [8, 31, 29, 47, 22]    0.9846         0.0000     5.865968  1.493018   \n",
       "11  [28, 37, 29, 50, 26]    0.9844         0.0002     4.859234  1.585170   \n",
       "12  [25, 28, 40, 39, 31]    0.9842         0.0004     4.859054  1.804679   \n",
       "13  [33, 44, 24, 36, 26]    0.9848        -0.0002     4.761193  1.558422   \n",
       "14  [31, 23, 43, 19, 20]    0.9852        -0.0006     5.112600  1.635226   \n",
       "15  [31, 38, 30, 27, 47]    0.9854        -0.0008     4.792320  1.593923   \n",
       "16  [26, 12, 38, 37, 32]    0.9856        -0.0010     5.194140  1.745324   \n",
       "17  [11, 36, 48, 46, 29]    0.9850        -0.0004     5.054171  2.071471   \n",
       "18   [11, 22, 7, 25, 29]    0.9840         0.0006     6.568719  0.753567   \n",
       "19   [45, 42, 11, 23, 5]    0.9828         0.0018     6.178314  1.056122   \n",
       "\n",
       "    train_t     acc_t  fitness  \n",
       "0       0.0  5.385901      2.0  \n",
       "1       0.0  4.093654      2.0  \n",
       "2       0.0  4.001732      3.0  \n",
       "3       0.0  3.887888      2.0  \n",
       "4       0.0  4.047384      2.0  \n",
       "5       0.0  4.045885      2.0  \n",
       "6       0.0  4.025748      3.0  \n",
       "7       0.0  3.775530      3.0  \n",
       "8       0.0  4.150927      2.0  \n",
       "9       0.0  3.839640      2.0  \n",
       "10      0.0  3.707162      NaN  \n",
       "11      0.0  3.696096      NaN  \n",
       "12      0.0  3.845105      NaN  \n",
       "13      0.0  3.716430      NaN  \n",
       "14      0.0  3.782552      NaN  \n",
       "15      0.0  3.691973      NaN  \n",
       "16      0.0  3.894656      NaN  \n",
       "17      0.0  3.886978      NaN  \n",
       "18      0.0  3.981741      NaN  \n",
       "19      0.0  3.793555      NaN  "
      ]
     },
     "execution_count": 22,
     "metadata": {},
     "output_type": "execute_result"
    }
   ],
   "source": [
    "rnd_data"
   ]
  },
  {
   "cell_type": "markdown",
   "metadata": {},
   "source": [
    "Plotting data"
   ]
  },
  {
   "cell_type": "code",
   "execution_count": 23,
   "metadata": {},
   "outputs": [
    {
     "data": {
      "text/plain": [
       "Text(0.5, 1.0, 'Random search on LeNet-5')"
      ]
     },
     "execution_count": 23,
     "metadata": {},
     "output_type": "execute_result"
    },
    {
     "data": {
      "image/png": "[encoded data removed]",
      "text/plain": [
       "<Figure size 1800x1000 with 1 Axes>"
      ]
     },
     "metadata": {},
     "output_type": "display_data"
    }
   ],
   "source": [
    "plot_alcr(rnd_data)\n",
    "plt.title('Random search on LeNet-5')"
   ]
  },
  {
   "cell_type": "code",
   "execution_count": 24,
   "metadata": {},
   "outputs": [
    {
     "data": {
      "text/plain": [
       "array([1.        , 9.34392643])"
      ]
     },
     "execution_count": 24,
     "metadata": {},
     "output_type": "execute_result"
    }
   ],
   "source": [
    "fit_controll.targ"
   ]
  }
 ],
 "metadata": {
  "kernelspec": {
   "display_name": "Python 3.10.8 64-bit",
   "language": "python",
   "name": "python3"
  },
  "language_info": {
   "codemirror_mode": {
    "name": "ipython",
    "version": 3
   },
   "file_extension": ".py",
   "mimetype": "text/x-python",
   "name": "python",
   "nbconvert_exporter": "python",
   "pygments_lexer": "ipython3",
   "version": "3.10.9"
  },
  "orig_nbformat": 4,
  "vscode": {
   "interpreter": {
    "hash": "97cc609b13305c559618ec78a438abc56230b9381f827f22d070313b9a1f3777"
   }
  }
 },
 "nbformat": 4,
 "nbformat_minor": 2
}
