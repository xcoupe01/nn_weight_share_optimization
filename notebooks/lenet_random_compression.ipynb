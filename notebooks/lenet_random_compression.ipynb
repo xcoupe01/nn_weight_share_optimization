{
 "cells": [
  {
   "cell_type": "markdown",
   "metadata": {},
   "source": [
    "## Random search compression on LeNet-5"
   ]
  },
  {
   "cell_type": "code",
   "execution_count": 1,
   "metadata": {},
   "outputs": [],
   "source": [
    "import sys\n",
    "sys.path.append('../')"
   ]
  },
  {
   "cell_type": "code",
   "execution_count": 2,
   "metadata": {},
   "outputs": [],
   "source": [
    "import torch\n",
    "import torch.nn as nn\n",
    "import pandas as pd\n",
    "import os\n",
    "import math\n",
    "\n",
    "from data.mnist import MnistDataset\n",
    "from models.lenet.lenet import LeNet5\n",
    "from utils.rnd import RandomController, Individual\n",
    "from utils.train import *\n",
    "from utils.weight_sharing import *\n",
    "from utils.plot import *\n",
    "from utils.fitness_controller import FitnessController"
   ]
  },
  {
   "attachments": {},
   "cell_type": "markdown",
   "metadata": {},
   "source": [
    "Setting parameters "
   ]
  },
  {
   "cell_type": "code",
   "execution_count": 3,
   "metadata": {},
   "outputs": [],
   "source": [
    "# net train settings\n",
    "LEARNING_RATE = 0.0001\n",
    "BATCH_SIZE = 32\n",
    "N_CLASSES = 10\n",
    "DEVICE = 'cpu'\n",
    "EPOCHS = 100\n",
    "\n",
    "# net save settings\n",
    "NET_PATH = '../models/lenet/saves/lenet_relu.save'\n",
    "NET_TYPE = 'relu'\n",
    "\n",
    "# dataset settings\n",
    "DATA_PATH = '../data'\n",
    "\n",
    "# random search iter count\n",
    "NUM_INDIVIDUALS = 400\n",
    "\n",
    "# random search search settings\n",
    "REPR_RANGES = [range(1, 11) for _ in range(5)]\n",
    "\n",
    "# random search save settings\n",
    "SAVE_RND_FILE = '../results/test_RND_save.csv'\n",
    "SAVE_EVERY = 1\n",
    "\n",
    "# range optimization settings\n",
    "RANGE_OPTIMIZATION = True\n",
    "RANGE_OPTIMIZATION_TRESHOLD = 0.97\n",
    "RANGE_OPTIMIZATION_FILE = '../results/lenet-relu-layer-perf.csv'\n",
    "\n",
    "# target position\n",
    "TARGET = [1.0, 12.0]\n",
    "TARGET_LOW_LIMIT = [0.95, 1.0]\n",
    "LOCK_TARGET = False\n",
    "\n",
    "# WS settings\n",
    "SHARE_ORDER = [0, 1, 2, 3, 4]\n",
    "RETRAIN_AMOUNT = None #[0, 0, 0, 0, 0]\n",
    "PREC_REDUCT = None #['f4', 'f4', 'f4', 'f4', 'f4']\n",
    "CLUST_MOD_FOCUS = None #[0, 0, 0, 0, 0]\n",
    "CLUST_MOD_SPREAD = None #[0, 0, 0, 0, 0]"
   ]
  },
  {
   "cell_type": "markdown",
   "metadata": {},
   "source": [
    "Geting somewhat trained LeNet-5"
   ]
  },
  {
   "cell_type": "code",
   "execution_count": 4,
   "metadata": {},
   "outputs": [],
   "source": [
    "dataset = MnistDataset(BATCH_SIZE, DATA_PATH, val_split=0.5)\n",
    "model = LeNet5(N_CLASSES, NET_TYPE)\n",
    "model.to(DEVICE)\n",
    "criterion = nn.CrossEntropyLoss()\n",
    "\n",
    "optimizer = torch.optim.Adam(model.parameters(), lr=LEARNING_RATE)\n",
    "train_settings = [criterion, optimizer, dataset, EPOCHS, DEVICE, 1, True]\n",
    "\n",
    "get_trained(model, NET_PATH, train_settings, DEVICE)\n",
    "\n",
    "before_loss = get_accuracy(model, dataset.test_dl, DEVICE)"
   ]
  },
  {
   "cell_type": "markdown",
   "metadata": {},
   "source": [
    "Setting weight share controller"
   ]
  },
  {
   "cell_type": "code",
   "execution_count": 5,
   "metadata": {},
   "outputs": [
    {
     "name": "stdout",
     "output_type": "stream",
     "text": [
      "layer_name #weights #bias w_locked CR\n",
      "feature_extractor.0 150 6 False 1.00\n",
      "feature_extractor.3 2400 16 False 1.00\n",
      "feature_extractor.6 48000 120 False 1.00\n",
      "classifier.0 10080 84 False 1.00\n",
      "classifier.2 840 10 False 1.00\n",
      "Sum num weights, bias:  61470 236\n",
      "Compression rate 1.00\n"
     ]
    }
   ],
   "source": [
    "lam_opt = lambda mod : torch.optim.Adam(mod.parameters(), lr=LEARNING_RATE)\n",
    "lam_train = lambda opt, epochs : train_net(model, criterion, opt, dataset, epochs, device=DEVICE)\n",
    "lam_test = lambda : get_accuracy(model, dataset.test_dl, DEVICE)\n",
    "\n",
    "ws_controller = WeightShare(model, lam_opt, lam_train, lam_test)\n",
    "ws_controller.set_reset()\n",
    "\n",
    "ws_controller.print_layers_info()"
   ]
  },
  {
   "cell_type": "markdown",
   "metadata": {},
   "source": [
    "Defining fitness function"
   ]
  },
  {
   "cell_type": "code",
   "execution_count": 6,
   "metadata": {},
   "outputs": [],
   "source": [
    "def fitness_vals_fc(individual:Individual):\n",
    "    # reset the net\n",
    "    ws_controller.reset()\n",
    "    \n",
    "    # share weigts by particle\n",
    "    if individual.data is None:\n",
    "        individual.data = ws_controller.share(individual.representation, SHARE_ORDER, RETRAIN_AMOUNT, PREC_REDUCT, CLUST_MOD_FOCUS, CLUST_MOD_SPREAD)\n",
    "    \n",
    "    return [individual.data['accuracy'], individual.data['compression']]\n",
    "\n",
    "def fit_from_vals(data, targ_vals):\n",
    "\n",
    "    return 1 / math.sqrt(pow(1 - (data['accuracy'] - 0.9)/0.1, 2) + pow(1 - (data['compression']/targ_vals[1]), 2))"
   ]
  },
  {
   "attachments": {},
   "cell_type": "markdown",
   "metadata": {},
   "source": [
    "Defining logging"
   ]
  },
  {
   "cell_type": "code",
   "execution_count": 7,
   "metadata": {},
   "outputs": [],
   "source": [
    "data = {\n",
    "    'representation': [],\n",
    "    'accuracy': [],\n",
    "    'accuracy_loss': [],\n",
    "    'compression': [],\n",
    "    'share_t': [],\n",
    "    'train_t': [],\n",
    "    'acc_t': []\n",
    "}\n",
    "\n",
    "data_types = {\n",
    "    'accuracy': 'float32',\n",
    "    'accuracy_loss': 'float32',\n",
    "    'compression': 'float32',\n",
    "    'share_t': 'float32',\n",
    "    'train_t': 'float32',\n",
    "    'acc_t': 'float32'\n",
    "}\n",
    "\n",
    "rnd_data = pd.read_csv(SAVE_RND_FILE).astype(data_types) if os.path.exists(SAVE_RND_FILE) else pd.DataFrame(data).astype(data_types)\n",
    "\n",
    "def logger_fc(rnd_controler:RandomController):\n",
    "    global rnd_data\n",
    "\n",
    "    new_data = copy.deepcopy(data)\n",
    "\n",
    "    indiv = rnd_controler.current_indiv\n",
    "\n",
    "    new_data['representation'].append(indiv.representation)\n",
    "    new_data['accuracy'].append(indiv.data['accuracy'])\n",
    "    new_data['accuracy_loss'].append(before_loss - indiv.data['accuracy'])\n",
    "    new_data['compression'].append(indiv.data['compression'])\n",
    "    new_data['share_t'].append(indiv.data['times']['share'])\n",
    "    new_data['train_t'].append(indiv.data['times']['train'])\n",
    "    new_data['acc_t'].append(indiv.data['times']['test'])\n",
    "\n",
    "    # saving progress\n",
    "    rnd_data = rnd_data.append(pd.DataFrame(new_data).astype(data_types))\n",
    "    rnd_data.reset_index(drop=True, inplace=True)\n",
    "    os.makedirs(os.path.dirname(SAVE_RND_FILE), exist_ok=True)\n",
    "    rnd_data.to_csv(SAVE_RND_FILE, index=False)"
   ]
  },
  {
   "cell_type": "markdown",
   "metadata": {},
   "source": [
    "Setting ranges with optimization"
   ]
  },
  {
   "cell_type": "code",
   "execution_count": 8,
   "metadata": {},
   "outputs": [
    {
     "name": "stdout",
     "output_type": "stream",
     "text": [
      "49\n",
      "47\n",
      "47\n",
      "48\n",
      "47\n"
     ]
    }
   ],
   "source": [
    "lam_test_inp = lambda _ : get_accuracy(model, dataset.test_dl, DEVICE)\n",
    "\n",
    "if RANGE_OPTIMIZATION:\n",
    "    REPR_RANGES = ws_controller.get_optimized_layer_ranges(REPR_RANGES, lam_test_inp, RANGE_OPTIMIZATION_TRESHOLD, \n",
    "        savefile=RANGE_OPTIMIZATION_FILE)\n",
    "\n",
    "for repr_range in REPR_RANGES:\n",
    "    print(len(repr_range))"
   ]
  },
  {
   "cell_type": "markdown",
   "metadata": {},
   "source": [
    "Running the search"
   ]
  },
  {
   "cell_type": "code",
   "execution_count": 9,
   "metadata": {},
   "outputs": [
    {
     "name": "stdout",
     "output_type": "stream",
     "text": [
      "[[0.9846    5.8347588]\n",
      " [0.9846    4.7756486]\n",
      " [0.985     5.3009057]\n",
      " [0.9852    4.9692183]\n",
      " [0.9862    5.170593 ]\n",
      " [0.9762    7.417126 ]\n",
      " [0.9736    8.0313   ]\n",
      " [0.974     6.027611 ]\n",
      " [0.979     8.968766 ]\n",
      " [0.984     5.3934817]]\n",
      "[[0.9836, 6.634841901112805]]\n",
      "Individual 1/10 (10) evaluated Individual ([6, 19, 41, 8, 45]) fit:2.0998429600105784\n",
      "[[0.985, 4.923945296532855]]\n",
      "Individual 2/10 (11) evaluated Individual ([49, 30, 27, 38, 20]) fit:1.6435187527823005\n",
      "[[0.983, 5.943908628812897]]\n",
      "Individual 3/10 (12) evaluated Individual ([30, 23, 6, 44, 23]) fit:1.8778022282894142\n",
      "[[0.9832, 6.922999752194903]]\n",
      "Individual 4/10 (13) evaluated Individual ([27, 6, 15, 21, 10]) fit:2.196749175578725\n",
      "[[0.9852, 4.80965279850865]]\n",
      "Individual 5/10 (14) evaluated Individual ([37, 41, 35, 10, 48]) fit:1.620212848947251\n",
      "[[0.9848, 5.682837089455132]]\n",
      "Individual 6/10 (15) evaluated Individual ([15, 21, 30, 22, 18]) fit:1.8250338817150777\n",
      "[[0.9842, 5.482836477167063]]\n",
      "Individual 7/10 (16) evaluated Individual ([42, 21, 25, 27, 16]) fit:1.7679926399802515\n",
      "[[0.9858, 4.92583488851673]]\n",
      "Individual 8/10 (17) evaluated Individual ([44, 32, 18, 25, 33]) fit:1.6491448835606553\n",
      "[[0.9806, 7.33924898773523]]\n",
      "Individual 9/10 (18) evaluated Individual ([25, 15, 7, 7, 31]) fit:2.3033442495665044\n",
      "[[0.9862, 5.054021264265799]]\n",
      "Individual 10/10 (19) evaluated Individual ([29, 19, 18, 28, 47]) fit:1.6805180581127888\n"
     ]
    },
    {
     "data": {
      "text/plain": [
       "[27, 4, 49, 3, 23]"
      ]
     },
     "execution_count": 9,
     "metadata": {},
     "output_type": "execute_result"
    }
   ],
   "source": [
    "fit_controll = FitnessController(TARGET, fitness_vals_fc, fit_from_vals, target_max_offset=1, lock=LOCK_TARGET, target_limit=TARGET_LOW_LIMIT)\n",
    "random = RandomController(REPR_RANGES, fit_controll)\n",
    "\n",
    "if rnd_data.size != 0:\n",
    "    random.load_from_pd(rnd_data, True)\n",
    "\n",
    "random.run(NUM_INDIVIDUALS, logger_fc, verbose = True)"
   ]
  },
  {
   "cell_type": "markdown",
   "metadata": {},
   "source": [
    "See output"
   ]
  },
  {
   "cell_type": "code",
   "execution_count": 10,
   "metadata": {},
   "outputs": [
    {
     "data": {
      "text/html": [
       "<div>\n",
       "<style scoped>\n",
       "    .dataframe tbody tr th:only-of-type {\n",
       "        vertical-align: middle;\n",
       "    }\n",
       "\n",
       "    .dataframe tbody tr th {\n",
       "        vertical-align: top;\n",
       "    }\n",
       "\n",
       "    .dataframe thead th {\n",
       "        text-align: right;\n",
       "    }\n",
       "</style>\n",
       "<table border=\"1\" class=\"dataframe\">\n",
       "  <thead>\n",
       "    <tr style=\"text-align: right;\">\n",
       "      <th></th>\n",
       "      <th>representation</th>\n",
       "      <th>accuracy</th>\n",
       "      <th>accuracy_loss</th>\n",
       "      <th>compression</th>\n",
       "      <th>share_t</th>\n",
       "      <th>train_t</th>\n",
       "      <th>acc_t</th>\n",
       "      <th>fitness</th>\n",
       "    </tr>\n",
       "  </thead>\n",
       "  <tbody>\n",
       "    <tr>\n",
       "      <th>0</th>\n",
       "      <td>[33, 49, 8, 23, 24]</td>\n",
       "      <td>0.9846</td>\n",
       "      <td>0.0000</td>\n",
       "      <td>5.834759</td>\n",
       "      <td>1.015224</td>\n",
       "      <td>0.0</td>\n",
       "      <td>4.704812</td>\n",
       "      <td>1.0</td>\n",
       "    </tr>\n",
       "    <tr>\n",
       "      <th>1</th>\n",
       "      <td>[34, 18, 32, 39, 42]</td>\n",
       "      <td>0.9846</td>\n",
       "      <td>0.0000</td>\n",
       "      <td>4.775649</td>\n",
       "      <td>1.717755</td>\n",
       "      <td>0.0</td>\n",
       "      <td>3.902231</td>\n",
       "      <td>1.0</td>\n",
       "    </tr>\n",
       "    <tr>\n",
       "      <th>2</th>\n",
       "      <td>[38, 27, 37, 25, 14]</td>\n",
       "      <td>0.9850</td>\n",
       "      <td>-0.0004</td>\n",
       "      <td>5.300906</td>\n",
       "      <td>1.478786</td>\n",
       "      <td>0.0</td>\n",
       "      <td>3.647128</td>\n",
       "      <td>1.0</td>\n",
       "    </tr>\n",
       "    <tr>\n",
       "      <th>3</th>\n",
       "      <td>[18, 20, 26, 47, 50]</td>\n",
       "      <td>0.9852</td>\n",
       "      <td>-0.0006</td>\n",
       "      <td>4.969218</td>\n",
       "      <td>1.391554</td>\n",
       "      <td>0.0</td>\n",
       "      <td>3.527671</td>\n",
       "      <td>1.0</td>\n",
       "    </tr>\n",
       "    <tr>\n",
       "      <th>4</th>\n",
       "      <td>[24, 48, 29, 14, 48]</td>\n",
       "      <td>0.9862</td>\n",
       "      <td>-0.0016</td>\n",
       "      <td>5.170593</td>\n",
       "      <td>1.308849</td>\n",
       "      <td>0.0</td>\n",
       "      <td>3.585720</td>\n",
       "      <td>1.0</td>\n",
       "    </tr>\n",
       "    <tr>\n",
       "      <th>5</th>\n",
       "      <td>[50, 14, 32, 3, 19]</td>\n",
       "      <td>0.9762</td>\n",
       "      <td>0.0084</td>\n",
       "      <td>7.417126</td>\n",
       "      <td>1.249218</td>\n",
       "      <td>0.0</td>\n",
       "      <td>3.684242</td>\n",
       "      <td>2.0</td>\n",
       "    </tr>\n",
       "    <tr>\n",
       "      <th>6</th>\n",
       "      <td>[46, 14, 4, 9, 16]</td>\n",
       "      <td>0.9736</td>\n",
       "      <td>0.0110</td>\n",
       "      <td>8.031300</td>\n",
       "      <td>0.603802</td>\n",
       "      <td>0.0</td>\n",
       "      <td>3.480892</td>\n",
       "      <td>2.0</td>\n",
       "    </tr>\n",
       "    <tr>\n",
       "      <th>7</th>\n",
       "      <td>[27, 5, 44, 18, 22]</td>\n",
       "      <td>0.9740</td>\n",
       "      <td>0.0106</td>\n",
       "      <td>6.027611</td>\n",
       "      <td>1.731914</td>\n",
       "      <td>0.0</td>\n",
       "      <td>3.568015</td>\n",
       "      <td>1.0</td>\n",
       "    </tr>\n",
       "    <tr>\n",
       "      <th>8</th>\n",
       "      <td>[27, 4, 49, 3, 23]</td>\n",
       "      <td>0.9790</td>\n",
       "      <td>0.0056</td>\n",
       "      <td>8.968766</td>\n",
       "      <td>1.712488</td>\n",
       "      <td>0.0</td>\n",
       "      <td>3.576031</td>\n",
       "      <td>3.0</td>\n",
       "    </tr>\n",
       "    <tr>\n",
       "      <th>9</th>\n",
       "      <td>[46, 34, 12, 44, 12]</td>\n",
       "      <td>0.9840</td>\n",
       "      <td>0.0006</td>\n",
       "      <td>5.393482</td>\n",
       "      <td>1.104451</td>\n",
       "      <td>0.0</td>\n",
       "      <td>3.721330</td>\n",
       "      <td>1.0</td>\n",
       "    </tr>\n",
       "    <tr>\n",
       "      <th>10</th>\n",
       "      <td>[6, 19, 41, 8, 45]</td>\n",
       "      <td>0.9836</td>\n",
       "      <td>0.0010</td>\n",
       "      <td>6.634842</td>\n",
       "      <td>1.634373</td>\n",
       "      <td>0.0</td>\n",
       "      <td>3.627301</td>\n",
       "      <td>NaN</td>\n",
       "    </tr>\n",
       "    <tr>\n",
       "      <th>11</th>\n",
       "      <td>[49, 30, 27, 38, 20]</td>\n",
       "      <td>0.9850</td>\n",
       "      <td>-0.0004</td>\n",
       "      <td>4.923945</td>\n",
       "      <td>1.413524</td>\n",
       "      <td>0.0</td>\n",
       "      <td>3.671500</td>\n",
       "      <td>NaN</td>\n",
       "    </tr>\n",
       "    <tr>\n",
       "      <th>12</th>\n",
       "      <td>[30, 23, 6, 44, 23]</td>\n",
       "      <td>0.9830</td>\n",
       "      <td>0.0016</td>\n",
       "      <td>5.943909</td>\n",
       "      <td>0.860307</td>\n",
       "      <td>0.0</td>\n",
       "      <td>4.896663</td>\n",
       "      <td>NaN</td>\n",
       "    </tr>\n",
       "    <tr>\n",
       "      <th>13</th>\n",
       "      <td>[27, 6, 15, 21, 10]</td>\n",
       "      <td>0.9832</td>\n",
       "      <td>0.0014</td>\n",
       "      <td>6.923000</td>\n",
       "      <td>1.163573</td>\n",
       "      <td>0.0</td>\n",
       "      <td>4.866320</td>\n",
       "      <td>NaN</td>\n",
       "    </tr>\n",
       "    <tr>\n",
       "      <th>14</th>\n",
       "      <td>[37, 41, 35, 10, 48]</td>\n",
       "      <td>0.9852</td>\n",
       "      <td>-0.0006</td>\n",
       "      <td>4.809653</td>\n",
       "      <td>1.608317</td>\n",
       "      <td>0.0</td>\n",
       "      <td>3.749659</td>\n",
       "      <td>NaN</td>\n",
       "    </tr>\n",
       "    <tr>\n",
       "      <th>15</th>\n",
       "      <td>[15, 21, 30, 22, 18]</td>\n",
       "      <td>0.9848</td>\n",
       "      <td>-0.0002</td>\n",
       "      <td>5.682837</td>\n",
       "      <td>1.312564</td>\n",
       "      <td>0.0</td>\n",
       "      <td>3.612967</td>\n",
       "      <td>NaN</td>\n",
       "    </tr>\n",
       "    <tr>\n",
       "      <th>16</th>\n",
       "      <td>[42, 21, 25, 27, 16]</td>\n",
       "      <td>0.9842</td>\n",
       "      <td>0.0004</td>\n",
       "      <td>5.482836</td>\n",
       "      <td>1.315432</td>\n",
       "      <td>0.0</td>\n",
       "      <td>3.625644</td>\n",
       "      <td>NaN</td>\n",
       "    </tr>\n",
       "    <tr>\n",
       "      <th>17</th>\n",
       "      <td>[44, 32, 18, 25, 33]</td>\n",
       "      <td>0.9858</td>\n",
       "      <td>-0.0012</td>\n",
       "      <td>4.925835</td>\n",
       "      <td>1.130837</td>\n",
       "      <td>0.0</td>\n",
       "      <td>4.091170</td>\n",
       "      <td>NaN</td>\n",
       "    </tr>\n",
       "    <tr>\n",
       "      <th>18</th>\n",
       "      <td>[25, 15, 7, 7, 31]</td>\n",
       "      <td>0.9806</td>\n",
       "      <td>0.0040</td>\n",
       "      <td>7.339249</td>\n",
       "      <td>0.627331</td>\n",
       "      <td>0.0</td>\n",
       "      <td>3.588372</td>\n",
       "      <td>NaN</td>\n",
       "    </tr>\n",
       "    <tr>\n",
       "      <th>19</th>\n",
       "      <td>[29, 19, 18, 28, 47]</td>\n",
       "      <td>0.9862</td>\n",
       "      <td>-0.0016</td>\n",
       "      <td>5.054021</td>\n",
       "      <td>1.122969</td>\n",
       "      <td>0.0</td>\n",
       "      <td>3.633916</td>\n",
       "      <td>NaN</td>\n",
       "    </tr>\n",
       "  </tbody>\n",
       "</table>\n",
       "</div>"
      ],
      "text/plain": [
       "          representation  accuracy  accuracy_loss  compression   share_t  \\\n",
       "0    [33, 49, 8, 23, 24]    0.9846         0.0000     5.834759  1.015224   \n",
       "1   [34, 18, 32, 39, 42]    0.9846         0.0000     4.775649  1.717755   \n",
       "2   [38, 27, 37, 25, 14]    0.9850        -0.0004     5.300906  1.478786   \n",
       "3   [18, 20, 26, 47, 50]    0.9852        -0.0006     4.969218  1.391554   \n",
       "4   [24, 48, 29, 14, 48]    0.9862        -0.0016     5.170593  1.308849   \n",
       "5    [50, 14, 32, 3, 19]    0.9762         0.0084     7.417126  1.249218   \n",
       "6     [46, 14, 4, 9, 16]    0.9736         0.0110     8.031300  0.603802   \n",
       "7    [27, 5, 44, 18, 22]    0.9740         0.0106     6.027611  1.731914   \n",
       "8     [27, 4, 49, 3, 23]    0.9790         0.0056     8.968766  1.712488   \n",
       "9   [46, 34, 12, 44, 12]    0.9840         0.0006     5.393482  1.104451   \n",
       "10    [6, 19, 41, 8, 45]    0.9836         0.0010     6.634842  1.634373   \n",
       "11  [49, 30, 27, 38, 20]    0.9850        -0.0004     4.923945  1.413524   \n",
       "12   [30, 23, 6, 44, 23]    0.9830         0.0016     5.943909  0.860307   \n",
       "13   [27, 6, 15, 21, 10]    0.9832         0.0014     6.923000  1.163573   \n",
       "14  [37, 41, 35, 10, 48]    0.9852        -0.0006     4.809653  1.608317   \n",
       "15  [15, 21, 30, 22, 18]    0.9848        -0.0002     5.682837  1.312564   \n",
       "16  [42, 21, 25, 27, 16]    0.9842         0.0004     5.482836  1.315432   \n",
       "17  [44, 32, 18, 25, 33]    0.9858        -0.0012     4.925835  1.130837   \n",
       "18    [25, 15, 7, 7, 31]    0.9806         0.0040     7.339249  0.627331   \n",
       "19  [29, 19, 18, 28, 47]    0.9862        -0.0016     5.054021  1.122969   \n",
       "\n",
       "    train_t     acc_t  fitness  \n",
       "0       0.0  4.704812      1.0  \n",
       "1       0.0  3.902231      1.0  \n",
       "2       0.0  3.647128      1.0  \n",
       "3       0.0  3.527671      1.0  \n",
       "4       0.0  3.585720      1.0  \n",
       "5       0.0  3.684242      2.0  \n",
       "6       0.0  3.480892      2.0  \n",
       "7       0.0  3.568015      1.0  \n",
       "8       0.0  3.576031      3.0  \n",
       "9       0.0  3.721330      1.0  \n",
       "10      0.0  3.627301      NaN  \n",
       "11      0.0  3.671500      NaN  \n",
       "12      0.0  4.896663      NaN  \n",
       "13      0.0  4.866320      NaN  \n",
       "14      0.0  3.749659      NaN  \n",
       "15      0.0  3.612967      NaN  \n",
       "16      0.0  3.625644      NaN  \n",
       "17      0.0  4.091170      NaN  \n",
       "18      0.0  3.588372      NaN  \n",
       "19      0.0  3.633916      NaN  "
      ]
     },
     "execution_count": 10,
     "metadata": {},
     "output_type": "execute_result"
    }
   ],
   "source": [
    "rnd_data"
   ]
  },
  {
   "cell_type": "markdown",
   "metadata": {},
   "source": [
    "Plotting data"
   ]
  },
  {
   "cell_type": "code",
   "execution_count": 11,
   "metadata": {},
   "outputs": [
    {
     "data": {
      "text/plain": [
       "Text(0.5, 1.0, 'Random search on LeNet-5')"
      ]
     },
     "execution_count": 11,
     "metadata": {},
     "output_type": "execute_result"
    },
    {
     "data": {
      "image/png": "[encoded data removed]",
      "text/plain": [
       "<Figure size 1800x1000 with 1 Axes>"
      ]
     },
     "metadata": {},
     "output_type": "display_data"
    }
   ],
   "source": [
    "plot_alcr(rnd_data)\n",
    "plt.title('Random search on LeNet-5')"
   ]
  },
  {
   "cell_type": "code",
   "execution_count": 12,
   "metadata": {},
   "outputs": [
    {
     "data": {
      "text/plain": [
       "array([ 1., 12.])"
      ]
     },
     "execution_count": 12,
     "metadata": {},
     "output_type": "execute_result"
    }
   ],
   "source": [
    "fit_controll.targ"
   ]
  }
 ],
 "metadata": {
  "kernelspec": {
   "display_name": "Python 3.10.8 64-bit",
   "language": "python",
   "name": "python3"
  },
  "language_info": {
   "codemirror_mode": {
    "name": "ipython",
    "version": 3
   },
   "file_extension": ".py",
   "mimetype": "text/x-python",
   "name": "python",
   "nbconvert_exporter": "python",
   "pygments_lexer": "ipython3",
   "version": "3.10.10"
  },
  "orig_nbformat": 4,
  "vscode": {
   "interpreter": {
    "hash": "97cc609b13305c559618ec78a438abc56230b9381f827f22d070313b9a1f3777"
   }
  }
 },
 "nbformat": 4,
 "nbformat_minor": 2
}
