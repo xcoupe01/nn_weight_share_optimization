{
 "cells": [
  {
   "cell_type": "markdown",
   "metadata": {},
   "source": [
    "## Random search compression on LeNet-5"
   ]
  },
  {
   "cell_type": "code",
   "execution_count": 1,
   "metadata": {},
   "outputs": [],
   "source": [
    "import sys\n",
    "sys.path.append('../')"
   ]
  },
  {
   "cell_type": "code",
   "execution_count": 2,
   "metadata": {},
   "outputs": [],
   "source": [
    "import torch\n",
    "import torch.nn as nn\n",
    "import pandas as pd\n",
    "import os\n",
    "import math\n",
    "\n",
    "from data.mnist import MnistDataset\n",
    "from models.lenet.lenet import LeNet5\n",
    "from utils.rnd import RandomController, Individual\n",
    "from utils.train import *\n",
    "from utils.weight_sharing import *\n",
    "from utils.plot import *\n",
    "from utils.fitness_controller import FitnessController"
   ]
  },
  {
   "attachments": {},
   "cell_type": "markdown",
   "metadata": {},
   "source": [
    "Setting parameters "
   ]
  },
  {
   "cell_type": "code",
   "execution_count": 3,
   "metadata": {},
   "outputs": [],
   "source": [
    "# net train settings\n",
    "LEARNING_RATE = 0.0001\n",
    "BATCH_SIZE = 32\n",
    "N_CLASSES = 10\n",
    "DEVICE = 'cpu'\n",
    "EPOCHS = 100\n",
    "\n",
    "# net save settings\n",
    "NET_PATH = '../models/lenet/saves/lenet_relu.save'\n",
    "NET_TYPE = 'relu'\n",
    "\n",
    "# random search iter count\n",
    "NUM_INDIVIDUALS = 400\n",
    "\n",
    "# random search search settings\n",
    "REPR_RANGES = [range(1, 51) for _ in range(5)]\n",
    "\n",
    "# random search save settings\n",
    "SAVE_RND_FILE = '../results/test_RND_save.csv'\n",
    "SAVE_EVERY = 1\n",
    "\n",
    "# range optimization settings\n",
    "RANGE_OPTIMIZATION = True\n",
    "RANGE_OPTIMIZATION_TRESHOLD = 0.97\n",
    "RANGE_OPTIMIZATION_FILE = '../results/lenet-relu-layer-perf.csv'\n",
    "\n",
    "# target position\n",
    "TARGET = [1.0, 12.0]\n",
    "LOCK_TARGET = False\n",
    "\n",
    "# WS settings\n",
    "SHARE_ORDER = [0, 1, 2, 3, 4]\n",
    "RETRAIN_AMOUNT = None #[0, 0, 0, 0, 0]\n",
    "PREC_REDUCT = None #['f4', 'f4', 'f4', 'f4', 'f4']\n",
    "CLUST_MOD_FOCUS = None #[0, 0, 0, 0, 0]\n",
    "CLUST_MOD_SPREAD = None #[0, 0, 0, 0, 0]"
   ]
  },
  {
   "cell_type": "markdown",
   "metadata": {},
   "source": [
    "Geting somewhat trained LeNet-5"
   ]
  },
  {
   "cell_type": "code",
   "execution_count": 4,
   "metadata": {},
   "outputs": [],
   "source": [
    "dataset = MnistDataset(BATCH_SIZE, '../data', val_split=0.5)\n",
    "model = LeNet5(N_CLASSES, NET_TYPE)\n",
    "model.to(DEVICE)\n",
    "criterion = nn.CrossEntropyLoss()\n",
    "\n",
    "optimizer = torch.optim.Adam(model.parameters(), lr=LEARNING_RATE)\n",
    "train_settings = [criterion, optimizer, dataset, EPOCHS, DEVICE, 1, True]\n",
    "\n",
    "get_trained(model, NET_PATH, train_settings, DEVICE)\n",
    "\n",
    "before_loss = get_accuracy(model, dataset.test_dl, DEVICE)"
   ]
  },
  {
   "cell_type": "markdown",
   "metadata": {},
   "source": [
    "Setting weight share controller"
   ]
  },
  {
   "cell_type": "code",
   "execution_count": 5,
   "metadata": {},
   "outputs": [
    {
     "name": "stdout",
     "output_type": "stream",
     "text": [
      "layer_name #weights #bias w_locked CR\n",
      "feature_extractor.0 150 6 False 1.00\n",
      "feature_extractor.3 2400 16 False 1.00\n",
      "feature_extractor.6 48000 120 False 1.00\n",
      "classifier.0 10080 84 False 1.00\n",
      "classifier.2 840 10 False 1.00\n",
      "Sum num weights, bias:  61470 236\n",
      "Compression rate 1.00\n"
     ]
    }
   ],
   "source": [
    "lam_opt = lambda mod : torch.optim.Adam(mod.parameters(), lr=LEARNING_RATE)\n",
    "lam_train = lambda opt, epochs : train_net(model, criterion, opt, dataset, epochs, device=DEVICE)\n",
    "lam_test = lambda : get_accuracy(model, dataset.test_dl, DEVICE)\n",
    "\n",
    "ws_controller = WeightShare(model, lam_opt, lam_train, lam_test)\n",
    "ws_controller.set_reset()\n",
    "\n",
    "ws_controller.print_layers_info()"
   ]
  },
  {
   "cell_type": "markdown",
   "metadata": {},
   "source": [
    "Defining fitness function"
   ]
  },
  {
   "cell_type": "code",
   "execution_count": 6,
   "metadata": {},
   "outputs": [],
   "source": [
    "def fitness_vals_fc(individual:Individual):\n",
    "    # reset the net\n",
    "    ws_controller.reset()\n",
    "    \n",
    "    # share weigts by particle\n",
    "    if individual.data is None:\n",
    "        individual.data = ws_controller.share(individual.representation, SHARE_ORDER, RETRAIN_AMOUNT, PREC_REDUCT, CLUST_MOD_FOCUS, CLUST_MOD_SPREAD)\n",
    "    \n",
    "    return [individual.data['accuracy'], individual.data['compression']]\n",
    "\n",
    "def fit_from_vals(data, targ_vals):\n",
    "\n",
    "    # compute fitness\n",
    "    if data['accuracy'] <= 0.95:\n",
    "        return data['accuracy']\n",
    "\n",
    "    return 1 / math.sqrt(pow(1 - ((data['accuracy'] - 0.9) * (1/0.1)), 2) + pow(1 - (data['compression']/targ_vals[1]), 2))"
   ]
  },
  {
   "cell_type": "code",
   "execution_count": 7,
   "metadata": {},
   "outputs": [],
   "source": [
    "data = {\n",
    "    'representation': [],\n",
    "    'accuracy': [],\n",
    "    'accuracy_loss': [],\n",
    "    'compression': [],\n",
    "    'share_t': [],\n",
    "    'train_t': [],\n",
    "    'acc_t': []\n",
    "}\n",
    "\n",
    "data_types = {\n",
    "    'accuracy': 'float32',\n",
    "    'accuracy_loss': 'float32',\n",
    "    'compression': 'float32',\n",
    "    'share_t': 'float32',\n",
    "    'train_t': 'float32',\n",
    "    'acc_t': 'float32'\n",
    "}\n",
    "\n",
    "rnd_data = pd.read_csv(SAVE_RND_FILE).astype(data_types) if os.path.exists(SAVE_RND_FILE) else pd.DataFrame(data).astype(data_types)\n",
    "\n",
    "def logger_fc(rnd_controler:RandomController):\n",
    "    global rnd_data\n",
    "\n",
    "    new_data = copy.deepcopy(data)\n",
    "\n",
    "    indiv = rnd_controler.current_indiv\n",
    "\n",
    "    new_data['representation'].append(indiv.representation)\n",
    "    new_data['accuracy'].append(indiv.data['accuracy'])\n",
    "    new_data['accuracy_loss'].append(before_loss - indiv.data['accuracy'])\n",
    "    new_data['compression'].append(indiv.data['compression'])\n",
    "    new_data['share_t'].append(indiv.data['times']['share'])\n",
    "    new_data['train_t'].append(indiv.data['times']['train'])\n",
    "    new_data['acc_t'].append(indiv.data['times']['test'])\n",
    "\n",
    "    # saving progress\n",
    "    rnd_data = rnd_data.append(pd.DataFrame(new_data).astype(data_types))\n",
    "    rnd_data.reset_index(drop=True, inplace=True)\n",
    "    os.makedirs(os.path.dirname(SAVE_RND_FILE), exist_ok=True)\n",
    "    rnd_data.to_csv(SAVE_RND_FILE, index=False)"
   ]
  },
  {
   "cell_type": "markdown",
   "metadata": {},
   "source": [
    "Setting ranges with optimization"
   ]
  },
  {
   "cell_type": "code",
   "execution_count": 8,
   "metadata": {},
   "outputs": [
    {
     "name": "stdout",
     "output_type": "stream",
     "text": [
      "49\n",
      "47\n",
      "47\n",
      "48\n",
      "47\n"
     ]
    }
   ],
   "source": [
    "lam_test_inp = lambda _ : get_accuracy(model, dataset.test_dl, DEVICE)\n",
    "\n",
    "if RANGE_OPTIMIZATION:\n",
    "    REPR_RANGES = ws_controller.get_optimized_layer_ranges(REPR_RANGES, lam_test_inp, RANGE_OPTIMIZATION_TRESHOLD, \n",
    "        savefile=RANGE_OPTIMIZATION_FILE)\n",
    "\n",
    "for repr_range in REPR_RANGES:\n",
    "    print(len(repr_range))"
   ]
  },
  {
   "cell_type": "markdown",
   "metadata": {},
   "source": [
    "Running the search"
   ]
  },
  {
   "cell_type": "code",
   "execution_count": 9,
   "metadata": {},
   "outputs": [
    {
     "name": "stdout",
     "output_type": "stream",
     "text": [
      "Fitness target update to [1.         7.76750422]\n",
      "Individual 1/10 (10) evaluated Individual ([7, 19, 39, 28, 35]) fit:3.333818373542426\n",
      "Individual 2/10 (11) evaluated Individual ([20, 36, 38, 16, 49]) fit:2.6103782019245863\n",
      "Individual 3/10 (12) evaluated Individual ([28, 33, 18, 48, 22]) fit:2.539515708743419\n",
      "Individual 4/10 (13) evaluated Individual ([3, 38, 37, 44, 35]) fit:3.8334408726664893\n",
      "Individual 5/10 (14) evaluated Individual ([42, 22, 41, 12, 48]) fit:2.6106890034074604\n",
      "Individual 6/10 (15) evaluated Individual ([23, 31, 49, 6, 7]) fit:4.981455180624146\n",
      "Individual 7/10 (16) evaluated Individual ([23, 26, 6, 6, 29]) fit:4.9470237080211135\n",
      "Individual 8/10 (17) evaluated Individual ([32, 27, 43, 21, 14]) fit:2.9493350148888284\n",
      "Individual 9/10 (18) evaluated Individual ([21, 20, 31, 33, 50]) fit:2.5306622897100106\n",
      "Individual 10/10 (19) evaluated Individual ([44, 18, 29, 40, 15]) fit:2.8472047925671897\n"
     ]
    },
    {
     "data": {
      "text/plain": [
       "[20, 11, 43, 13, 7]"
      ]
     },
     "execution_count": 9,
     "metadata": {},
     "output_type": "execute_result"
    }
   ],
   "source": [
    "fit_controll = FitnessController(TARGET, fitness_vals_fc, fit_from_vals, target_max_offset=1, lock=LOCK_TARGET)\n",
    "random = RandomController(REPR_RANGES, fit_controll)\n",
    "\n",
    "if rnd_data.size != 0:\n",
    "    random.load_from_pd(rnd_data, True)\n",
    "\n",
    "random.run(NUM_INDIVIDUALS, logger_fc, verbose = True)"
   ]
  },
  {
   "cell_type": "markdown",
   "metadata": {},
   "source": [
    "See output"
   ]
  },
  {
   "cell_type": "code",
   "execution_count": 10,
   "metadata": {},
   "outputs": [
    {
     "data": {
      "text/html": [
       "<div>\n",
       "<style scoped>\n",
       "    .dataframe tbody tr th:only-of-type {\n",
       "        vertical-align: middle;\n",
       "    }\n",
       "\n",
       "    .dataframe tbody tr th {\n",
       "        vertical-align: top;\n",
       "    }\n",
       "\n",
       "    .dataframe thead th {\n",
       "        text-align: right;\n",
       "    }\n",
       "</style>\n",
       "<table border=\"1\" class=\"dataframe\">\n",
       "  <thead>\n",
       "    <tr style=\"text-align: right;\">\n",
       "      <th></th>\n",
       "      <th>representation</th>\n",
       "      <th>accuracy</th>\n",
       "      <th>accuracy_loss</th>\n",
       "      <th>compression</th>\n",
       "      <th>share_t</th>\n",
       "      <th>train_t</th>\n",
       "      <th>acc_t</th>\n",
       "      <th>fitness</th>\n",
       "    </tr>\n",
       "  </thead>\n",
       "  <tbody>\n",
       "    <tr>\n",
       "      <th>0</th>\n",
       "      <td>[23, 33, 43, 23, 12]</td>\n",
       "      <td>0.9852</td>\n",
       "      <td>-0.0006</td>\n",
       "      <td>5.317961</td>\n",
       "      <td>3.252446</td>\n",
       "      <td>0.0</td>\n",
       "      <td>3.855987</td>\n",
       "      <td>2.0</td>\n",
       "    </tr>\n",
       "    <tr>\n",
       "      <th>1</th>\n",
       "      <td>[45, 7, 50, 13, 33]</td>\n",
       "      <td>0.9846</td>\n",
       "      <td>0.0000</td>\n",
       "      <td>5.926410</td>\n",
       "      <td>3.335265</td>\n",
       "      <td>0.0</td>\n",
       "      <td>3.683328</td>\n",
       "      <td>3.0</td>\n",
       "    </tr>\n",
       "    <tr>\n",
       "      <th>2</th>\n",
       "      <td>[7, 32, 12, 26, 17]</td>\n",
       "      <td>0.9844</td>\n",
       "      <td>0.0002</td>\n",
       "      <td>6.512052</td>\n",
       "      <td>1.746838</td>\n",
       "      <td>0.0</td>\n",
       "      <td>3.502718</td>\n",
       "      <td>4.0</td>\n",
       "    </tr>\n",
       "    <tr>\n",
       "      <th>3</th>\n",
       "      <td>[30, 22, 45, 13, 37]</td>\n",
       "      <td>0.9856</td>\n",
       "      <td>-0.0010</td>\n",
       "      <td>5.190836</td>\n",
       "      <td>3.458077</td>\n",
       "      <td>0.0</td>\n",
       "      <td>3.859667</td>\n",
       "      <td>2.0</td>\n",
       "    </tr>\n",
       "    <tr>\n",
       "      <th>4</th>\n",
       "      <td>[7, 15, 28, 16, 34]</td>\n",
       "      <td>0.9854</td>\n",
       "      <td>-0.0008</td>\n",
       "      <td>6.597072</td>\n",
       "      <td>2.541836</td>\n",
       "      <td>0.0</td>\n",
       "      <td>3.595945</td>\n",
       "      <td>4.0</td>\n",
       "    </tr>\n",
       "    <tr>\n",
       "      <th>5</th>\n",
       "      <td>[22, 41, 8, 17, 10]</td>\n",
       "      <td>0.9836</td>\n",
       "      <td>0.0010</td>\n",
       "      <td>6.414914</td>\n",
       "      <td>1.380302</td>\n",
       "      <td>0.0</td>\n",
       "      <td>3.603256</td>\n",
       "      <td>4.0</td>\n",
       "    </tr>\n",
       "    <tr>\n",
       "      <th>6</th>\n",
       "      <td>[20, 11, 43, 13, 7]</td>\n",
       "      <td>0.9850</td>\n",
       "      <td>-0.0004</td>\n",
       "      <td>6.767504</td>\n",
       "      <td>3.428324</td>\n",
       "      <td>0.0</td>\n",
       "      <td>4.597684</td>\n",
       "      <td>5.0</td>\n",
       "    </tr>\n",
       "    <tr>\n",
       "      <th>7</th>\n",
       "      <td>[22, 48, 19, 23, 11]</td>\n",
       "      <td>0.9844</td>\n",
       "      <td>0.0002</td>\n",
       "      <td>5.526874</td>\n",
       "      <td>2.131185</td>\n",
       "      <td>0.0</td>\n",
       "      <td>3.487895</td>\n",
       "      <td>3.0</td>\n",
       "    </tr>\n",
       "    <tr>\n",
       "      <th>8</th>\n",
       "      <td>[42, 22, 16, 28, 46]</td>\n",
       "      <td>0.9858</td>\n",
       "      <td>-0.0012</td>\n",
       "      <td>5.224723</td>\n",
       "      <td>2.038266</td>\n",
       "      <td>0.0</td>\n",
       "      <td>3.931313</td>\n",
       "      <td>2.0</td>\n",
       "    </tr>\n",
       "    <tr>\n",
       "      <th>9</th>\n",
       "      <td>[19, 24, 24, 43, 40]</td>\n",
       "      <td>0.9836</td>\n",
       "      <td>0.0010</td>\n",
       "      <td>4.985909</td>\n",
       "      <td>2.756145</td>\n",
       "      <td>0.0</td>\n",
       "      <td>3.600942</td>\n",
       "      <td>2.0</td>\n",
       "    </tr>\n",
       "    <tr>\n",
       "      <th>10</th>\n",
       "      <td>[7, 19, 39, 28, 35]</td>\n",
       "      <td>0.9850</td>\n",
       "      <td>-0.0004</td>\n",
       "      <td>5.749839</td>\n",
       "      <td>3.299942</td>\n",
       "      <td>0.0</td>\n",
       "      <td>4.287146</td>\n",
       "      <td>NaN</td>\n",
       "    </tr>\n",
       "    <tr>\n",
       "      <th>11</th>\n",
       "      <td>[20, 36, 38, 16, 49]</td>\n",
       "      <td>0.9848</td>\n",
       "      <td>-0.0002</td>\n",
       "      <td>5.036135</td>\n",
       "      <td>3.072676</td>\n",
       "      <td>0.0</td>\n",
       "      <td>3.453948</td>\n",
       "      <td>NaN</td>\n",
       "    </tr>\n",
       "    <tr>\n",
       "      <th>12</th>\n",
       "      <td>[28, 33, 18, 48, 22]</td>\n",
       "      <td>0.9862</td>\n",
       "      <td>-0.0016</td>\n",
       "      <td>4.902828</td>\n",
       "      <td>2.409230</td>\n",
       "      <td>0.0</td>\n",
       "      <td>3.643136</td>\n",
       "      <td>NaN</td>\n",
       "    </tr>\n",
       "    <tr>\n",
       "      <th>13</th>\n",
       "      <td>[3, 38, 37, 44, 35]</td>\n",
       "      <td>0.9820</td>\n",
       "      <td>0.0026</td>\n",
       "      <td>6.300924</td>\n",
       "      <td>3.121577</td>\n",
       "      <td>0.0</td>\n",
       "      <td>3.824543</td>\n",
       "      <td>NaN</td>\n",
       "    </tr>\n",
       "    <tr>\n",
       "      <th>14</th>\n",
       "      <td>[42, 22, 41, 12, 48]</td>\n",
       "      <td>0.9856</td>\n",
       "      <td>-0.0010</td>\n",
       "      <td>5.010487</td>\n",
       "      <td>3.300175</td>\n",
       "      <td>0.0</td>\n",
       "      <td>4.085691</td>\n",
       "      <td>NaN</td>\n",
       "    </tr>\n",
       "    <tr>\n",
       "      <th>15</th>\n",
       "      <td>[23, 31, 49, 6, 7]</td>\n",
       "      <td>0.9834</td>\n",
       "      <td>0.0012</td>\n",
       "      <td>6.890692</td>\n",
       "      <td>3.358654</td>\n",
       "      <td>0.0</td>\n",
       "      <td>3.797969</td>\n",
       "      <td>NaN</td>\n",
       "    </tr>\n",
       "    <tr>\n",
       "      <th>16</th>\n",
       "      <td>[23, 26, 6, 6, 29]</td>\n",
       "      <td>0.9820</td>\n",
       "      <td>0.0026</td>\n",
       "      <td>7.053009</td>\n",
       "      <td>1.209896</td>\n",
       "      <td>0.0</td>\n",
       "      <td>3.615049</td>\n",
       "      <td>NaN</td>\n",
       "    </tr>\n",
       "    <tr>\n",
       "      <th>17</th>\n",
       "      <td>[32, 27, 43, 21, 14]</td>\n",
       "      <td>0.9854</td>\n",
       "      <td>-0.0008</td>\n",
       "      <td>5.390530</td>\n",
       "      <td>3.270418</td>\n",
       "      <td>0.0</td>\n",
       "      <td>3.836453</td>\n",
       "      <td>NaN</td>\n",
       "    </tr>\n",
       "    <tr>\n",
       "      <th>18</th>\n",
       "      <td>[21, 20, 31, 33, 50]</td>\n",
       "      <td>0.9850</td>\n",
       "      <td>-0.0004</td>\n",
       "      <td>4.927886</td>\n",
       "      <td>2.983061</td>\n",
       "      <td>0.0</td>\n",
       "      <td>3.643692</td>\n",
       "      <td>NaN</td>\n",
       "    </tr>\n",
       "    <tr>\n",
       "      <th>19</th>\n",
       "      <td>[44, 18, 29, 40, 15]</td>\n",
       "      <td>0.9856</td>\n",
       "      <td>-0.0010</td>\n",
       "      <td>5.279226</td>\n",
       "      <td>2.941939</td>\n",
       "      <td>0.0</td>\n",
       "      <td>3.603889</td>\n",
       "      <td>NaN</td>\n",
       "    </tr>\n",
       "  </tbody>\n",
       "</table>\n",
       "</div>"
      ],
      "text/plain": [
       "          representation  accuracy  accuracy_loss  compression   share_t  \\\n",
       "0   [23, 33, 43, 23, 12]    0.9852        -0.0006     5.317961  3.252446   \n",
       "1    [45, 7, 50, 13, 33]    0.9846         0.0000     5.926410  3.335265   \n",
       "2    [7, 32, 12, 26, 17]    0.9844         0.0002     6.512052  1.746838   \n",
       "3   [30, 22, 45, 13, 37]    0.9856        -0.0010     5.190836  3.458077   \n",
       "4    [7, 15, 28, 16, 34]    0.9854        -0.0008     6.597072  2.541836   \n",
       "5    [22, 41, 8, 17, 10]    0.9836         0.0010     6.414914  1.380302   \n",
       "6    [20, 11, 43, 13, 7]    0.9850        -0.0004     6.767504  3.428324   \n",
       "7   [22, 48, 19, 23, 11]    0.9844         0.0002     5.526874  2.131185   \n",
       "8   [42, 22, 16, 28, 46]    0.9858        -0.0012     5.224723  2.038266   \n",
       "9   [19, 24, 24, 43, 40]    0.9836         0.0010     4.985909  2.756145   \n",
       "10   [7, 19, 39, 28, 35]    0.9850        -0.0004     5.749839  3.299942   \n",
       "11  [20, 36, 38, 16, 49]    0.9848        -0.0002     5.036135  3.072676   \n",
       "12  [28, 33, 18, 48, 22]    0.9862        -0.0016     4.902828  2.409230   \n",
       "13   [3, 38, 37, 44, 35]    0.9820         0.0026     6.300924  3.121577   \n",
       "14  [42, 22, 41, 12, 48]    0.9856        -0.0010     5.010487  3.300175   \n",
       "15    [23, 31, 49, 6, 7]    0.9834         0.0012     6.890692  3.358654   \n",
       "16    [23, 26, 6, 6, 29]    0.9820         0.0026     7.053009  1.209896   \n",
       "17  [32, 27, 43, 21, 14]    0.9854        -0.0008     5.390530  3.270418   \n",
       "18  [21, 20, 31, 33, 50]    0.9850        -0.0004     4.927886  2.983061   \n",
       "19  [44, 18, 29, 40, 15]    0.9856        -0.0010     5.279226  2.941939   \n",
       "\n",
       "    train_t     acc_t  fitness  \n",
       "0       0.0  3.855987      2.0  \n",
       "1       0.0  3.683328      3.0  \n",
       "2       0.0  3.502718      4.0  \n",
       "3       0.0  3.859667      2.0  \n",
       "4       0.0  3.595945      4.0  \n",
       "5       0.0  3.603256      4.0  \n",
       "6       0.0  4.597684      5.0  \n",
       "7       0.0  3.487895      3.0  \n",
       "8       0.0  3.931313      2.0  \n",
       "9       0.0  3.600942      2.0  \n",
       "10      0.0  4.287146      NaN  \n",
       "11      0.0  3.453948      NaN  \n",
       "12      0.0  3.643136      NaN  \n",
       "13      0.0  3.824543      NaN  \n",
       "14      0.0  4.085691      NaN  \n",
       "15      0.0  3.797969      NaN  \n",
       "16      0.0  3.615049      NaN  \n",
       "17      0.0  3.836453      NaN  \n",
       "18      0.0  3.643692      NaN  \n",
       "19      0.0  3.603889      NaN  "
      ]
     },
     "execution_count": 10,
     "metadata": {},
     "output_type": "execute_result"
    }
   ],
   "source": [
    "rnd_data"
   ]
  },
  {
   "cell_type": "markdown",
   "metadata": {},
   "source": [
    "Plotting data"
   ]
  },
  {
   "cell_type": "code",
   "execution_count": 11,
   "metadata": {},
   "outputs": [
    {
     "data": {
      "text/plain": [
       "Text(0.5, 1.0, 'Random search on LeNet-5')"
      ]
     },
     "execution_count": 11,
     "metadata": {},
     "output_type": "execute_result"
    },
    {
     "data": {
      "image/png": "[encoded data removed]",
      "text/plain": [
       "<Figure size 1800x1000 with 1 Axes>"
      ]
     },
     "metadata": {},
     "output_type": "display_data"
    }
   ],
   "source": [
    "plot_alcr(rnd_data)\n",
    "plt.title('Random search on LeNet-5')"
   ]
  },
  {
   "cell_type": "code",
   "execution_count": 12,
   "metadata": {},
   "outputs": [
    {
     "data": {
      "text/plain": [
       "array([1.        , 7.76750422])"
      ]
     },
     "execution_count": 12,
     "metadata": {},
     "output_type": "execute_result"
    }
   ],
   "source": [
    "fit_controll.targ"
   ]
  }
 ],
 "metadata": {
  "kernelspec": {
   "display_name": "Python 3.10.8 64-bit",
   "language": "python",
   "name": "python3"
  },
  "language_info": {
   "codemirror_mode": {
    "name": "ipython",
    "version": 3
   },
   "file_extension": ".py",
   "mimetype": "text/x-python",
   "name": "python",
   "nbconvert_exporter": "python",
   "pygments_lexer": "ipython3",
   "version": "3.10.9"
  },
  "orig_nbformat": 4,
  "vscode": {
   "interpreter": {
    "hash": "97cc609b13305c559618ec78a438abc56230b9381f827f22d070313b9a1f3777"
   }
  }
 },
 "nbformat": 4,
 "nbformat_minor": 2
}
