{
 "cells": [
  {
   "cell_type": "code",
   "execution_count": 1,
   "metadata": {},
   "outputs": [],
   "source": [
    "import sys\n",
    "sys.path.append('../')"
   ]
  },
  {
   "cell_type": "code",
   "execution_count": 2,
   "metadata": {},
   "outputs": [],
   "source": [
    "import torch\n",
    "import torch.nn as nn\n",
    "import pandas as pd\n",
    "import os\n",
    "import math\n",
    "\n",
    "from data.mnist import MnistDataset\n",
    "from models.lenet.lenet import LeNet5\n",
    "from utils.train import *\n",
    "from utils.weight_sharing import *\n",
    "from utils.pso import PSOController, Particle\n",
    "from utils.plot import *\n",
    "from utils.fitness_controller import FitnessController"
   ]
  },
  {
   "cell_type": "code",
   "execution_count": 3,
   "metadata": {},
   "outputs": [],
   "source": [
    "# net train settings\n",
    "LEARNING_RATE = 0.0001\n",
    "BATCH_SIZE = 32\n",
    "N_CLASSES = 10\n",
    "DEVICE = 'cpu'\n",
    "EPOCHS = 100\n",
    "\n",
    "# net save settings\n",
    "NET_PATH = '../models/lenet/saves/lenet_tanh.save'\n",
    "NET_TYPE = 'tanh'\n",
    "\n",
    "# pso iter count\n",
    "NUM_ITERATIONS = 10 #20\n",
    "NUM_PARTICLES = 10 #20\n",
    "\n",
    "# pso search settings\n",
    "FOCUS_SEARCH_SPACE = [range(10) for _ in range(5)]\n",
    "PARTICLE_MAX_VELOCITY = [2 for _ in range(5)]\n",
    "INERTIA = 0.8\n",
    "\n",
    "# pso save settings\n",
    "SAVE_PSO_FILE = '../results/test_PSO_save.csv'\n",
    "SAVE_EVERY = 1\n",
    "\n",
    "# bh settings\n",
    "BH_RADUIUS = 2 #None #2\n",
    "BH_VEL_TRESHOLD = 2 #None #2\n",
    "\n",
    "# target position\n",
    "TARGET = [0.0, 0.0]\n",
    "LOCK_TARGET = True\n",
    "\n",
    "# WS settings\n",
    "SHARE_ORDER = [0, 1, 2, 3, 4]\n",
    "RETRAIN_AMOUNT = None #[0, 0, 0, 0, 0]\n",
    "PREC_REDUCT = None #['f4', 'f4', 'f4', 'f4', 'f4']\n",
    "FIXED_SPREAD = [2, 2, 2, 2, 2]\n",
    "SHARE_CLUSTERS = [15, 15, 6, 2, 2]"
   ]
  },
  {
   "cell_type": "code",
   "execution_count": 4,
   "metadata": {},
   "outputs": [
    {
     "name": "stdout",
     "output_type": "stream",
     "text": [
      "layer_name #weights #bias w_locked CR\n",
      "feature_extractor.0 150 6 False 1.00\n",
      "feature_extractor.3 2400 16 False 1.00\n",
      "feature_extractor.6 48000 120 False 1.00\n",
      "classifier.0 10080 84 False 1.00\n",
      "classifier.2 840 10 False 1.00\n",
      "Sum num weights, bias:  61470 236\n",
      "Compression rate 1.00\n"
     ]
    }
   ],
   "source": [
    "dataset = MnistDataset(BATCH_SIZE, '../data', val_split=0.5)\n",
    "model = LeNet5(N_CLASSES, 'tanh')\n",
    "criterion = nn.CrossEntropyLoss()\n",
    "\n",
    "lam_opt = lambda mod : torch.optim.Adam(mod.parameters(), lr=LEARNING_RATE)\n",
    "lam_train = lambda opt, epochs : train_net(model, criterion, opt, dataset, epochs, device=DEVICE)\n",
    "lam_test = lambda : get_accuracy(model, dataset.test_dl, DEVICE)\n",
    "\n",
    "ws_controller = WeightShare(model, lam_opt, lam_train, lam_test)\n",
    "ws_controller.print_layers_info()"
   ]
  },
  {
   "cell_type": "code",
   "execution_count": 5,
   "metadata": {},
   "outputs": [],
   "source": [
    "optimizer = lam_opt(model)\n",
    "train_settings = [criterion, optimizer, dataset, EPOCHS, DEVICE, 1, True]\n",
    "\n",
    "get_trained(model, NET_PATH, train_settings)\n",
    "ws_controller.set_reset()"
   ]
  },
  {
   "cell_type": "code",
   "execution_count": 6,
   "metadata": {},
   "outputs": [],
   "source": [
    "def fitness_vals_fc(individual:Particle):\n",
    "    # reset the net\n",
    "    ws_controller.reset()\n",
    "    \n",
    "    # share weigts by particle\n",
    "    if individual.data is None:\n",
    "        individual.data = ws_controller.share(SHARE_CLUSTERS, SHARE_ORDER, RETRAIN_AMOUNT, PREC_REDUCT, individual.position, FIXED_SPREAD)\n",
    "    \n",
    "    return [individual.data['accuracy']]\n",
    "\n",
    "def fit_from_vals(data, targ_vals):\n",
    "\n",
    "    return data['accuracy']"
   ]
  },
  {
   "cell_type": "code",
   "execution_count": 7,
   "metadata": {},
   "outputs": [],
   "source": [
    "data = {\n",
    "    'position': [],\n",
    "    'accuracy': [],\n",
    "    'time': [],\n",
    "}\n",
    "\n",
    "data_types = {\n",
    "    'accuracy': 'float32',\n",
    "    'time': 'uint8',\n",
    "}\n",
    "\n",
    "pso_data = pd.read_csv(SAVE_PSO_FILE).astype(data_types) if os.path.exists(SAVE_PSO_FILE) else pd.DataFrame(data).astype(data_types)\n",
    "\n",
    "def logger_fc(pso_cont:PSOController):\n",
    "    global pso_data\n",
    "\n",
    "    new_data = copy.deepcopy(data)\n",
    "\n",
    "    for particle in pso_cont.swarm:\n",
    "\n",
    "        new_data['time'].append(pso_cont.time)\n",
    "        new_data['position'].append(particle.position)\n",
    "        new_data['accuracy'].append(particle.data['accuracy'])\n",
    "\n",
    "    # saving progress\n",
    "    pso_data = pso_data.append(pd.DataFrame(new_data).astype(data_types))\n",
    "    if pso_cont.time % SAVE_EVERY == SAVE_EVERY - 1:\n",
    "        pso_data.reset_index(drop=True, inplace=True)\n",
    "        os.makedirs(os.path.dirname(SAVE_PSO_FILE), exist_ok=True)\n",
    "        pso_data.to_csv(SAVE_PSO_FILE, index=False)"
   ]
  },
  {
   "cell_type": "code",
   "execution_count": 8,
   "metadata": {},
   "outputs": [
    {
     "name": "stdout",
     "output_type": "stream",
     "text": [
      "Time 1/10 (0) best fitness 0.9826\n",
      "Time 2/10 (1) best fitness 0.9826\n",
      "Time 3/10 (2) best fitness 0.9836\n",
      "Time 4/10 (3) best fitness 0.9836\n",
      "Time 5/10 (4) best fitness 0.9836\n",
      "Time 6/10 (5) best fitness 0.9836\n",
      "Time 7/10 (6) best fitness 0.9836\n",
      "Time 8/10 (7) best fitness 0.9836\n",
      "Time 9/10 (8) best fitness 0.9836\n",
      "Time 10/10 (9) best fitness 0.9836\n"
     ]
    },
    {
     "data": {
      "text/plain": [
       "[4, 4, 4, 5, 5]"
      ]
     },
     "execution_count": 8,
     "metadata": {},
     "output_type": "execute_result"
    }
   ],
   "source": [
    "fit_controll = FitnessController(TARGET, fitness_vals_fc, fit_from_vals,target_max_offset=1, lock=LOCK_TARGET)\n",
    "pso = PSOController(NUM_PARTICLES, FOCUS_SEARCH_SPACE, PARTICLE_MAX_VELOCITY, INERTIA, fit_controll)\n",
    "\n",
    "# baseline position with no modulation\n",
    "pso.swarm[0].position = [0.0 for _ in range(5)]\n",
    "\n",
    "pso.run(NUM_ITERATIONS, logger_fc, verbose=True)"
   ]
  },
  {
   "cell_type": "code",
   "execution_count": 9,
   "metadata": {},
   "outputs": [
    {
     "data": {
      "text/html": [
       "<div>\n",
       "<style scoped>\n",
       "    .dataframe tbody tr th:only-of-type {\n",
       "        vertical-align: middle;\n",
       "    }\n",
       "\n",
       "    .dataframe tbody tr th {\n",
       "        vertical-align: top;\n",
       "    }\n",
       "\n",
       "    .dataframe thead th {\n",
       "        text-align: right;\n",
       "    }\n",
       "</style>\n",
       "<table border=\"1\" class=\"dataframe\">\n",
       "  <thead>\n",
       "    <tr style=\"text-align: right;\">\n",
       "      <th></th>\n",
       "      <th>position</th>\n",
       "      <th>accuracy</th>\n",
       "      <th>time</th>\n",
       "    </tr>\n",
       "  </thead>\n",
       "  <tbody>\n",
       "    <tr>\n",
       "      <th>0</th>\n",
       "      <td>[2.715936955600501, 4.179796011227187, 1.58724...</td>\n",
       "      <td>0.9824</td>\n",
       "      <td>0</td>\n",
       "    </tr>\n",
       "    <tr>\n",
       "      <th>1</th>\n",
       "      <td>[4.81081446481308, 5.711731836486727, 4.231242...</td>\n",
       "      <td>0.9800</td>\n",
       "      <td>0</td>\n",
       "    </tr>\n",
       "    <tr>\n",
       "      <th>2</th>\n",
       "      <td>[4.679985395715392, 3.454380918441415, 4.87296...</td>\n",
       "      <td>0.9826</td>\n",
       "      <td>0</td>\n",
       "    </tr>\n",
       "    <tr>\n",
       "      <th>3</th>\n",
       "      <td>[3.594345876808292, 5.582179623660975, 3.53907...</td>\n",
       "      <td>0.9814</td>\n",
       "      <td>0</td>\n",
       "    </tr>\n",
       "    <tr>\n",
       "      <th>4</th>\n",
       "      <td>[3.093598652156071, 5.610850434853599, 4.69888...</td>\n",
       "      <td>0.9792</td>\n",
       "      <td>0</td>\n",
       "    </tr>\n",
       "    <tr>\n",
       "      <th>...</th>\n",
       "      <td>...</td>\n",
       "      <td>...</td>\n",
       "      <td>...</td>\n",
       "    </tr>\n",
       "    <tr>\n",
       "      <th>95</th>\n",
       "      <td>[5.0184131639481855, 5.544936476949287, 5.3710...</td>\n",
       "      <td>0.9808</td>\n",
       "      <td>9</td>\n",
       "    </tr>\n",
       "    <tr>\n",
       "      <th>96</th>\n",
       "      <td>[2.750143520039285, 5.486752097060297, 4.77692...</td>\n",
       "      <td>0.9806</td>\n",
       "      <td>9</td>\n",
       "    </tr>\n",
       "    <tr>\n",
       "      <th>97</th>\n",
       "      <td>[4.434131532669595, 3.3733184536597856, 3.0098...</td>\n",
       "      <td>0.9832</td>\n",
       "      <td>9</td>\n",
       "    </tr>\n",
       "    <tr>\n",
       "      <th>98</th>\n",
       "      <td>[4.203963808450146, 5.08683937715007, 3.466810...</td>\n",
       "      <td>0.9814</td>\n",
       "      <td>9</td>\n",
       "    </tr>\n",
       "    <tr>\n",
       "      <th>99</th>\n",
       "      <td>[4.435384160254763, 4.574782430696977, 4.12188...</td>\n",
       "      <td>0.9814</td>\n",
       "      <td>9</td>\n",
       "    </tr>\n",
       "  </tbody>\n",
       "</table>\n",
       "<p>100 rows × 3 columns</p>\n",
       "</div>"
      ],
      "text/plain": [
       "                                             position  accuracy  time\n",
       "0   [2.715936955600501, 4.179796011227187, 1.58724...    0.9824     0\n",
       "1   [4.81081446481308, 5.711731836486727, 4.231242...    0.9800     0\n",
       "2   [4.679985395715392, 3.454380918441415, 4.87296...    0.9826     0\n",
       "3   [3.594345876808292, 5.582179623660975, 3.53907...    0.9814     0\n",
       "4   [3.093598652156071, 5.610850434853599, 4.69888...    0.9792     0\n",
       "..                                                ...       ...   ...\n",
       "95  [5.0184131639481855, 5.544936476949287, 5.3710...    0.9808     9\n",
       "96  [2.750143520039285, 5.486752097060297, 4.77692...    0.9806     9\n",
       "97  [4.434131532669595, 3.3733184536597856, 3.0098...    0.9832     9\n",
       "98  [4.203963808450146, 5.08683937715007, 3.466810...    0.9814     9\n",
       "99  [4.435384160254763, 4.574782430696977, 4.12188...    0.9814     9\n",
       "\n",
       "[100 rows x 3 columns]"
      ]
     },
     "execution_count": 9,
     "metadata": {},
     "output_type": "execute_result"
    }
   ],
   "source": [
    "pso_data"
   ]
  },
  {
   "cell_type": "code",
   "execution_count": 13,
   "metadata": {},
   "outputs": [
    {
     "data": {
      "text/plain": [
       "25    [5.0184131639481855, 5.544936476949287, 5.3710...\n",
       "Name: position, dtype: object"
      ]
     },
     "execution_count": 13,
     "metadata": {},
     "output_type": "execute_result"
    }
   ],
   "source": [
    "pso_data[pso_data['accuracy'] == pso_data['accuracy'].max()]['position']"
   ]
  },
  {
   "cell_type": "code",
   "execution_count": 10,
   "metadata": {},
   "outputs": [
    {
     "data": {
      "text/plain": [
       "<matplotlib.collections.PathCollection at 0x7fe29a51c310>"
      ]
     },
     "execution_count": 10,
     "metadata": {},
     "output_type": "execute_result"
    },
    {
     "data": {
      "image/png": "[encoded data removed]",
      "text/plain": [
       "<Figure size 640x480 with 1 Axes>"
      ]
     },
     "metadata": {},
     "output_type": "display_data"
    }
   ],
   "source": [
    "plt.scatter(pso_data['time'], pso_data['accuracy'])"
   ]
  }
 ],
 "metadata": {
  "kernelspec": {
   "display_name": "Python 3",
   "language": "python",
   "name": "python3"
  },
  "language_info": {
   "codemirror_mode": {
    "name": "ipython",
    "version": 3
   },
   "file_extension": ".py",
   "mimetype": "text/x-python",
   "name": "python",
   "nbconvert_exporter": "python",
   "pygments_lexer": "ipython3",
   "version": "3.10.10"
  },
  "orig_nbformat": 4,
  "vscode": {
   "interpreter": {
    "hash": "97cc609b13305c559618ec78a438abc56230b9381f827f22d070313b9a1f3777"
   }
  }
 },
 "nbformat": 4,
 "nbformat_minor": 2
}
