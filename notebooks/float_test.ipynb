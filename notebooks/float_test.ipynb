{
 "cells": [
  {
   "cell_type": "markdown",
   "metadata": {},
   "source": [
    "## Test with float precisions\n",
    "inspired by [this link](https://stackoverflow.com/questions/56962100/define-a-custom-float8-in-python-numpy-and-convert-from-to-float16)\n",
    "\n",
    "the float8 have:\n",
    "- 1b sign\n",
    "- 5b exponent\n",
    "- 2b mantisa"
   ]
  },
  {
   "cell_type": "code",
   "execution_count": 1,
   "metadata": {},
   "outputs": [],
   "source": [
    "import numpy as np"
   ]
  },
  {
   "cell_type": "markdown",
   "metadata": {},
   "source": [
    "The starting precision of the network is float32"
   ]
  },
  {
   "cell_type": "code",
   "execution_count": 2,
   "metadata": {},
   "outputs": [
    {
     "data": {
      "text/plain": [
       "array([[6.3  ],\n",
       "       [5.557],\n",
       "       [0.125],\n",
       "       [0.127]], dtype=float32)"
      ]
     },
     "execution_count": 2,
     "metadata": {},
     "output_type": "execute_result"
    }
   ],
   "source": [
    "float32 = np.array([[6.3], [5.557], [0.125], [0.127]], dtype='f4')\n",
    "float32"
   ]
  },
  {
   "cell_type": "markdown",
   "metadata": {},
   "source": [
    "Lowering the precision to float16"
   ]
  },
  {
   "cell_type": "code",
   "execution_count": 3,
   "metadata": {},
   "outputs": [
    {
     "data": {
      "text/plain": [
       "array([6.3  , 5.56 , 0.125, 0.127], dtype=float16)"
      ]
     },
     "execution_count": 3,
     "metadata": {},
     "output_type": "execute_result"
    }
   ],
   "source": [
    "float16 = np.float16(float32.reshape(-1))\n",
    "float16"
   ]
  },
  {
   "cell_type": "markdown",
   "metadata": {},
   "source": [
    "Lowering the precision to float8"
   ]
  },
  {
   "cell_type": "code",
   "execution_count": 4,
   "metadata": {},
   "outputs": [
    {
     "data": {
      "text/plain": [
       "b'F\\x000'"
      ]
     },
     "execution_count": 4,
     "metadata": {},
     "output_type": "execute_result"
    }
   ],
   "source": [
    "float8s = float16.tobytes()[1::2]\n",
    "float8s"
   ]
  },
  {
   "cell_type": "markdown",
   "metadata": {},
   "source": [
    "Precision of float8 in float16"
   ]
  },
  {
   "cell_type": "code",
   "execution_count": 6,
   "metadata": {},
   "outputs": [
    {
     "data": {
      "text/plain": [
       "array([6.   , 0.   , 0.125], dtype=float16)"
      ]
     },
     "execution_count": 6,
     "metadata": {},
     "output_type": "execute_result"
    }
   ],
   "source": [
    "float16p = np.frombuffer(np.array(np.frombuffer(float8s, dtype='u1'), dtype='>u2').tobytes(), dtype='f2')\n",
    "float16p.reshape(float32.shape)"
   ]
  },
  {
   "cell_type": "markdown",
   "metadata": {},
   "source": [
    "Precision of float8 in float32 (through float16)"
   ]
  },
  {
   "cell_type": "code",
   "execution_count": null,
   "metadata": {},
   "outputs": [],
   "source": [
    "float16s = [str(x) for x in float16p]\n",
    "float32p = [float(x) for x in float16s]\n",
    "np.array(float32p, dtype='f4').reshape(float32.shape)"
   ]
  },
  {
   "cell_type": "code",
   "execution_count": null,
   "metadata": {},
   "outputs": [],
   "source": [
    "float16s = [str(x) for x in float16]\n",
    "float32p = [float(x) for x in float16s]\n",
    "np.array(float32p, dtype='f4').reshape(float32.shape)"
   ]
  },
  {
   "cell_type": "markdown",
   "metadata": {},
   "source": [
    "Defining and testing function reflecting upper code"
   ]
  },
  {
   "cell_type": "code",
   "execution_count": null,
   "metadata": {},
   "outputs": [],
   "source": [
    "def reduce_precision(float32:list, type:str='f4') -> list:\n",
    "    \n",
    "    if type == 'f4':\n",
    "        return float32\n",
    "\n",
    "    float16 = np.float16(float32.reshape(-1))\n",
    "\n",
    "    if type == 'f2':\n",
    "        float16s = [str(x) for x in float16]\n",
    "        return np.array([float(x) for x in float16s], dtype='f4').reshape(float32.shape)\n",
    "\n",
    "    if type != 'f1':\n",
    "        raise Exception('reduce_precision err - unknown option')\n",
    "\n",
    "    float16 \n",
    "\n",
    "    float8s = float16.tobytes()[1::2]\n",
    "    list16p = np.frombuffer(np.array(np.frombuffer(float8s, dtype='u1'), dtype='>u2').tobytes(), dtype='f2')\n",
    "    float16s = [str(x) for x in list16p]\n",
    "    return np.array([float(x) for x in float16s], dtype='f4').reshape(float32.shape)\n",
    "    "
   ]
  },
  {
   "cell_type": "code",
   "execution_count": null,
   "metadata": {},
   "outputs": [],
   "source": [
    "array_to_reduce = [[2.3], [2.45555555], [2.5], [2.25], [1.75], [-1.25], [0.125], [0.0625], [0.03125], [0.015625],]"
   ]
  },
  {
   "cell_type": "code",
   "execution_count": null,
   "metadata": {},
   "outputs": [],
   "source": [
    "reduce_precision(np.array(array_to_reduce, dtype='float32'), 'f4')"
   ]
  },
  {
   "cell_type": "code",
   "execution_count": null,
   "metadata": {},
   "outputs": [],
   "source": [
    "reduce_precision(np.array(array_to_reduce, dtype='float32'), 'f2')"
   ]
  },
  {
   "cell_type": "code",
   "execution_count": null,
   "metadata": {},
   "outputs": [],
   "source": [
    "reduce_precision(np.array(array_to_reduce, dtype='float32'), 'f1')"
   ]
  }
 ],
 "metadata": {
  "kernelspec": {
   "display_name": "Python 3.10.8 64-bit",
   "language": "python",
   "name": "python3"
  },
  "language_info": {
   "codemirror_mode": {
    "name": "ipython",
    "version": 3
   },
   "file_extension": ".py",
   "mimetype": "text/x-python",
   "name": "python",
   "nbconvert_exporter": "python",
   "pygments_lexer": "ipython3",
   "version": "3.10.9"
  },
  "orig_nbformat": 4,
  "vscode": {
   "interpreter": {
    "hash": "97cc609b13305c559618ec78a438abc56230b9381f827f22d070313b9a1f3777"
   }
  }
 },
 "nbformat": 4,
 "nbformat_minor": 2
}
