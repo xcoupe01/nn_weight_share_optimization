{
 "cells": [
  {
   "cell_type": "markdown",
   "metadata": {},
   "source": [
    "## Genetic compression search on LeNet-5 "
   ]
  },
  {
   "cell_type": "code",
   "execution_count": 1,
   "metadata": {},
   "outputs": [],
   "source": [
    "import sys\n",
    "sys.path.append('../')"
   ]
  },
  {
   "cell_type": "code",
   "execution_count": 2,
   "metadata": {},
   "outputs": [],
   "source": [
    "import torch\n",
    "import torch.nn as nn\n",
    "import pandas as pd\n",
    "import os\n",
    "import math\n",
    "\n",
    "from data.mnist import MnistDataset\n",
    "from models.lenet.lenet import LeNet5\n",
    "from utils.train import *\n",
    "from utils.weight_sharing import *\n",
    "from utils.genetic import GeneticController, Individual\n",
    "from utils.plot import *\n",
    "from utils.fitness_controller import FitnessController"
   ]
  },
  {
   "attachments": {},
   "cell_type": "markdown",
   "metadata": {},
   "source": [
    "Setting parameters (for the genetic search settings look in `utils.genetic_config.py`)"
   ]
  },
  {
   "cell_type": "code",
   "execution_count": 3,
   "metadata": {},
   "outputs": [],
   "source": [
    "# net train settings\n",
    "LEARNING_RATE = 0.0001\n",
    "BATCH_SIZE = 32\n",
    "N_CLASSES = 10\n",
    "DEVICE = 'cpu'\n",
    "EPOCHS = 100\n",
    "\n",
    "# net save settings \n",
    "NET_PATH = '../models/lenet/saves/lenet_relu.save'\n",
    "NET_TYPE = 'relu'\n",
    "\n",
    "# ga iter count\n",
    "NUM_GENERATIONS = 1\n",
    "NUM_PULATION = 12\n",
    "\n",
    "# ga search settings\n",
    "CHROMOSOME_RANGES = [range(1, 51) for _ in range(5)]\n",
    "\n",
    "# ga save settings\n",
    "SAVE_EVOL_FILE = '../results/test_GA_save.csv'\n",
    "SAVE_EVERY = 1\n",
    "\n",
    "# range optimization settings\n",
    "RANGE_OPTIMIZATION = True\n",
    "RANGE_OPTIMIZATION_TRESHOLD = 0.97\n",
    "RANGE_OPTIMIZATION_FILE = '../results/lenet-relu-layer-perf.csv'\n",
    "\n",
    "# target position\n",
    "TARGET = [1.0, 1.0]\n",
    "LOCK_TARGET = False\n",
    "\n",
    "# range optimization settings\n",
    "SHARE_ORDER = [0, 1, 2, 3, 4]\n",
    "RETRAIN_AMOUNT = None #[0, 0, 0, 0, 0]\n",
    "PREC_REDUCT = None # ['f4', 'f4', 'f4', 'f4', 'f4']\n",
    "CLUST_MOD_FOCUS = None #[5, 5, 5, 5, 5]\n",
    "CLUST_MOD_SPREAD = None #[0, 0, 0, 0, 0]"
   ]
  },
  {
   "cell_type": "markdown",
   "metadata": {},
   "source": [
    "Geting somewhat trained LeNet-5"
   ]
  },
  {
   "cell_type": "code",
   "execution_count": 4,
   "metadata": {},
   "outputs": [],
   "source": [
    "dataset = MnistDataset(BATCH_SIZE, '../data', val_split=0.5)\n",
    "model = LeNet5(N_CLASSES, NET_TYPE)\n",
    "model.to(DEVICE)\n",
    "criterion = nn.CrossEntropyLoss()\n",
    "\n",
    "optimizer = torch.optim.Adam(model.parameters(), lr=LEARNING_RATE)\n",
    "train_settings = [criterion, optimizer, dataset, EPOCHS, DEVICE, 1, True]\n",
    "\n",
    "get_trained(model, NET_PATH, train_settings, DEVICE)\n",
    "\n",
    "before_loss = get_accuracy(model, dataset.test_dl, DEVICE)"
   ]
  },
  {
   "cell_type": "markdown",
   "metadata": {},
   "source": [
    "Setting weight share controller"
   ]
  },
  {
   "cell_type": "code",
   "execution_count": 5,
   "metadata": {},
   "outputs": [
    {
     "name": "stdout",
     "output_type": "stream",
     "text": [
      "layer_name #weights #bias w_locked CR\n",
      "feature_extractor.0 150 6 False 1.00\n",
      "feature_extractor.3 2400 16 False 1.00\n",
      "feature_extractor.6 48000 120 False 1.00\n",
      "classifier.0 10080 84 False 1.00\n",
      "classifier.2 840 10 False 1.00\n",
      "Sum num weights, bias:  61470 236\n",
      "Compression rate 1.00\n"
     ]
    }
   ],
   "source": [
    "lam_opt = lambda mod : torch.optim.Adam(mod.parameters(), lr=LEARNING_RATE)\n",
    "lam_train = lambda opt, epochs : train_net(model, criterion, opt, dataset, epochs, device=DEVICE)\n",
    "lam_test = lambda : get_accuracy(model, dataset.test_dl, DEVICE)\n",
    "\n",
    "ws_controller = WeightShare(model, lam_opt, lam_train, lam_test)\n",
    "ws_controller.set_reset()\n",
    "\n",
    "ws_controller.print_layers_info()"
   ]
  },
  {
   "cell_type": "markdown",
   "metadata": {},
   "source": [
    "Defining fitness function"
   ]
  },
  {
   "cell_type": "code",
   "execution_count": 6,
   "metadata": {},
   "outputs": [],
   "source": [
    "def fitness_vals_fc(individual:Individual):\n",
    "    # reset the net\n",
    "    ws_controller.reset()\n",
    "    \n",
    "    # share weigts by particle\n",
    "    if individual.data is None:\n",
    "        individual.data = ws_controller.share(individual.chromosome, SHARE_ORDER, RETRAIN_AMOUNT, PREC_REDUCT, CLUST_MOD_FOCUS, CLUST_MOD_SPREAD)\n",
    "    \n",
    "    return [individual.data['accuracy'], individual.data['compression']]\n",
    "\n",
    "def fit_from_vals(fit_vals, targ_vals, individual:Individual = None):\n",
    "\n",
    "    result = None\n",
    "\n",
    "    # compute fitness\n",
    "    if fit_vals[0] <= 0.95:\n",
    "        result = fit_vals[0]\n",
    "\n",
    "    else:\n",
    "        result = 1 / math.sqrt(pow(1 - ((fit_vals[0] - 0.9) * (1/0.1)), 2) + pow(1 - (fit_vals[1]/targ_vals[1]), 2))\n",
    "\n",
    "    if individual is not None:\n",
    "        individual.fitness = result\n",
    "    \n",
    "    return result\n"
   ]
  },
  {
   "cell_type": "markdown",
   "metadata": {},
   "source": [
    "Defining logging function and elit dealing function"
   ]
  },
  {
   "cell_type": "code",
   "execution_count": 7,
   "metadata": {},
   "outputs": [],
   "source": [
    "data = {\n",
    "    'generation': [],\n",
    "    'chromosome': [],\n",
    "    'accuracy': [],\n",
    "    'accuracy_loss': [],\n",
    "    'compression': [],\n",
    "    'share_t': [],\n",
    "    'train_t': [],\n",
    "    'acc_t': []\n",
    "}\n",
    "\n",
    "data_types = {\n",
    "    'generation' : 'uint8',\n",
    "    'accuracy': 'float32',\n",
    "    'accuracy_loss': 'float32',\n",
    "    'compression': 'float32',\n",
    "    'share_t': 'float32',\n",
    "    'train_t': 'float32',\n",
    "    'acc_t': 'float32'\n",
    "}\n",
    "\n",
    "evol_data = pd.read_csv(SAVE_EVOL_FILE).astype(data_types) if os.path.exists(SAVE_EVOL_FILE) else pd.DataFrame(data).astype(data_types)\n",
    "\n",
    "def logger_fc(gen_cont:GeneticController):\n",
    "    global evol_data\n",
    "\n",
    "    new_data = copy.deepcopy(data)\n",
    "\n",
    "    for indiv in gen_cont.population:\n",
    "\n",
    "        new_data['generation'].append(gen_cont.generation)\n",
    "        new_data['chromosome'].append(indiv.chromosome)\n",
    "        new_data['accuracy'].append(indiv.data['accuracy'])\n",
    "        new_data['accuracy_loss'].append(before_loss - indiv.data['accuracy'])\n",
    "        new_data['compression'].append(indiv.data['compression'])\n",
    "        new_data['share_t'].append(indiv.data['times']['share'])\n",
    "        new_data['train_t'].append(indiv.data['times']['train'])\n",
    "        new_data['acc_t'].append(indiv.data['times']['test'])\n",
    "\n",
    "    # saving progress\n",
    "    evol_data = evol_data.append(pd.DataFrame(new_data).astype(data_types))\n",
    "    if gen_cont.generation % SAVE_EVERY == SAVE_EVERY - 1:\n",
    "        evol_data.reset_index(drop=True, inplace=True)\n",
    "        os.makedirs(os.path.dirname(SAVE_EVOL_FILE), exist_ok=True)\n",
    "        evol_data.to_csv(SAVE_EVOL_FILE, index=False)\n",
    "    \n",
    "def deal_elit(population):\n",
    "    for individual in population:\n",
    "        if individual.data is not None:\n",
    "            individual.data['times'] = {\n",
    "                'share': 0,\n",
    "                'train': 0,\n",
    "                'test': 0\n",
    "            }\n"
   ]
  },
  {
   "cell_type": "markdown",
   "metadata": {},
   "source": [
    "Setting ranges with optimization"
   ]
  },
  {
   "cell_type": "code",
   "execution_count": 8,
   "metadata": {},
   "outputs": [
    {
     "name": "stdout",
     "output_type": "stream",
     "text": [
      "49\n",
      "47\n",
      "47\n",
      "48\n",
      "47\n"
     ]
    }
   ],
   "source": [
    "lam_test_inp = lambda _ : get_accuracy(model, dataset.test_dl, DEVICE)\n",
    "\n",
    "if RANGE_OPTIMIZATION:\n",
    "    CHROMOSOME_RANGES = ws_controller.get_optimized_layer_ranges(CHROMOSOME_RANGES, lam_test_inp, RANGE_OPTIMIZATION_TRESHOLD, \n",
    "        savefile=RANGE_OPTIMIZATION_FILE)\n",
    "\n",
    "for c_range in CHROMOSOME_RANGES:\n",
    "    print(len(c_range))"
   ]
  },
  {
   "cell_type": "markdown",
   "metadata": {},
   "source": [
    "Run evolution"
   ]
  },
  {
   "cell_type": "code",
   "execution_count": 15,
   "metadata": {},
   "outputs": [
    {
     "name": "stdout",
     "output_type": "stream",
     "text": [
      "Fitness target update to [1.         9.71589375]\n",
      "Generation 0/1 (7) evaluated, best fitness 4.48122379316066\n",
      "Generation 1/1 (8) evaluated, best fitness 4.481224949206193\n"
     ]
    },
    {
     "data": {
      "text/plain": [
       "[15, 16, 8, 4, 24]"
      ]
     },
     "execution_count": 15,
     "metadata": {},
     "output_type": "execute_result"
    }
   ],
   "source": [
    "fit_controll = FitnessController(TARGET, fitness_vals_fc, fit_from_vals, target_max_offset=1, lock=LOCK_TARGET)\n",
    "genetic = GeneticController(CHROMOSOME_RANGES, NUM_PULATION, fit_controll)\n",
    "\n",
    "if evol_data.size != 0:\n",
    "    genetic.load_from_pd(evol_data, verbose=True)\n",
    "\n",
    "genetic.run(NUM_GENERATIONS, logger_fc, deal_elit=deal_elit, verbose=True)"
   ]
  },
  {
   "cell_type": "markdown",
   "metadata": {},
   "source": [
    "See output"
   ]
  },
  {
   "cell_type": "code",
   "execution_count": 16,
   "metadata": {},
   "outputs": [
    {
     "data": {
      "text/html": [
       "<div>\n",
       "<style scoped>\n",
       "    .dataframe tbody tr th:only-of-type {\n",
       "        vertical-align: middle;\n",
       "    }\n",
       "\n",
       "    .dataframe tbody tr th {\n",
       "        vertical-align: top;\n",
       "    }\n",
       "\n",
       "    .dataframe thead th {\n",
       "        text-align: right;\n",
       "    }\n",
       "</style>\n",
       "<table border=\"1\" class=\"dataframe\">\n",
       "  <thead>\n",
       "    <tr style=\"text-align: right;\">\n",
       "      <th></th>\n",
       "      <th>generation</th>\n",
       "      <th>chromosome</th>\n",
       "      <th>accuracy</th>\n",
       "      <th>accuracy_loss</th>\n",
       "      <th>compression</th>\n",
       "      <th>share_t</th>\n",
       "      <th>train_t</th>\n",
       "      <th>acc_t</th>\n",
       "    </tr>\n",
       "  </thead>\n",
       "  <tbody>\n",
       "    <tr>\n",
       "      <th>0</th>\n",
       "      <td>0</td>\n",
       "      <td>[15, 16, 6, 8, 24]</td>\n",
       "      <td>0.9822</td>\n",
       "      <td>0.0024</td>\n",
       "      <td>7.652131</td>\n",
       "      <td>0.559155</td>\n",
       "      <td>0.0</td>\n",
       "      <td>3.327932</td>\n",
       "    </tr>\n",
       "    <tr>\n",
       "      <th>1</th>\n",
       "      <td>0</td>\n",
       "      <td>[17, 11, 46, 4, 36]</td>\n",
       "      <td>0.9814</td>\n",
       "      <td>0.0032</td>\n",
       "      <td>7.310512</td>\n",
       "      <td>1.645924</td>\n",
       "      <td>0.0</td>\n",
       "      <td>3.281019</td>\n",
       "    </tr>\n",
       "    <tr>\n",
       "      <th>2</th>\n",
       "      <td>0</td>\n",
       "      <td>[41, 7, 16, 25, 23]</td>\n",
       "      <td>0.9846</td>\n",
       "      <td>0.0000</td>\n",
       "      <td>6.370181</td>\n",
       "      <td>1.022310</td>\n",
       "      <td>0.0</td>\n",
       "      <td>3.790564</td>\n",
       "    </tr>\n",
       "    <tr>\n",
       "      <th>3</th>\n",
       "      <td>0</td>\n",
       "      <td>[10, 21, 21, 34, 17]</td>\n",
       "      <td>0.9852</td>\n",
       "      <td>-0.0006</td>\n",
       "      <td>5.635660</td>\n",
       "      <td>1.291350</td>\n",
       "      <td>0.0</td>\n",
       "      <td>3.474000</td>\n",
       "    </tr>\n",
       "    <tr>\n",
       "      <th>4</th>\n",
       "      <td>0</td>\n",
       "      <td>[29, 30, 9, 16, 48]</td>\n",
       "      <td>0.9840</td>\n",
       "      <td>0.0006</td>\n",
       "      <td>5.656215</td>\n",
       "      <td>0.882852</td>\n",
       "      <td>0.0</td>\n",
       "      <td>3.449768</td>\n",
       "    </tr>\n",
       "    <tr>\n",
       "      <th>...</th>\n",
       "      <td>...</td>\n",
       "      <td>...</td>\n",
       "      <td>...</td>\n",
       "      <td>...</td>\n",
       "      <td>...</td>\n",
       "      <td>...</td>\n",
       "      <td>...</td>\n",
       "      <td>...</td>\n",
       "    </tr>\n",
       "    <tr>\n",
       "      <th>91</th>\n",
       "      <td>7</td>\n",
       "      <td>[10, 16, 28, 35, 16]</td>\n",
       "      <td>0.9842</td>\n",
       "      <td>0.0004</td>\n",
       "      <td>6.193501</td>\n",
       "      <td>1.411774</td>\n",
       "      <td>0.0</td>\n",
       "      <td>4.073419</td>\n",
       "    </tr>\n",
       "    <tr>\n",
       "      <th>92</th>\n",
       "      <td>7</td>\n",
       "      <td>[12, 50, 6, 34, 35]</td>\n",
       "      <td>0.9840</td>\n",
       "      <td>0.0006</td>\n",
       "      <td>5.891103</td>\n",
       "      <td>0.897862</td>\n",
       "      <td>0.0</td>\n",
       "      <td>3.859292</td>\n",
       "    </tr>\n",
       "    <tr>\n",
       "      <th>93</th>\n",
       "      <td>7</td>\n",
       "      <td>[18, 47, 6, 42, 24]</td>\n",
       "      <td>0.9834</td>\n",
       "      <td>0.0012</td>\n",
       "      <td>5.853007</td>\n",
       "      <td>0.907816</td>\n",
       "      <td>0.0</td>\n",
       "      <td>3.586819</td>\n",
       "    </tr>\n",
       "    <tr>\n",
       "      <th>94</th>\n",
       "      <td>7</td>\n",
       "      <td>[15, 40, 6, 35, 41]</td>\n",
       "      <td>0.9826</td>\n",
       "      <td>0.0020</td>\n",
       "      <td>5.795663</td>\n",
       "      <td>0.879921</td>\n",
       "      <td>0.0</td>\n",
       "      <td>3.547946</td>\n",
       "    </tr>\n",
       "    <tr>\n",
       "      <th>95</th>\n",
       "      <td>7</td>\n",
       "      <td>[10, 50, 32, 34, 16]</td>\n",
       "      <td>0.9854</td>\n",
       "      <td>-0.0008</td>\n",
       "      <td>5.626258</td>\n",
       "      <td>1.481552</td>\n",
       "      <td>0.0</td>\n",
       "      <td>3.532324</td>\n",
       "    </tr>\n",
       "  </tbody>\n",
       "</table>\n",
       "<p>96 rows × 8 columns</p>\n",
       "</div>"
      ],
      "text/plain": [
       "    generation            chromosome  accuracy  accuracy_loss  compression  \\\n",
       "0            0    [15, 16, 6, 8, 24]    0.9822         0.0024     7.652131   \n",
       "1            0   [17, 11, 46, 4, 36]    0.9814         0.0032     7.310512   \n",
       "2            0   [41, 7, 16, 25, 23]    0.9846         0.0000     6.370181   \n",
       "3            0  [10, 21, 21, 34, 17]    0.9852        -0.0006     5.635660   \n",
       "4            0   [29, 30, 9, 16, 48]    0.9840         0.0006     5.656215   \n",
       "..         ...                   ...       ...            ...          ...   \n",
       "91           7  [10, 16, 28, 35, 16]    0.9842         0.0004     6.193501   \n",
       "92           7   [12, 50, 6, 34, 35]    0.9840         0.0006     5.891103   \n",
       "93           7   [18, 47, 6, 42, 24]    0.9834         0.0012     5.853007   \n",
       "94           7   [15, 40, 6, 35, 41]    0.9826         0.0020     5.795663   \n",
       "95           7  [10, 50, 32, 34, 16]    0.9854        -0.0008     5.626258   \n",
       "\n",
       "     share_t  train_t     acc_t  \n",
       "0   0.559155      0.0  3.327932  \n",
       "1   1.645924      0.0  3.281019  \n",
       "2   1.022310      0.0  3.790564  \n",
       "3   1.291350      0.0  3.474000  \n",
       "4   0.882852      0.0  3.449768  \n",
       "..       ...      ...       ...  \n",
       "91  1.411774      0.0  4.073419  \n",
       "92  0.897862      0.0  3.859292  \n",
       "93  0.907816      0.0  3.586819  \n",
       "94  0.879921      0.0  3.547946  \n",
       "95  1.481552      0.0  3.532324  \n",
       "\n",
       "[96 rows x 8 columns]"
      ]
     },
     "execution_count": 16,
     "metadata": {},
     "output_type": "execute_result"
    }
   ],
   "source": [
    "evol_data"
   ]
  },
  {
   "cell_type": "markdown",
   "metadata": {},
   "source": [
    "Plotting data"
   ]
  },
  {
   "cell_type": "code",
   "execution_count": 17,
   "metadata": {},
   "outputs": [
    {
     "data": {
      "text/plain": [
       "Text(0.5, 1.0, 'Genetic Algorithm on LeNet-5')"
      ]
     },
     "execution_count": 17,
     "metadata": {},
     "output_type": "execute_result"
    },
    {
     "data": {
      "image/png": "[encoded data removed]",
      "text/plain": [
       "<Figure size 1800x1000 with 1 Axes>"
      ]
     },
     "metadata": {},
     "output_type": "display_data"
    }
   ],
   "source": [
    "plot_alcr(evol_data)\n",
    "plt.title('Genetic Algorithm on LeNet-5')"
   ]
  }
 ],
 "metadata": {
  "kernelspec": {
   "display_name": "Python 3.10.8 64-bit",
   "language": "python",
   "name": "python3"
  },
  "language_info": {
   "codemirror_mode": {
    "name": "ipython",
    "version": 3
   },
   "file_extension": ".py",
   "mimetype": "text/x-python",
   "name": "python",
   "nbconvert_exporter": "python",
   "pygments_lexer": "ipython3",
   "version": "3.10.9"
  },
  "orig_nbformat": 4,
  "vscode": {
   "interpreter": {
    "hash": "97cc609b13305c559618ec78a438abc56230b9381f827f22d070313b9a1f3777"
   }
  }
 },
 "nbformat": 4,
 "nbformat_minor": 2
}
