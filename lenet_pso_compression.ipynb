{
 "cells": [
  {
   "cell_type": "markdown",
   "metadata": {},
   "source": [
    "## PSO compression search on LeNet-5 "
   ]
  },
  {
   "cell_type": "code",
   "execution_count": 1,
   "metadata": {},
   "outputs": [],
   "source": [
    "import torch\n",
    "import torch.nn as nn\n",
    "import pandas as pd\n",
    "import os\n",
    "import math\n",
    "\n",
    "from data.mnist import MnistDataset\n",
    "from models.lenet.lenet import LeNet5\n",
    "from utils.train import *\n",
    "from utils.weight_sharing import *\n",
    "from utils.pso import PSOController\n",
    "from utils.plot import *"
   ]
  },
  {
   "cell_type": "markdown",
   "metadata": {},
   "source": [
    "Setting some global parameters"
   ]
  },
  {
   "cell_type": "code",
   "execution_count": 2,
   "metadata": {},
   "outputs": [],
   "source": [
    "LEARNING_RATE = 0.0001\n",
    "BATCH_SIZE = 32\n",
    "N_CLASSES = 10\n",
    "DEVICE = None\n",
    "EPOCHS = 100\n",
    "\n",
    "NET_PATH = './models/lenet/saves/lenet.save'\n",
    "\n",
    "ACC_MULTIPLIER = 4\n",
    "CR_MULTIPLIER = 1\n",
    "\n",
    "NUM_ITERATIONS = 1\n",
    "NUM_PARTICLES = 20\n",
    "\n",
    "SAVE_PSO_FILE = './results/test_PSO_save.csv'\n",
    "SAVE_EVERY = 1\n",
    "\n",
    "RANGE_OPTIMIZATION = True"
   ]
  },
  {
   "cell_type": "markdown",
   "metadata": {},
   "source": [
    "Geting somewhat trained LeNet-5"
   ]
  },
  {
   "cell_type": "code",
   "execution_count": 3,
   "metadata": {},
   "outputs": [],
   "source": [
    "dataset = MnistDataset(BATCH_SIZE, './data', val_split=0.5)\n",
    "model = LeNet5(N_CLASSES)\n",
    "criterion = nn.CrossEntropyLoss()\n",
    "\n",
    "optimizer = torch.optim.Adam(model.parameters(), lr=LEARNING_RATE)\n",
    "train_settings = [criterion, optimizer, dataset, EPOCHS, DEVICE, 1, True]\n",
    "\n",
    "get_trained(model, NET_PATH, train_settings)\n",
    "\n",
    "before_loss = get_accuracy(model, dataset.test_dl, DEVICE)"
   ]
  },
  {
   "cell_type": "code",
   "execution_count": 4,
   "metadata": {},
   "outputs": [
    {
     "name": "stdout",
     "output_type": "stream",
     "text": [
      "layer_name #weights #bias w_locked CR\n",
      "feature_extractor.0 150 6 False 1.00\n",
      "feature_extractor.3 2400 16 False 1.00\n",
      "feature_extractor.6 48000 120 False 1.00\n",
      "classifier.0 10080 84 False 1.00\n",
      "classifier.2 840 10 False 1.00\n",
      "Sum num weights, bias:  61470 236\n",
      "Compression rate 1.00\n"
     ]
    }
   ],
   "source": [
    "lam_opt = lambda mod : torch.optim.Adam(mod.parameters(), lr=LEARNING_RATE)\n",
    "lam_train = lambda opt, epochs : train_net(model, criterion, opt, dataset, epochs, device=DEVICE)\n",
    "lam_test = lambda : get_accuracy(model, dataset.test_dl, DEVICE)\n",
    "\n",
    "ws_controller = WeightShare(model, lam_opt, lam_train, lam_test)\n",
    "\n",
    "ws_controller.print_layers_info()"
   ]
  },
  {
   "cell_type": "markdown",
   "metadata": {},
   "source": [
    "Defining fitness function"
   ]
  },
  {
   "cell_type": "code",
   "execution_count": 5,
   "metadata": {},
   "outputs": [],
   "source": [
    "particle_representation_ranges = [range(1, 21) for _ in range(5)]\n",
    "particle_max_velocity = [2.5 for _ in range(5)]\n",
    "\n",
    "share_order = [0, 1, 2, 3, 4]\n",
    "retrain_amount = [0, 0, 0, 0, 0]\n",
    "\n",
    "def fitness_fc(particle):\n",
    "    # reset the net\n",
    "    get_trained(model, NET_PATH, train_settings)\n",
    "    for layer in ws_controller.model_layers:\n",
    "        layer.weight.requires_grad = True\n",
    "    \n",
    "    # share weigts by particle\n",
    "\n",
    "    particle.data = ws_controller.share(particle.representation, share_order, retrain_amount)\n",
    "\n",
    "    if particle.data['accuracy'] <= 0.95:\n",
    "        #return ACC_MULTIPLIER * math.log(1/(1 - particle.data['accuracy']))\n",
    "        return particle.data['accuracy']\n",
    "\n",
    "    #return ACC_MULTIPLIER * particle.data['accuracy'] + CR_MULTIPLIER * math.log(particle.data['compression'])\n",
    "    #return math.log(1/(1 - particle.data['accuracy'])) * math.log(particle.data['compression'])\n",
    "    return 1 / math.sqrt(pow(1 - ((particle.data['accuracy'] - 0.9) * (1/0.1)), 2) + pow(1 - (particle.data['compression']/14), 2))"
   ]
  },
  {
   "cell_type": "code",
   "execution_count": 6,
   "metadata": {},
   "outputs": [],
   "source": [
    "data = {\n",
    "    'time': [],\n",
    "    'fitness': [],\n",
    "    'position': [],\n",
    "    'representation': [],\n",
    "    'velocity': [],\n",
    "    'accuracy': [],\n",
    "    'accuracy_loss': [],\n",
    "    'compression': [],\n",
    "    'share_t': [],\n",
    "    'train_t': [],\n",
    "    'acc_t': []\n",
    "}\n",
    "\n",
    "data_types = {\n",
    "    'time' : 'uint8',\n",
    "    'fitness': 'float32',\n",
    "    'accuracy': 'float32',\n",
    "    'accuracy_loss': 'float32',\n",
    "    'compression': 'float32',\n",
    "    'share_t': 'float32',\n",
    "    'train_t': 'float32',\n",
    "    'acc_t': 'float32'\n",
    "}\n",
    "\n",
    "pso_data = pd.read_csv(SAVE_PSO_FILE).astype(data_types) if os.path.exists(SAVE_PSO_FILE) else pd.DataFrame(data).astype(data_types)\n",
    "\n",
    "def logger_fc(pso_cont:PSOController):\n",
    "    global pso_data\n",
    "\n",
    "    new_data = copy.deepcopy(data)\n",
    "\n",
    "    for particle in pso_cont.swarm:\n",
    "\n",
    "        new_data['time'].append(pso_cont.time)\n",
    "        new_data['fitness'].append(particle.current_fit)\n",
    "        new_data['position'].append(particle.position)\n",
    "        new_data['representation'].append(particle.representation)\n",
    "        new_data['velocity'].append(particle.velocity)\n",
    "        new_data['accuracy'].append(particle.data['accuracy'])\n",
    "        new_data['accuracy_loss'].append(before_loss - particle.data['accuracy'])\n",
    "        new_data['compression'].append(particle.data['compression'])\n",
    "        new_data['share_t'].append(particle.data['times']['share'])\n",
    "        new_data['train_t'].append(particle.data['times']['train'])\n",
    "        new_data['acc_t'].append(particle.data['times']['test'])\n",
    "\n",
    "    # saving progress\n",
    "    pso_data = pso_data.append(pd.DataFrame(new_data).astype(data_types))\n",
    "    if pso_cont.time % SAVE_EVERY == SAVE_EVERY - 1:\n",
    "        pso_data.reset_index(drop=True, inplace=True)\n",
    "        os.makedirs(os.path.dirname(SAVE_PSO_FILE), exist_ok=True)\n",
    "        pso_data.to_csv(SAVE_PSO_FILE, index=False)"
   ]
  },
  {
   "cell_type": "markdown",
   "metadata": {},
   "source": [
    "Setting ranges with optimization"
   ]
  },
  {
   "cell_type": "code",
   "execution_count": 7,
   "metadata": {},
   "outputs": [
    {
     "data": {
      "text/plain": [
       "[[2, 3, 4, 5, 6, 7, 8, 9, 10, 11, 12, 13, 14, 15, 16, 17, 18, 19, 20],\n",
       " [4, 5, 6, 7, 8, 9, 10, 11, 12, 13, 14, 15, 16, 17, 18, 19, 20],\n",
       " [4, 5, 6, 7, 8, 9, 10, 11, 12, 13, 14, 15, 16, 17, 18, 19, 20],\n",
       " [3, 4, 5, 6, 7, 8, 9, 10, 11, 12, 13, 14, 15, 16, 17, 18, 19, 20],\n",
       " [4, 5, 6, 7, 8, 9, 10, 11, 12, 13, 14, 15, 16, 17, 18, 19, 20]]"
      ]
     },
     "execution_count": 7,
     "metadata": {},
     "output_type": "execute_result"
    }
   ],
   "source": [
    "particle_repr_ranges = [range(1, 21) for _ in range(5)]\n",
    "\n",
    "lam_test_inp = lambda _ : get_accuracy(model, dataset.test_dl, DEVICE)\n",
    "\n",
    "if RANGE_OPTIMIZATION:\n",
    "    particle_repr_ranges = ws_controller.get_optimized_layer_ranges(particle_repr_ranges, lam_test_inp, 0.97, savefile='./results/lenet-layer-perf.csv')\n",
    "\n",
    "particle_repr_ranges"
   ]
  },
  {
   "cell_type": "markdown",
   "metadata": {},
   "source": [
    "Running the search"
   ]
  },
  {
   "cell_type": "code",
   "execution_count": 8,
   "metadata": {},
   "outputs": [
    {
     "name": "stdout",
     "output_type": "stream",
     "text": [
      "Time 0/1 (20) best fitness 4.072225093841553\n",
      "Time 1/1 (21) best fitness 4.072225093841553\n"
     ]
    },
    {
     "data": {
      "text/plain": [
       "[2, 6, 9, 14, 4]"
      ]
     },
     "execution_count": 8,
     "metadata": {},
     "output_type": "execute_result"
    }
   ],
   "source": [
    "pso = PSOController(NUM_PARTICLES, particle_repr_ranges, particle_max_velocity, fitness_fc, 0.6)\n",
    "\n",
    "if pso_data.size != 0:\n",
    "    pso.load_from_pd(pso_data)\n",
    "\n",
    "pso.run(NUM_ITERATIONS, logger_fc, verbose=True)"
   ]
  },
  {
   "cell_type": "code",
   "execution_count": 9,
   "metadata": {},
   "outputs": [
    {
     "data": {
      "text/html": [
       "<div>\n",
       "<style scoped>\n",
       "    .dataframe tbody tr th:only-of-type {\n",
       "        vertical-align: middle;\n",
       "    }\n",
       "\n",
       "    .dataframe tbody tr th {\n",
       "        vertical-align: top;\n",
       "    }\n",
       "\n",
       "    .dataframe thead th {\n",
       "        text-align: right;\n",
       "    }\n",
       "</style>\n",
       "<table border=\"1\" class=\"dataframe\">\n",
       "  <thead>\n",
       "    <tr style=\"text-align: right;\">\n",
       "      <th></th>\n",
       "      <th>time</th>\n",
       "      <th>fitness</th>\n",
       "      <th>position</th>\n",
       "      <th>representation</th>\n",
       "      <th>velocity</th>\n",
       "      <th>accuracy</th>\n",
       "      <th>accuracy_loss</th>\n",
       "      <th>compression</th>\n",
       "      <th>share_t</th>\n",
       "      <th>train_t</th>\n",
       "      <th>acc_t</th>\n",
       "    </tr>\n",
       "  </thead>\n",
       "  <tbody>\n",
       "    <tr>\n",
       "      <th>0</th>\n",
       "      <td>0</td>\n",
       "      <td>1.689468</td>\n",
       "      <td>[0.48705104785490483, 2.215792390795893, 5.315...</td>\n",
       "      <td>[16, 17, 20, 19, 14]</td>\n",
       "      <td>[-0.07158809749493444, -0.2473895748715713, -0...</td>\n",
       "      <td>0.9856</td>\n",
       "      <td>-0.0010</td>\n",
       "      <td>5.962336</td>\n",
       "      <td>0.944295</td>\n",
       "      <td>0.0</td>\n",
       "      <td>3.415709</td>\n",
       "    </tr>\n",
       "    <tr>\n",
       "      <th>1</th>\n",
       "      <td>0</td>\n",
       "      <td>2.550231</td>\n",
       "      <td>[0.10506258222266507, 2.173855749528714, 6.570...</td>\n",
       "      <td>[4, 12, 5, 14, 8]</td>\n",
       "      <td>[-0.3091696847147869, 0.021953049199235422, 1....</td>\n",
       "      <td>0.9790</td>\n",
       "      <td>0.0056</td>\n",
       "      <td>9.363926</td>\n",
       "      <td>0.393168</td>\n",
       "      <td>0.0</td>\n",
       "      <td>3.356598</td>\n",
       "    </tr>\n",
       "    <tr>\n",
       "      <th>2</th>\n",
       "      <td>0</td>\n",
       "      <td>2.411282</td>\n",
       "      <td>[0.3782829920157463, 2.396956614668304, 5.1440...</td>\n",
       "      <td>[7, 11, 4, 16, 9]</td>\n",
       "      <td>[-0.20696450810963457, 0.11397413797197263, -0...</td>\n",
       "      <td>0.9772</td>\n",
       "      <td>0.0074</td>\n",
       "      <td>9.150131</td>\n",
       "      <td>0.418104</td>\n",
       "      <td>0.0</td>\n",
       "      <td>3.473027</td>\n",
       "    </tr>\n",
       "    <tr>\n",
       "      <th>3</th>\n",
       "      <td>0</td>\n",
       "      <td>2.086391</td>\n",
       "      <td>[0.3249619683450692, 2.5087020229011063, 5.923...</td>\n",
       "      <td>[9, 7, 14, 15, 15]</td>\n",
       "      <td>[0.14008735840368733, 0.2542965571113335, 1.00...</td>\n",
       "      <td>0.9844</td>\n",
       "      <td>0.0002</td>\n",
       "      <td>7.655218</td>\n",
       "      <td>0.687930</td>\n",
       "      <td>0.0</td>\n",
       "      <td>3.434410</td>\n",
       "    </tr>\n",
       "    <tr>\n",
       "      <th>4</th>\n",
       "      <td>0</td>\n",
       "      <td>2.400351</td>\n",
       "      <td>[0.3231396639711172, 2.138681334456269, 6.3962...</td>\n",
       "      <td>[12, 18, 10, 4, 8]</td>\n",
       "      <td>[-0.18122640200853707, 0.028082169736885904, 1...</td>\n",
       "      <td>0.9806</td>\n",
       "      <td>0.0040</td>\n",
       "      <td>8.838490</td>\n",
       "      <td>0.526406</td>\n",
       "      <td>0.0</td>\n",
       "      <td>3.339850</td>\n",
       "    </tr>\n",
       "    <tr>\n",
       "      <th>...</th>\n",
       "      <td>...</td>\n",
       "      <td>...</td>\n",
       "      <td>...</td>\n",
       "      <td>...</td>\n",
       "      <td>...</td>\n",
       "      <td>...</td>\n",
       "      <td>...</td>\n",
       "      <td>...</td>\n",
       "      <td>...</td>\n",
       "      <td>...</td>\n",
       "      <td>...</td>\n",
       "    </tr>\n",
       "    <tr>\n",
       "      <th>435</th>\n",
       "      <td>21</td>\n",
       "      <td>3.896293</td>\n",
       "      <td>[0.4806121713942542, 2.2533055884204276, 4.648...</td>\n",
       "      <td>[2, 6, 8, 14, 4]</td>\n",
       "      <td>[0.036170634538342204, -0.09685605076869454, -...</td>\n",
       "      <td>0.9750</td>\n",
       "      <td>0.0096</td>\n",
       "      <td>13.187112</td>\n",
       "      <td>0.516554</td>\n",
       "      <td>0.0</td>\n",
       "      <td>3.413884</td>\n",
       "    </tr>\n",
       "    <tr>\n",
       "      <th>436</th>\n",
       "      <td>21</td>\n",
       "      <td>3.781078</td>\n",
       "      <td>[0.5547501614849062, 2.115191722427242, 4.7081...</td>\n",
       "      <td>[2, 6, 8, 15, 4]</td>\n",
       "      <td>[0.4057130761120116, -0.04510850401064511, -0....</td>\n",
       "      <td>0.9742</td>\n",
       "      <td>0.0104</td>\n",
       "      <td>13.185719</td>\n",
       "      <td>0.554315</td>\n",
       "      <td>0.0</td>\n",
       "      <td>3.438506</td>\n",
       "    </tr>\n",
       "    <tr>\n",
       "      <th>437</th>\n",
       "      <td>21</td>\n",
       "      <td>3.896293</td>\n",
       "      <td>[0.5417811117450846, 2.235778589807076, 4.9717...</td>\n",
       "      <td>[2, 6, 8, 14, 4]</td>\n",
       "      <td>[-0.008214575720585537, -0.1502473576544341, 0...</td>\n",
       "      <td>0.9750</td>\n",
       "      <td>0.0096</td>\n",
       "      <td>13.187112</td>\n",
       "      <td>0.518092</td>\n",
       "      <td>0.0</td>\n",
       "      <td>3.378943</td>\n",
       "    </tr>\n",
       "    <tr>\n",
       "      <th>438</th>\n",
       "      <td>21</td>\n",
       "      <td>3.837352</td>\n",
       "      <td>[0.5636932514138256, 2.084663990754806, 4.1139...</td>\n",
       "      <td>[2, 6, 8, 16, 4]</td>\n",
       "      <td>[0.0236955700539367, -0.01171416826292973, -0....</td>\n",
       "      <td>0.9746</td>\n",
       "      <td>0.0100</td>\n",
       "      <td>13.184329</td>\n",
       "      <td>0.550472</td>\n",
       "      <td>0.0</td>\n",
       "      <td>3.408816</td>\n",
       "    </tr>\n",
       "    <tr>\n",
       "      <th>439</th>\n",
       "      <td>21</td>\n",
       "      <td>4.072225</td>\n",
       "      <td>[0.7340872085045158, 2.025594187127025, 5.3631...</td>\n",
       "      <td>[2, 6, 9, 14, 4]</td>\n",
       "      <td>[-0.018236473050442514, -1.0903682782997828, 0...</td>\n",
       "      <td>0.9774</td>\n",
       "      <td>0.0072</td>\n",
       "      <td>12.655223</td>\n",
       "      <td>0.545956</td>\n",
       "      <td>0.0</td>\n",
       "      <td>3.412848</td>\n",
       "    </tr>\n",
       "  </tbody>\n",
       "</table>\n",
       "<p>440 rows × 11 columns</p>\n",
       "</div>"
      ],
      "text/plain": [
       "     time   fitness                                           position  \\\n",
       "0       0  1.689468  [0.48705104785490483, 2.215792390795893, 5.315...   \n",
       "1       0  2.550231  [0.10506258222266507, 2.173855749528714, 6.570...   \n",
       "2       0  2.411282  [0.3782829920157463, 2.396956614668304, 5.1440...   \n",
       "3       0  2.086391  [0.3249619683450692, 2.5087020229011063, 5.923...   \n",
       "4       0  2.400351  [0.3231396639711172, 2.138681334456269, 6.3962...   \n",
       "..    ...       ...                                                ...   \n",
       "435    21  3.896293  [0.4806121713942542, 2.2533055884204276, 4.648...   \n",
       "436    21  3.781078  [0.5547501614849062, 2.115191722427242, 4.7081...   \n",
       "437    21  3.896293  [0.5417811117450846, 2.235778589807076, 4.9717...   \n",
       "438    21  3.837352  [0.5636932514138256, 2.084663990754806, 4.1139...   \n",
       "439    21  4.072225  [0.7340872085045158, 2.025594187127025, 5.3631...   \n",
       "\n",
       "           representation                                           velocity  \\\n",
       "0    [16, 17, 20, 19, 14]  [-0.07158809749493444, -0.2473895748715713, -0...   \n",
       "1       [4, 12, 5, 14, 8]  [-0.3091696847147869, 0.021953049199235422, 1....   \n",
       "2       [7, 11, 4, 16, 9]  [-0.20696450810963457, 0.11397413797197263, -0...   \n",
       "3      [9, 7, 14, 15, 15]  [0.14008735840368733, 0.2542965571113335, 1.00...   \n",
       "4      [12, 18, 10, 4, 8]  [-0.18122640200853707, 0.028082169736885904, 1...   \n",
       "..                    ...                                                ...   \n",
       "435      [2, 6, 8, 14, 4]  [0.036170634538342204, -0.09685605076869454, -...   \n",
       "436      [2, 6, 8, 15, 4]  [0.4057130761120116, -0.04510850401064511, -0....   \n",
       "437      [2, 6, 8, 14, 4]  [-0.008214575720585537, -0.1502473576544341, 0...   \n",
       "438      [2, 6, 8, 16, 4]  [0.0236955700539367, -0.01171416826292973, -0....   \n",
       "439      [2, 6, 9, 14, 4]  [-0.018236473050442514, -1.0903682782997828, 0...   \n",
       "\n",
       "     accuracy  accuracy_loss  compression   share_t  train_t     acc_t  \n",
       "0      0.9856        -0.0010     5.962336  0.944295      0.0  3.415709  \n",
       "1      0.9790         0.0056     9.363926  0.393168      0.0  3.356598  \n",
       "2      0.9772         0.0074     9.150131  0.418104      0.0  3.473027  \n",
       "3      0.9844         0.0002     7.655218  0.687930      0.0  3.434410  \n",
       "4      0.9806         0.0040     8.838490  0.526406      0.0  3.339850  \n",
       "..        ...            ...          ...       ...      ...       ...  \n",
       "435    0.9750         0.0096    13.187112  0.516554      0.0  3.413884  \n",
       "436    0.9742         0.0104    13.185719  0.554315      0.0  3.438506  \n",
       "437    0.9750         0.0096    13.187112  0.518092      0.0  3.378943  \n",
       "438    0.9746         0.0100    13.184329  0.550472      0.0  3.408816  \n",
       "439    0.9774         0.0072    12.655223  0.545956      0.0  3.412848  \n",
       "\n",
       "[440 rows x 11 columns]"
      ]
     },
     "execution_count": 9,
     "metadata": {},
     "output_type": "execute_result"
    }
   ],
   "source": [
    "pso_data"
   ]
  },
  {
   "cell_type": "code",
   "execution_count": 10,
   "metadata": {},
   "outputs": [
    {
     "data": {
      "image/png": "[encoded data removed]",
      "text/plain": [
       "<Figure size 1800x1000 with 1 Axes>"
      ]
     },
     "metadata": {},
     "output_type": "display_data"
    }
   ],
   "source": [
    "plot_alcr(pso_data)"
   ]
  }
 ],
 "metadata": {
  "kernelspec": {
   "display_name": "Python 3.10.8 64-bit",
   "language": "python",
   "name": "python3"
  },
  "language_info": {
   "codemirror_mode": {
    "name": "ipython",
    "version": 3
   },
   "file_extension": ".py",
   "mimetype": "text/x-python",
   "name": "python",
   "nbconvert_exporter": "python",
   "pygments_lexer": "ipython3",
   "version": "3.10.8"
  },
  "orig_nbformat": 4,
  "vscode": {
   "interpreter": {
    "hash": "97cc609b13305c559618ec78a438abc56230b9381f827f22d070313b9a1f3777"
   }
  }
 },
 "nbformat": 4,
 "nbformat_minor": 2
}
