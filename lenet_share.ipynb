{
 "cells": [
  {
   "cell_type": "markdown",
   "metadata": {},
   "source": [
    "## Demonstration of layer sharing on LeNet-5"
   ]
  },
  {
   "cell_type": "code",
   "execution_count": 1,
   "metadata": {},
   "outputs": [],
   "source": [
    "import torch\n",
    "import torch.nn as nn\n",
    "import pandas as pd\n",
    "\n",
    "from data.mnist import MnistDataset\n",
    "from models.lenet.lenet import LeNet5\n",
    "from utils.train import *\n",
    "from utils.quantize import *\n",
    "from utils.weight_sharing import *\n",
    "from utils.plot import *"
   ]
  },
  {
   "cell_type": "markdown",
   "metadata": {},
   "source": [
    "Parameters"
   ]
  },
  {
   "cell_type": "code",
   "execution_count": 2,
   "metadata": {},
   "outputs": [],
   "source": [
    "LEARNING_RATE = 0.0001\n",
    "BATCH_SIZE = 32\n",
    "N_CLASSES = 10\n",
    "DEVICE = None\n",
    "EPOCHS = 100\n",
    "\n",
    "NET_PATH = './models/lenet/saves/lenet.save'\n",
    "SAVE_DATA = './results/test_share.csv'"
   ]
  },
  {
   "cell_type": "markdown",
   "metadata": {},
   "source": [
    "Setting up the components"
   ]
  },
  {
   "cell_type": "code",
   "execution_count": 3,
   "metadata": {},
   "outputs": [
    {
     "name": "stdout",
     "output_type": "stream",
     "text": [
      "layer_name #weights #bias w_locked CR\n",
      "feature_extractor.0 150 6 False 1.00\n",
      "feature_extractor.3 2400 16 False 1.00\n",
      "feature_extractor.6 48000 120 False 1.00\n",
      "classifier.0 10080 84 False 1.00\n",
      "classifier.2 840 10 False 1.00\n",
      "Sum num weights, bias:  61470 236\n",
      "Compression rate 1.00\n"
     ]
    }
   ],
   "source": [
    "dataset = MnistDataset(BATCH_SIZE, './data', val_split=0.5)\n",
    "model = LeNet5(N_CLASSES)\n",
    "criterion = nn.CrossEntropyLoss()\n",
    "\n",
    "lam_opt = lambda mod : torch.optim.Adam(mod.parameters(), lr=LEARNING_RATE)\n",
    "lam_train = lambda opt, epochs : train_net(model, criterion, opt, dataset, epochs, device=DEVICE)\n",
    "lam_test = lambda : get_accuracy(model, dataset.test_dl, DEVICE)\n",
    "\n",
    "ws_controller = WeightShare(model, lam_opt, lam_train, lam_test)\n",
    "ws_controller.print_layers_info()"
   ]
  },
  {
   "cell_type": "markdown",
   "metadata": {},
   "source": [
    "Getting the network"
   ]
  },
  {
   "cell_type": "code",
   "execution_count": 4,
   "metadata": {},
   "outputs": [],
   "source": [
    "optimizer = lam_opt(model)\n",
    "train_settings = [criterion, optimizer, dataset, EPOCHS, DEVICE, 1, True]\n",
    "\n",
    "get_trained(model, NET_PATH, train_settings)"
   ]
  },
  {
   "cell_type": "markdown",
   "metadata": {},
   "source": [
    "TEST - Sharing the whole network to given parameters"
   ]
  },
  {
   "cell_type": "code",
   "execution_count": 5,
   "metadata": {},
   "outputs": [
    {
     "data": {
      "text/plain": [
       "'\\nws_controller.share([50, 100, 400, 100, 20], [0,2,4], [1, 0, 1, 0, 2])\\n\\nws_controller.print_layers_info()\\n\\nlam_test()\\n'"
      ]
     },
     "execution_count": 5,
     "metadata": {},
     "output_type": "execute_result"
    }
   ],
   "source": [
    "\"\"\"\n",
    "ws_controller.share([50, 100, 400, 100, 20], [0,2,4], [1, 0, 1, 0, 2])\n",
    "\n",
    "ws_controller.print_layers_info()\n",
    "\n",
    "lam_test()\n",
    "\"\"\""
   ]
  },
  {
   "cell_type": "markdown",
   "metadata": {},
   "source": [
    "Setting scoring functions"
   ]
  },
  {
   "cell_type": "code",
   "execution_count": 6,
   "metadata": {},
   "outputs": [],
   "source": [
    "before_loss = get_accuracy(model, dataset.test_dl, DEVICE)\n",
    "\n",
    "lam_score1 = lambda _ : get_accuracy(model, dataset.test_dl, DEVICE)\n",
    "lam_score2 = lambda layer : layer.compression_rate()\n",
    "lam_score3 = lambda _ : (get_accuracy(model, dataset.test_dl, DEVICE) + get_accuracy(model, dataset.valid_dl, DEVICE)\\\n",
    "    + get_accuracy(model, dataset.train_dl, DEVICE)) / 3 "
   ]
  },
  {
   "cell_type": "markdown",
   "metadata": {},
   "source": [
    "TEST - sharing whole network with pre score-functions"
   ]
  },
  {
   "cell_type": "code",
   "execution_count": 7,
   "metadata": {},
   "outputs": [
    {
     "data": {
      "text/plain": [
       "'\\nlam_train = lambda opt, epochs : train_net(model, criterion, opt, dataset, epochs, device=DEVICE)\\n\\ndef pre_perf(layer):\\n    opt = lam_opt(model)\\n    lam_train(opt, 1)\\n\\nws_controller.get_layer_cluster_nums_perf(1, range(10,20), [lam_score1, lam_score2], pre_perf)\\nws_controller.get_layer_cluster_nums_perf(1, range(10,100), [lam_score1, lam_score2])\\n'"
      ]
     },
     "execution_count": 7,
     "metadata": {},
     "output_type": "execute_result"
    }
   ],
   "source": [
    "\"\"\"\n",
    "lam_train = lambda opt, epochs : train_net(model, criterion, opt, dataset, epochs, device=DEVICE)\n",
    "\n",
    "def pre_perf(layer):\n",
    "    opt = lam_opt(model)\n",
    "    lam_train(opt, 1)\n",
    "\n",
    "ws_controller.get_layer_cluster_nums_perf(1, range(10,20), [lam_score1, lam_score2], pre_perf)\n",
    "ws_controller.get_layer_cluster_nums_perf(1, range(10,100), [lam_score1, lam_score2])\n",
    "\"\"\""
   ]
  },
  {
   "cell_type": "markdown",
   "metadata": {},
   "source": [
    "Getting optimal num of clusters for a given layer"
   ]
  },
  {
   "cell_type": "code",
   "execution_count": 8,
   "metadata": {},
   "outputs": [],
   "source": [
    "data = {\n",
    "    'num clusters': [],\n",
    "    'accuracy': [],\n",
    "    'layer': []\n",
    "}\n",
    "\n",
    "data_types = {\n",
    "    'num clusters': 'int16',\n",
    "    'accuracy': 'float32',\n",
    "    'layer': 'uint8'\n",
    "}\n",
    "\n",
    "share_data = pd.DataFrame(data).astype(data_types)\n",
    "\n",
    "for layer in [0, 4]:\n",
    "    scores = ws_controller.get_layer_cluster_nums_perf(layer, range(2,3), [lam_score1])\n",
    "    \n",
    "    for item in scores:\n",
    "        share_data = share_data.append({\n",
    "            'num clusters': item[0],\n",
    "            'accuracy loss': (before_loss - item[1][0]),\n",
    "            'layer': layer,\n",
    "        }, ignore_index=True).astype(data_types)\n",
    "\n",
    "share_data.to_csv(SAVE_DATA, index=False)"
   ]
  },
  {
   "cell_type": "markdown",
   "metadata": {},
   "source": [
    "Pot data"
   ]
  },
  {
   "cell_type": "code",
   "execution_count": 9,
   "metadata": {},
   "outputs": [
    {
     "data": {
      "image/png": "[encoded data removed]",
      "text/plain": [
       "<Figure size 1296x720 with 1 Axes>"
      ]
     },
     "metadata": {},
     "output_type": "display_data"
    }
   ],
   "source": [
    "plot_alncl(share_data)"
   ]
  },
  {
   "cell_type": "markdown",
   "metadata": {},
   "source": [
    "After measurements the net is not changed"
   ]
  },
  {
   "cell_type": "code",
   "execution_count": 10,
   "metadata": {},
   "outputs": [
    {
     "name": "stdout",
     "output_type": "stream",
     "text": [
      "layer_name #weights #bias w_locked CR\n",
      "feature_extractor.0 150 6 False 1.00\n",
      "feature_extractor.3 2400 16 False 1.00\n",
      "feature_extractor.6 48000 120 False 1.00\n",
      "classifier.0 10080 84 False 1.00\n",
      "classifier.2 840 10 False 1.00\n",
      "Sum num weights, bias:  61470 236\n",
      "Compression rate 1.00\n"
     ]
    }
   ],
   "source": [
    "ws_controller.print_layers_info()"
   ]
  },
  {
   "cell_type": "code",
   "execution_count": 11,
   "metadata": {},
   "outputs": [
    {
     "name": "stdout",
     "output_type": "stream",
     "text": [
      "[[[3, 0.9838], [4, 0.985], [5, 0.9848], [6, 0.9846], [7, 0.9846], [8, 0.9852], [9, 0.9854]], [[4, 0.9826], [6, 0.985], [7, 0.9852], [8, 0.9846], [9, 0.9842]], [[5, 0.9806], [6, 0.9844], [7, 0.9834], [8, 0.9852], [9, 0.985]], [[4, 0.9826], [5, 0.9824], [6, 0.9846], [7, 0.9854], [8, 0.985], [9, 0.9846]], [[4, 0.9844], [5, 0.9854], [6, 0.9846], [7, 0.9858], [8, 0.986], [9, 0.986]]]\n"
     ]
    }
   ],
   "source": [
    "layer_ranges = [range(1, 10), range(1, 10), range(1, 10), range(1, 10), range(1, 10)]\n",
    "lam_score1 = lambda _ : get_accuracy(model, dataset.test_dl, DEVICE)\n",
    "\n",
    "ws_controller.get_optimized_layer_ranges(layer_ranges, lam_score1, 0.98, savefile='./results/lol.csv')"
   ]
  }
 ],
 "metadata": {
  "kernelspec": {
   "display_name": "Python 3.10.8 64-bit",
   "language": "python",
   "name": "python3"
  },
  "language_info": {
   "codemirror_mode": {
    "name": "ipython",
    "version": 3
   },
   "file_extension": ".py",
   "mimetype": "text/x-python",
   "name": "python",
   "nbconvert_exporter": "python",
   "pygments_lexer": "ipython3",
   "version": "3.10.8"
  },
  "orig_nbformat": 4,
  "vscode": {
   "interpreter": {
    "hash": "97cc609b13305c559618ec78a438abc56230b9381f827f22d070313b9a1f3777"
   }
  }
 },
 "nbformat": 4,
 "nbformat_minor": 2
}
