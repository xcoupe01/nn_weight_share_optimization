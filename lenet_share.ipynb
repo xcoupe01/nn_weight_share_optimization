{
 "cells": [
  {
   "cell_type": "markdown",
   "metadata": {},
   "source": [
    "## Demonstration of layer sharing on LeNet-5"
   ]
  },
  {
   "cell_type": "code",
   "execution_count": 1,
   "metadata": {},
   "outputs": [],
   "source": [
    "import torch\n",
    "import torch.nn as nn\n",
    "import pandas as pd\n",
    "\n",
    "from data.mnist import MnistDataset\n",
    "from models.lenet.lenet import LeNet5\n",
    "from utils.train import *\n",
    "from utils.quantize import *\n",
    "from utils.weight_sharing import *\n",
    "from utils.plot import *"
   ]
  },
  {
   "cell_type": "markdown",
   "metadata": {},
   "source": [
    "Parameters"
   ]
  },
  {
   "cell_type": "code",
   "execution_count": 2,
   "metadata": {},
   "outputs": [],
   "source": [
    "LEARNING_RATE = 0.0001\n",
    "BATCH_SIZE = 32\n",
    "N_CLASSES = 10\n",
    "DEVICE = None\n",
    "EPOCHS = 100\n",
    "\n",
    "NET_PATH = './models/lenet/saves/lenet.save'\n",
    "SAVE_DATA = './results/test_share.csv'"
   ]
  },
  {
   "cell_type": "markdown",
   "metadata": {},
   "source": [
    "Setting up the components"
   ]
  },
  {
   "cell_type": "code",
   "execution_count": 3,
   "metadata": {},
   "outputs": [
    {
     "name": "stdout",
     "output_type": "stream",
     "text": [
      "layer_name #weights #bias w_locked CR\n",
      "feature_extractor.0 150 6 False 1.00\n",
      "feature_extractor.3 2400 16 False 1.00\n",
      "feature_extractor.6 48000 120 False 1.00\n",
      "classifier.0 10080 84 False 1.00\n",
      "classifier.2 840 10 False 1.00\n",
      "Sum num weights, bias:  61470 236\n",
      "Compression rate 1.00\n"
     ]
    }
   ],
   "source": [
    "dataset = MnistDataset(BATCH_SIZE, './data', val_split=0.5)\n",
    "model = LeNet5(N_CLASSES)\n",
    "criterion = nn.CrossEntropyLoss()\n",
    "\n",
    "lam_opt = lambda mod : torch.optim.Adam(mod.parameters(), lr=LEARNING_RATE)\n",
    "lam_train = lambda opt, epochs : train_net(model, criterion, opt, dataset, epochs, device=DEVICE)\n",
    "lam_test = lambda : get_accuracy(model, dataset.test_dl, DEVICE)\n",
    "\n",
    "ws_controller = WeightShare(model, lam_opt, lam_train, lam_test)\n",
    "ws_controller.print_layers_info()"
   ]
  },
  {
   "cell_type": "markdown",
   "metadata": {},
   "source": [
    "Getting the network"
   ]
  },
  {
   "cell_type": "code",
   "execution_count": 4,
   "metadata": {},
   "outputs": [],
   "source": [
    "optimizer = lam_opt(model)\n",
    "train_settings = [criterion, optimizer, dataset, EPOCHS, DEVICE, 1, True]\n",
    "\n",
    "get_trained(model, NET_PATH, train_settings)"
   ]
  },
  {
   "cell_type": "markdown",
   "metadata": {},
   "source": [
    "TEST - Sharing the whole network to given parameters"
   ]
  },
  {
   "cell_type": "code",
   "execution_count": 5,
   "metadata": {},
   "outputs": [
    {
     "name": "stdout",
     "output_type": "stream",
     "text": [
      "0.3426652 <class 'numpy.float32'>\n",
      "0.6718382 <class 'numpy.float32'> (0.6718382239341736, 0)\n"
     ]
    },
    {
     "data": {
      "text/plain": [
       "{'accuracy': 0.9846,\n",
       " 'compression': 1.4442953020134228,\n",
       " 'times': {'train': 0,\n",
       "  'share': 0.0924983024597168,\n",
       "  'test': 0.8216104507446289}}"
      ]
     },
     "execution_count": 5,
     "metadata": {},
     "output_type": "execute_result"
    }
   ],
   "source": [
    "\n",
    "ws_controller.share([20, 20, 20, 20, 20], [0], [0, 0, 0, 0, 0])\n"
   ]
  },
  {
   "cell_type": "markdown",
   "metadata": {},
   "source": [
    "Setting scoring functions"
   ]
  },
  {
   "cell_type": "code",
   "execution_count": null,
   "metadata": {},
   "outputs": [],
   "source": [
    "before_loss = get_accuracy(model, dataset.test_dl, DEVICE)\n",
    "\n",
    "lam_score1 = lambda _ : get_accuracy(model, dataset.test_dl, DEVICE)\n",
    "lam_score2 = lambda layer : layer.compression_rate()\n",
    "lam_score3 = lambda _ : (get_accuracy(model, dataset.test_dl, DEVICE) + get_accuracy(model, dataset.valid_dl, DEVICE)\\\n",
    "    + get_accuracy(model, dataset.train_dl, DEVICE)) / 3 "
   ]
  },
  {
   "cell_type": "markdown",
   "metadata": {},
   "source": [
    "TEST - sharing whole network with pre score-functions"
   ]
  },
  {
   "cell_type": "code",
   "execution_count": null,
   "metadata": {},
   "outputs": [],
   "source": [
    "\"\"\"\n",
    "lam_train = lambda opt, epochs : train_net(model, criterion, opt, dataset, epochs, device=DEVICE)\n",
    "\n",
    "def pre_perf(layer):\n",
    "    opt = lam_opt(model)\n",
    "    lam_train(opt, 1)\n",
    "\n",
    "ws_controller.get_layer_cluster_nums_perf(1, range(10,20), [lam_score1, lam_score2], pre_perf)\n",
    "ws_controller.get_layer_cluster_nums_perf(1, range(10,100), [lam_score1, lam_score2])\n",
    "\"\"\""
   ]
  },
  {
   "cell_type": "markdown",
   "metadata": {},
   "source": [
    "Getting optimal num of clusters for a given layer"
   ]
  },
  {
   "cell_type": "code",
   "execution_count": null,
   "metadata": {},
   "outputs": [],
   "source": [
    "data = {\n",
    "    'num clusters': [],\n",
    "    'accuracy': [],\n",
    "    'layer': []\n",
    "}\n",
    "\n",
    "data_types = {\n",
    "    'num clusters': 'int16',\n",
    "    'accuracy': 'float32',\n",
    "    'layer': 'uint8'\n",
    "}\n",
    "\n",
    "share_data = pd.DataFrame(data).astype(data_types)\n",
    "\n",
    "for layer in [0, 4]:\n",
    "    scores = ws_controller.get_layer_cluster_nums_perf(layer, range(2,3), [lam_score1])\n",
    "    \n",
    "    for item in scores:\n",
    "        share_data = share_data.append({\n",
    "            'num clusters': item[0],\n",
    "            'accuracy loss': (before_loss - item[1][0]),\n",
    "            'layer': layer,\n",
    "        }, ignore_index=True).astype(data_types)\n",
    "\n",
    "share_data.to_csv(SAVE_DATA, index=False)"
   ]
  },
  {
   "cell_type": "markdown",
   "metadata": {},
   "source": [
    "Pot data"
   ]
  },
  {
   "cell_type": "code",
   "execution_count": null,
   "metadata": {},
   "outputs": [],
   "source": [
    "plot_alncl(share_data)"
   ]
  },
  {
   "cell_type": "markdown",
   "metadata": {},
   "source": [
    "After measurements the net is not changed"
   ]
  },
  {
   "cell_type": "code",
   "execution_count": null,
   "metadata": {},
   "outputs": [],
   "source": [
    "ws_controller.print_layers_info()"
   ]
  },
  {
   "cell_type": "code",
   "execution_count": null,
   "metadata": {},
   "outputs": [],
   "source": [
    "layer_ranges = [range(1, 10), range(1, 10), range(1, 10), range(1, 10), range(1, 10)]\n",
    "lam_score1 = lambda _ : get_accuracy(model, dataset.test_dl, DEVICE)\n",
    "\n",
    "ws_controller.get_optimized_layer_ranges(layer_ranges, lam_score1, 0.98, savefile='./results/lol.csv')"
   ]
  }
 ],
 "metadata": {
  "kernelspec": {
   "display_name": "Python 3.10.8 64-bit",
   "language": "python",
   "name": "python3"
  },
  "language_info": {
   "codemirror_mode": {
    "name": "ipython",
    "version": 3
   },
   "file_extension": ".py",
   "mimetype": "text/x-python",
   "name": "python",
   "nbconvert_exporter": "python",
   "pygments_lexer": "ipython3",
   "version": "3.10.8 (main, Nov 14 2022, 00:00:00) [GCC 12.2.1 20220819 (Red Hat 12.2.1-2)]"
  },
  "orig_nbformat": 4,
  "vscode": {
   "interpreter": {
    "hash": "97cc609b13305c559618ec78a438abc56230b9381f827f22d070313b9a1f3777"
   }
  }
 },
 "nbformat": 4,
 "nbformat_minor": 2
}
